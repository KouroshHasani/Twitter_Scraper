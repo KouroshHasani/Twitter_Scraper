{
 "cells": [
  {
   "cell_type": "code",
   "execution_count": 147,
   "id": "bf4d8da6-fafc-4ab8-b35a-1f54699ea123",
   "metadata": {},
   "outputs": [],
   "source": [
    "from src import DATA_DIR\n",
    "import datetime as dt"
   ]
  },
  {
   "cell_type": "code",
   "execution_count": 142,
   "id": "2a92d061-1277-41ae-a134-80e15e60f300",
   "metadata": {},
   "outputs": [],
   "source": [
    "def read_csv_file(path, index_col=None):\n",
    "    if index_col is None:\n",
    "        return pd.read_csv(path)\n",
    "\n",
    "    else:\n",
    "        return pd.read_csv(path, index_col=index_col)"
   ]
  },
  {
   "cell_type": "code",
   "execution_count": 440,
   "id": "f578ac72-cdf1-4e1a-958b-fd4b26b734ca",
   "metadata": {},
   "outputs": [],
   "source": [
    "# Since pytrends is returning a DataFrame object, we need pandas:\n",
    "import pandas as pd\n",
    "# Import of pytrends (needs to be pip installed first):\n",
    "from pytrends.request import TrendReq\n",
    "\n",
    "pytrends = TrendReq(tz=360)\n",
    "kw_list = ['شیرآلات']\n",
    "\n",
    "search_df = pytrends.get_historical_interest(kw_list,\n",
    "                                             year_start=2022,\n",
    "                                             month_start=3,\n",
    "                                             day_start=19,\n",
    "                                             hour_start=0,\n",
    "                                             \n",
    "                                             year_end=2022,\n",
    "                                             month_end=5,\n",
    "                                             day_end=27,\n",
    "                                             hour_end=23,\n",
    "                                             \n",
    "                                             cat=0, geo='', gprop='', sleep=60)"
   ]
  },
  {
   "cell_type": "code",
   "execution_count": 385,
   "id": "0621e1e3-bd99-48d2-9d57-f65a96a92b72",
   "metadata": {},
   "outputs": [],
   "source": [
    "df = search_df.iloc[:, :]\n",
    "day, hour, time = [], [], []\n",
    "for i in range(len(df)):\n",
    "    day.append(weekday[df.index[i].weekday()])\n",
    "    hour.append(f'{df.index[i].hour}:00')\n",
    "    time.append(str(dt.datetime.strptime(str(df.index[i]), '%Y-%m-%d %H:%M:%S')))\n",
    "    \n",
    "df['Weekday'] = day\n",
    "df['hour'] = hour\n",
    "df['Date'] = time"
   ]
  },
  {
   "cell_type": "code",
   "execution_count": null,
   "id": "8e1655c4-7334-42c9-b57a-a7dfce5cecac",
   "metadata": {},
   "outputs": [],
   "source": []
  },
  {
   "cell_type": "code",
   "execution_count": 441,
   "id": "d7835e83-0e58-4bcb-ad5d-aea6583cdd98",
   "metadata": {},
   "outputs": [],
   "source": [
    "shou = read_csv_file(DATA_DIR / \"TV.csv\")\n",
    "time = []\n",
    "for i in range(len(shou)):\n",
    "    time.append(str(dt.datetime.strptime(shou.Date[i], '%Y/%m/%d %H:%M:%S')))\n",
    "\n",
    "shou['Date'] = time"
   ]
  },
  {
   "cell_type": "code",
   "execution_count": 442,
   "id": "f68572fb-bd6d-4602-a588-9d7acda9e200",
   "metadata": {},
   "outputs": [],
   "source": [
    "weekday = {\n",
    "    5: 'Saturday',\n",
    "    6: 'Sunday',\n",
    "    0: 'Monday',\n",
    "    1: 'Tuesday',\n",
    "    2: 'Wednesday',\n",
    "    3: 'Thursday',\n",
    "    4: 'Friday',\n",
    "}"
   ]
  },
  {
   "cell_type": "code",
   "execution_count": null,
   "id": "dcbaf103-538f-4c65-8607-378c7449b3f3",
   "metadata": {},
   "outputs": [],
   "source": []
  },
  {
   "cell_type": "code",
   "execution_count": 443,
   "id": "9cc5fabc-f498-429c-b7e6-336269a54088",
   "metadata": {},
   "outputs": [],
   "source": [
    "time__ = []\n",
    "a = dt.datetime.strptime(\"2022/03/19 00:00:00\", '%Y/%m/%d %H:%M:%S')\n",
    "for i in range(70*24):\n",
    "    time__.append(str(a + timedelta(hours=i)))\n",
    "\n",
    "df_ = pd.DataFrame(time__, columns=['Date'])"
   ]
  },
  {
   "cell_type": "code",
   "execution_count": 444,
   "id": "88b70e24-303f-4f11-9210-28c5e6d878fa",
   "metadata": {
    "tags": []
   },
   "outputs": [],
   "source": [
    "list1 = []\n",
    "for i in range(len(df_.Date)):\n",
    "    if str(df.Date[i]) in list(df_.Date):\n",
    "        list1.append(df.loc[df.Date == df.Date[i]].iloc[0, 0])\n",
    "    else:\n",
    "        list1.append(0)\n",
    "\n",
    "df_['شیرآلات'] = list1"
   ]
  },
  {
   "cell_type": "code",
   "execution_count": 445,
   "id": "dafd04e1-a41c-4e43-9929-da372c1a44df",
   "metadata": {},
   "outputs": [],
   "source": [
    "day, hour, time = [], [], []\n",
    "for i in range(len(df_)):\n",
    "    _ = dt.datetime.strptime(str(df_.Date[i]), '%Y-%m-%d %H:%M:%S')\n",
    "    time.append(_)\n",
    "    day.append(weekday[_.weekday()])\n",
    "    hour.append(f'{_.hour}:00')\n",
    "    \n",
    "df_['Weekday'] = day\n",
    "df_['hour'] = hour\n",
    "df_['Date'] = time"
   ]
  },
  {
   "cell_type": "code",
   "execution_count": 484,
   "id": "95aa13bd-ee7c-46ec-ac30-8aea37bf1cc7",
   "metadata": {},
   "outputs": [],
   "source": [
    "i = 6\n",
    "part_one = df_.iloc[168*i:(i+1)*168, :]"
   ]
  },
  {
   "cell_type": "code",
   "execution_count": 485,
   "id": "6c9da48c-3dad-4760-9dfc-67e34983dcb7",
   "metadata": {
    "tags": []
   },
   "outputs": [],
   "source": [
    "list_ = []\n",
    "data = []\n",
    "\n",
    "list__ = []\n",
    "text = []\n",
    "\n",
    "for i in part_one.Weekday.unique():\n",
    "    _ = part_one.loc[part_one.Weekday == i]\n",
    "    \n",
    "    for j in range(len(_)):\n",
    "        list_.append(list(_['شیرآلات'])[j])\n",
    "        \n",
    "        if str(list(_.Date)[j]) in list(shou.Date):\n",
    "            list__.append(shou.loc[shou.Date == str(list(_.Date)[j])].iloc[0, 1])\n",
    "        \n",
    "        else:\n",
    "            list__.append(\"\")\n",
    "    \n",
    "    data.append(list_)\n",
    "    list_ = []\n",
    "    \n",
    "    text.append(list__)\n",
    "    list__ = []"
   ]
  },
  {
   "cell_type": "code",
   "execution_count": 486,
   "id": "fbc564e1-db30-4cce-bbdc-0dfe993a90d5",
   "metadata": {
    "tags": []
   },
   "outputs": [
    {
     "data": {
      "application/vnd.plotly.v1+json": {
       "config": {
        "plotlyServerURL": "https://plot.ly"
       },
       "data": [
        {
         "colorscale": [
          [
           0,
           "rgb(248, 255, 143)"
          ],
          [
           1,
           "rgb(240, 24, 42)"
          ]
         ],
         "reversescale": false,
         "showscale": false,
         "type": "heatmap",
         "x": [
          "0:00",
          "1:00",
          "2:00",
          "3:00",
          "4:00",
          "5:00",
          "6:00",
          "7:00",
          "8:00",
          "9:00",
          "10:00",
          "11:00",
          "12:00",
          "13:00",
          "14:00",
          "15:00",
          "16:00",
          "17:00",
          "18:00",
          "19:00",
          "20:00",
          "21:00",
          "22:00",
          "23:00"
         ],
         "xgap": 2,
         "y": [
          "Saturday",
          "Sunday",
          "Monday",
          "Tuesday",
          "Wednesday",
          "Thursday",
          "Friday"
         ],
         "ygap": 2,
         "z": [
          [
           74,
           0,
           0,
           0,
           0,
           0,
           0,
           0,
           0,
           0,
           100,
           0,
           0,
           0,
           0,
           83,
           0,
           72,
           0,
           62,
           0,
           0,
           59,
           0
          ],
          [
           0,
           0,
           0,
           0,
           0,
           0,
           0,
           0,
           0,
           0,
           0,
           0,
           0,
           0,
           0,
           85,
           0,
           0,
           0,
           0,
           61,
           0,
           0,
           0
          ],
          [
           0,
           67,
           0,
           0,
           0,
           0,
           0,
           0,
           0,
           0,
           0,
           0,
           0,
           0,
           0,
           0,
           0,
           0,
           0,
           0,
           0,
           0,
           0,
           0
          ],
          [
           0,
           0,
           0,
           0,
           0,
           0,
           0,
           0,
           0,
           0,
           0,
           0,
           0,
           0,
           0,
           0,
           0,
           0,
           0,
           0,
           0,
           0,
           0,
           0
          ],
          [
           0,
           0,
           0,
           0,
           0,
           0,
           0,
           0,
           0,
           0,
           0,
           0,
           0,
           0,
           0,
           71,
           66,
           59,
           55,
           0,
           0,
           0,
           53,
           0
          ],
          [
           0,
           57,
           0,
           0,
           0,
           0,
           0,
           0,
           0,
           0,
           0,
           0,
           0,
           0,
           0,
           0,
           0,
           0,
           0,
           48,
           47,
           0,
           0,
           0
          ],
          [
           50,
           0,
           0,
           65,
           0,
           0,
           0,
           0,
           0,
           0,
           0,
           0,
           79,
           0,
           0,
           0,
           0,
           0,
           0,
           0,
           0,
           0,
           0,
           0
          ]
         ]
        }
       ],
       "layout": {
        "annotations": [
         {
          "font": {
           "color": "#FFFFFF"
          },
          "showarrow": false,
          "text": "",
          "x": "0:00",
          "xref": "x",
          "y": "Saturday",
          "yref": "y"
         },
         {
          "font": {
           "color": "#000000"
          },
          "showarrow": false,
          "text": "",
          "x": "1:00",
          "xref": "x",
          "y": "Saturday",
          "yref": "y"
         },
         {
          "font": {
           "color": "#000000"
          },
          "showarrow": false,
          "text": "A - 7",
          "x": "2:00",
          "xref": "x",
          "y": "Saturday",
          "yref": "y"
         },
         {
          "font": {
           "color": "#000000"
          },
          "showarrow": false,
          "text": "",
          "x": "3:00",
          "xref": "x",
          "y": "Saturday",
          "yref": "y"
         },
         {
          "font": {
           "color": "#000000"
          },
          "showarrow": false,
          "text": "",
          "x": "4:00",
          "xref": "x",
          "y": "Saturday",
          "yref": "y"
         },
         {
          "font": {
           "color": "#000000"
          },
          "showarrow": false,
          "text": "",
          "x": "5:00",
          "xref": "x",
          "y": "Saturday",
          "yref": "y"
         },
         {
          "font": {
           "color": "#000000"
          },
          "showarrow": false,
          "text": "",
          "x": "6:00",
          "xref": "x",
          "y": "Saturday",
          "yref": "y"
         },
         {
          "font": {
           "color": "#000000"
          },
          "showarrow": false,
          "text": "",
          "x": "7:00",
          "xref": "x",
          "y": "Saturday",
          "yref": "y"
         },
         {
          "font": {
           "color": "#000000"
          },
          "showarrow": false,
          "text": "A - 7",
          "x": "8:00",
          "xref": "x",
          "y": "Saturday",
          "yref": "y"
         },
         {
          "font": {
           "color": "#000000"
          },
          "showarrow": false,
          "text": "B - 8",
          "x": "9:00",
          "xref": "x",
          "y": "Saturday",
          "yref": "y"
         },
         {
          "font": {
           "color": "#FFFFFF"
          },
          "showarrow": false,
          "text": "C - 1",
          "x": "10:00",
          "xref": "x",
          "y": "Saturday",
          "yref": "y"
         },
         {
          "font": {
           "color": "#000000"
          },
          "showarrow": false,
          "text": "E - 8",
          "x": "11:00",
          "xref": "x",
          "y": "Saturday",
          "yref": "y"
         },
         {
          "font": {
           "color": "#000000"
          },
          "showarrow": false,
          "text": "",
          "x": "12:00",
          "xref": "x",
          "y": "Saturday",
          "yref": "y"
         },
         {
          "font": {
           "color": "#000000"
          },
          "showarrow": false,
          "text": "",
          "x": "13:00",
          "xref": "x",
          "y": "Saturday",
          "yref": "y"
         },
         {
          "font": {
           "color": "#000000"
          },
          "showarrow": false,
          "text": "",
          "x": "14:00",
          "xref": "x",
          "y": "Saturday",
          "yref": "y"
         },
         {
          "font": {
           "color": "#FFFFFF"
          },
          "showarrow": false,
          "text": "",
          "x": "15:00",
          "xref": "x",
          "y": "Saturday",
          "yref": "y"
         },
         {
          "font": {
           "color": "#000000"
          },
          "showarrow": false,
          "text": "",
          "x": "16:00",
          "xref": "x",
          "y": "Saturday",
          "yref": "y"
         },
         {
          "font": {
           "color": "#FFFFFF"
          },
          "showarrow": false,
          "text": "",
          "x": "17:00",
          "xref": "x",
          "y": "Saturday",
          "yref": "y"
         },
         {
          "font": {
           "color": "#000000"
          },
          "showarrow": false,
          "text": "C - 1",
          "x": "18:00",
          "xref": "x",
          "y": "Saturday",
          "yref": "y"
         },
         {
          "font": {
           "color": "#FFFFFF"
          },
          "showarrow": false,
          "text": "",
          "x": "19:00",
          "xref": "x",
          "y": "Saturday",
          "yref": "y"
         },
         {
          "font": {
           "color": "#000000"
          },
          "showarrow": false,
          "text": "",
          "x": "20:00",
          "xref": "x",
          "y": "Saturday",
          "yref": "y"
         },
         {
          "font": {
           "color": "#000000"
          },
          "showarrow": false,
          "text": "",
          "x": "21:00",
          "xref": "x",
          "y": "Saturday",
          "yref": "y"
         },
         {
          "font": {
           "color": "#FFFFFF"
          },
          "showarrow": false,
          "text": "",
          "x": "22:00",
          "xref": "x",
          "y": "Saturday",
          "yref": "y"
         },
         {
          "font": {
           "color": "#000000"
          },
          "showarrow": false,
          "text": "",
          "x": "23:00",
          "xref": "x",
          "y": "Saturday",
          "yref": "y"
         },
         {
          "font": {
           "color": "#000000"
          },
          "showarrow": false,
          "text": "",
          "x": "0:00",
          "xref": "x",
          "y": "Sunday",
          "yref": "y"
         },
         {
          "font": {
           "color": "#000000"
          },
          "showarrow": false,
          "text": "",
          "x": "1:00",
          "xref": "x",
          "y": "Sunday",
          "yref": "y"
         },
         {
          "font": {
           "color": "#000000"
          },
          "showarrow": false,
          "text": "",
          "x": "2:00",
          "xref": "x",
          "y": "Sunday",
          "yref": "y"
         },
         {
          "font": {
           "color": "#000000"
          },
          "showarrow": false,
          "text": "",
          "x": "3:00",
          "xref": "x",
          "y": "Sunday",
          "yref": "y"
         },
         {
          "font": {
           "color": "#000000"
          },
          "showarrow": false,
          "text": "",
          "x": "4:00",
          "xref": "x",
          "y": "Sunday",
          "yref": "y"
         },
         {
          "font": {
           "color": "#000000"
          },
          "showarrow": false,
          "text": "",
          "x": "5:00",
          "xref": "x",
          "y": "Sunday",
          "yref": "y"
         },
         {
          "font": {
           "color": "#000000"
          },
          "showarrow": false,
          "text": "",
          "x": "6:00",
          "xref": "x",
          "y": "Sunday",
          "yref": "y"
         },
         {
          "font": {
           "color": "#000000"
          },
          "showarrow": false,
          "text": "",
          "x": "7:00",
          "xref": "x",
          "y": "Sunday",
          "yref": "y"
         },
         {
          "font": {
           "color": "#000000"
          },
          "showarrow": false,
          "text": "A - 7",
          "x": "8:00",
          "xref": "x",
          "y": "Sunday",
          "yref": "y"
         },
         {
          "font": {
           "color": "#000000"
          },
          "showarrow": false,
          "text": "C - 1",
          "x": "9:00",
          "xref": "x",
          "y": "Sunday",
          "yref": "y"
         },
         {
          "font": {
           "color": "#000000"
          },
          "showarrow": false,
          "text": "",
          "x": "10:00",
          "xref": "x",
          "y": "Sunday",
          "yref": "y"
         },
         {
          "font": {
           "color": "#000000"
          },
          "showarrow": false,
          "text": "A - 1",
          "x": "11:00",
          "xref": "x",
          "y": "Sunday",
          "yref": "y"
         },
         {
          "font": {
           "color": "#000000"
          },
          "showarrow": false,
          "text": "",
          "x": "12:00",
          "xref": "x",
          "y": "Sunday",
          "yref": "y"
         },
         {
          "font": {
           "color": "#000000"
          },
          "showarrow": false,
          "text": "",
          "x": "13:00",
          "xref": "x",
          "y": "Sunday",
          "yref": "y"
         },
         {
          "font": {
           "color": "#000000"
          },
          "showarrow": false,
          "text": "",
          "x": "14:00",
          "xref": "x",
          "y": "Sunday",
          "yref": "y"
         },
         {
          "font": {
           "color": "#FFFFFF"
          },
          "showarrow": false,
          "text": "",
          "x": "15:00",
          "xref": "x",
          "y": "Sunday",
          "yref": "y"
         },
         {
          "font": {
           "color": "#000000"
          },
          "showarrow": false,
          "text": "",
          "x": "16:00",
          "xref": "x",
          "y": "Sunday",
          "yref": "y"
         },
         {
          "font": {
           "color": "#000000"
          },
          "showarrow": false,
          "text": "",
          "x": "17:00",
          "xref": "x",
          "y": "Sunday",
          "yref": "y"
         },
         {
          "font": {
           "color": "#000000"
          },
          "showarrow": false,
          "text": "",
          "x": "18:00",
          "xref": "x",
          "y": "Sunday",
          "yref": "y"
         },
         {
          "font": {
           "color": "#000000"
          },
          "showarrow": false,
          "text": "",
          "x": "19:00",
          "xref": "x",
          "y": "Sunday",
          "yref": "y"
         },
         {
          "font": {
           "color": "#FFFFFF"
          },
          "showarrow": false,
          "text": "",
          "x": "20:00",
          "xref": "x",
          "y": "Sunday",
          "yref": "y"
         },
         {
          "font": {
           "color": "#000000"
          },
          "showarrow": false,
          "text": "",
          "x": "21:00",
          "xref": "x",
          "y": "Sunday",
          "yref": "y"
         },
         {
          "font": {
           "color": "#000000"
          },
          "showarrow": false,
          "text": "",
          "x": "22:00",
          "xref": "x",
          "y": "Sunday",
          "yref": "y"
         },
         {
          "font": {
           "color": "#000000"
          },
          "showarrow": false,
          "text": "",
          "x": "23:00",
          "xref": "x",
          "y": "Sunday",
          "yref": "y"
         },
         {
          "font": {
           "color": "#000000"
          },
          "showarrow": false,
          "text": "",
          "x": "0:00",
          "xref": "x",
          "y": "Monday",
          "yref": "y"
         },
         {
          "font": {
           "color": "#FFFFFF"
          },
          "showarrow": false,
          "text": "",
          "x": "1:00",
          "xref": "x",
          "y": "Monday",
          "yref": "y"
         },
         {
          "font": {
           "color": "#000000"
          },
          "showarrow": false,
          "text": "",
          "x": "2:00",
          "xref": "x",
          "y": "Monday",
          "yref": "y"
         },
         {
          "font": {
           "color": "#000000"
          },
          "showarrow": false,
          "text": "",
          "x": "3:00",
          "xref": "x",
          "y": "Monday",
          "yref": "y"
         },
         {
          "font": {
           "color": "#000000"
          },
          "showarrow": false,
          "text": "",
          "x": "4:00",
          "xref": "x",
          "y": "Monday",
          "yref": "y"
         },
         {
          "font": {
           "color": "#000000"
          },
          "showarrow": false,
          "text": "",
          "x": "5:00",
          "xref": "x",
          "y": "Monday",
          "yref": "y"
         },
         {
          "font": {
           "color": "#000000"
          },
          "showarrow": false,
          "text": "",
          "x": "6:00",
          "xref": "x",
          "y": "Monday",
          "yref": "y"
         },
         {
          "font": {
           "color": "#000000"
          },
          "showarrow": false,
          "text": "",
          "x": "7:00",
          "xref": "x",
          "y": "Monday",
          "yref": "y"
         },
         {
          "font": {
           "color": "#000000"
          },
          "showarrow": false,
          "text": "A - 7",
          "x": "8:00",
          "xref": "x",
          "y": "Monday",
          "yref": "y"
         },
         {
          "font": {
           "color": "#000000"
          },
          "showarrow": false,
          "text": "B - 1",
          "x": "9:00",
          "xref": "x",
          "y": "Monday",
          "yref": "y"
         },
         {
          "font": {
           "color": "#000000"
          },
          "showarrow": false,
          "text": "C - 8",
          "x": "10:00",
          "xref": "x",
          "y": "Monday",
          "yref": "y"
         },
         {
          "font": {
           "color": "#000000"
          },
          "showarrow": false,
          "text": "",
          "x": "11:00",
          "xref": "x",
          "y": "Monday",
          "yref": "y"
         },
         {
          "font": {
           "color": "#000000"
          },
          "showarrow": false,
          "text": "",
          "x": "12:00",
          "xref": "x",
          "y": "Monday",
          "yref": "y"
         },
         {
          "font": {
           "color": "#000000"
          },
          "showarrow": false,
          "text": "",
          "x": "13:00",
          "xref": "x",
          "y": "Monday",
          "yref": "y"
         },
         {
          "font": {
           "color": "#000000"
          },
          "showarrow": false,
          "text": "",
          "x": "14:00",
          "xref": "x",
          "y": "Monday",
          "yref": "y"
         },
         {
          "font": {
           "color": "#000000"
          },
          "showarrow": false,
          "text": "",
          "x": "15:00",
          "xref": "x",
          "y": "Monday",
          "yref": "y"
         },
         {
          "font": {
           "color": "#000000"
          },
          "showarrow": false,
          "text": "C - 8",
          "x": "16:00",
          "xref": "x",
          "y": "Monday",
          "yref": "y"
         },
         {
          "font": {
           "color": "#000000"
          },
          "showarrow": false,
          "text": "E - 1",
          "x": "17:00",
          "xref": "x",
          "y": "Monday",
          "yref": "y"
         },
         {
          "font": {
           "color": "#000000"
          },
          "showarrow": false,
          "text": "",
          "x": "18:00",
          "xref": "x",
          "y": "Monday",
          "yref": "y"
         },
         {
          "font": {
           "color": "#000000"
          },
          "showarrow": false,
          "text": "",
          "x": "19:00",
          "xref": "x",
          "y": "Monday",
          "yref": "y"
         },
         {
          "font": {
           "color": "#000000"
          },
          "showarrow": false,
          "text": "",
          "x": "20:00",
          "xref": "x",
          "y": "Monday",
          "yref": "y"
         },
         {
          "font": {
           "color": "#000000"
          },
          "showarrow": false,
          "text": "",
          "x": "21:00",
          "xref": "x",
          "y": "Monday",
          "yref": "y"
         },
         {
          "font": {
           "color": "#000000"
          },
          "showarrow": false,
          "text": "",
          "x": "22:00",
          "xref": "x",
          "y": "Monday",
          "yref": "y"
         },
         {
          "font": {
           "color": "#000000"
          },
          "showarrow": false,
          "text": "",
          "x": "23:00",
          "xref": "x",
          "y": "Monday",
          "yref": "y"
         },
         {
          "font": {
           "color": "#000000"
          },
          "showarrow": false,
          "text": "C - 1",
          "x": "0:00",
          "xref": "x",
          "y": "Tuesday",
          "yref": "y"
         },
         {
          "font": {
           "color": "#000000"
          },
          "showarrow": false,
          "text": "",
          "x": "1:00",
          "xref": "x",
          "y": "Tuesday",
          "yref": "y"
         },
         {
          "font": {
           "color": "#000000"
          },
          "showarrow": false,
          "text": "",
          "x": "2:00",
          "xref": "x",
          "y": "Tuesday",
          "yref": "y"
         },
         {
          "font": {
           "color": "#000000"
          },
          "showarrow": false,
          "text": "",
          "x": "3:00",
          "xref": "x",
          "y": "Tuesday",
          "yref": "y"
         },
         {
          "font": {
           "color": "#000000"
          },
          "showarrow": false,
          "text": "",
          "x": "4:00",
          "xref": "x",
          "y": "Tuesday",
          "yref": "y"
         },
         {
          "font": {
           "color": "#000000"
          },
          "showarrow": false,
          "text": "",
          "x": "5:00",
          "xref": "x",
          "y": "Tuesday",
          "yref": "y"
         },
         {
          "font": {
           "color": "#000000"
          },
          "showarrow": false,
          "text": "E - 1",
          "x": "6:00",
          "xref": "x",
          "y": "Tuesday",
          "yref": "y"
         },
         {
          "font": {
           "color": "#000000"
          },
          "showarrow": false,
          "text": "",
          "x": "7:00",
          "xref": "x",
          "y": "Tuesday",
          "yref": "y"
         },
         {
          "font": {
           "color": "#000000"
          },
          "showarrow": false,
          "text": "",
          "x": "8:00",
          "xref": "x",
          "y": "Tuesday",
          "yref": "y"
         },
         {
          "font": {
           "color": "#000000"
          },
          "showarrow": false,
          "text": "C - 8",
          "x": "9:00",
          "xref": "x",
          "y": "Tuesday",
          "yref": "y"
         },
         {
          "font": {
           "color": "#000000"
          },
          "showarrow": false,
          "text": "B - 1",
          "x": "10:00",
          "xref": "x",
          "y": "Tuesday",
          "yref": "y"
         },
         {
          "font": {
           "color": "#000000"
          },
          "showarrow": false,
          "text": "",
          "x": "11:00",
          "xref": "x",
          "y": "Tuesday",
          "yref": "y"
         },
         {
          "font": {
           "color": "#000000"
          },
          "showarrow": false,
          "text": "",
          "x": "12:00",
          "xref": "x",
          "y": "Tuesday",
          "yref": "y"
         },
         {
          "font": {
           "color": "#000000"
          },
          "showarrow": false,
          "text": "",
          "x": "13:00",
          "xref": "x",
          "y": "Tuesday",
          "yref": "y"
         },
         {
          "font": {
           "color": "#000000"
          },
          "showarrow": false,
          "text": "",
          "x": "14:00",
          "xref": "x",
          "y": "Tuesday",
          "yref": "y"
         },
         {
          "font": {
           "color": "#000000"
          },
          "showarrow": false,
          "text": "",
          "x": "15:00",
          "xref": "x",
          "y": "Tuesday",
          "yref": "y"
         },
         {
          "font": {
           "color": "#000000"
          },
          "showarrow": false,
          "text": "",
          "x": "16:00",
          "xref": "x",
          "y": "Tuesday",
          "yref": "y"
         },
         {
          "font": {
           "color": "#000000"
          },
          "showarrow": false,
          "text": "",
          "x": "17:00",
          "xref": "x",
          "y": "Tuesday",
          "yref": "y"
         },
         {
          "font": {
           "color": "#000000"
          },
          "showarrow": false,
          "text": "",
          "x": "18:00",
          "xref": "x",
          "y": "Tuesday",
          "yref": "y"
         },
         {
          "font": {
           "color": "#000000"
          },
          "showarrow": false,
          "text": "",
          "x": "19:00",
          "xref": "x",
          "y": "Tuesday",
          "yref": "y"
         },
         {
          "font": {
           "color": "#000000"
          },
          "showarrow": false,
          "text": "",
          "x": "20:00",
          "xref": "x",
          "y": "Tuesday",
          "yref": "y"
         },
         {
          "font": {
           "color": "#000000"
          },
          "showarrow": false,
          "text": "",
          "x": "21:00",
          "xref": "x",
          "y": "Tuesday",
          "yref": "y"
         },
         {
          "font": {
           "color": "#000000"
          },
          "showarrow": false,
          "text": "",
          "x": "22:00",
          "xref": "x",
          "y": "Tuesday",
          "yref": "y"
         },
         {
          "font": {
           "color": "#000000"
          },
          "showarrow": false,
          "text": "",
          "x": "23:00",
          "xref": "x",
          "y": "Tuesday",
          "yref": "y"
         },
         {
          "font": {
           "color": "#000000"
          },
          "showarrow": false,
          "text": "C - 1",
          "x": "0:00",
          "xref": "x",
          "y": "Wednesday",
          "yref": "y"
         },
         {
          "font": {
           "color": "#000000"
          },
          "showarrow": false,
          "text": "",
          "x": "1:00",
          "xref": "x",
          "y": "Wednesday",
          "yref": "y"
         },
         {
          "font": {
           "color": "#000000"
          },
          "showarrow": false,
          "text": "",
          "x": "2:00",
          "xref": "x",
          "y": "Wednesday",
          "yref": "y"
         },
         {
          "font": {
           "color": "#000000"
          },
          "showarrow": false,
          "text": "",
          "x": "3:00",
          "xref": "x",
          "y": "Wednesday",
          "yref": "y"
         },
         {
          "font": {
           "color": "#000000"
          },
          "showarrow": false,
          "text": "",
          "x": "4:00",
          "xref": "x",
          "y": "Wednesday",
          "yref": "y"
         },
         {
          "font": {
           "color": "#000000"
          },
          "showarrow": false,
          "text": "",
          "x": "5:00",
          "xref": "x",
          "y": "Wednesday",
          "yref": "y"
         },
         {
          "font": {
           "color": "#000000"
          },
          "showarrow": false,
          "text": "",
          "x": "6:00",
          "xref": "x",
          "y": "Wednesday",
          "yref": "y"
         },
         {
          "font": {
           "color": "#000000"
          },
          "showarrow": false,
          "text": "",
          "x": "7:00",
          "xref": "x",
          "y": "Wednesday",
          "yref": "y"
         },
         {
          "font": {
           "color": "#000000"
          },
          "showarrow": false,
          "text": "",
          "x": "8:00",
          "xref": "x",
          "y": "Wednesday",
          "yref": "y"
         },
         {
          "font": {
           "color": "#000000"
          },
          "showarrow": false,
          "text": "",
          "x": "9:00",
          "xref": "x",
          "y": "Wednesday",
          "yref": "y"
         },
         {
          "font": {
           "color": "#000000"
          },
          "showarrow": false,
          "text": "",
          "x": "10:00",
          "xref": "x",
          "y": "Wednesday",
          "yref": "y"
         },
         {
          "font": {
           "color": "#000000"
          },
          "showarrow": false,
          "text": "",
          "x": "11:00",
          "xref": "x",
          "y": "Wednesday",
          "yref": "y"
         },
         {
          "font": {
           "color": "#000000"
          },
          "showarrow": false,
          "text": "",
          "x": "12:00",
          "xref": "x",
          "y": "Wednesday",
          "yref": "y"
         },
         {
          "font": {
           "color": "#000000"
          },
          "showarrow": false,
          "text": "",
          "x": "13:00",
          "xref": "x",
          "y": "Wednesday",
          "yref": "y"
         },
         {
          "font": {
           "color": "#000000"
          },
          "showarrow": false,
          "text": "",
          "x": "14:00",
          "xref": "x",
          "y": "Wednesday",
          "yref": "y"
         },
         {
          "font": {
           "color": "#FFFFFF"
          },
          "showarrow": false,
          "text": "",
          "x": "15:00",
          "xref": "x",
          "y": "Wednesday",
          "yref": "y"
         },
         {
          "font": {
           "color": "#FFFFFF"
          },
          "showarrow": false,
          "text": "",
          "x": "16:00",
          "xref": "x",
          "y": "Wednesday",
          "yref": "y"
         },
         {
          "font": {
           "color": "#FFFFFF"
          },
          "showarrow": false,
          "text": "",
          "x": "17:00",
          "xref": "x",
          "y": "Wednesday",
          "yref": "y"
         },
         {
          "font": {
           "color": "#FFFFFF"
          },
          "showarrow": false,
          "text": "",
          "x": "18:00",
          "xref": "x",
          "y": "Wednesday",
          "yref": "y"
         },
         {
          "font": {
           "color": "#000000"
          },
          "showarrow": false,
          "text": "",
          "x": "19:00",
          "xref": "x",
          "y": "Wednesday",
          "yref": "y"
         },
         {
          "font": {
           "color": "#000000"
          },
          "showarrow": false,
          "text": "",
          "x": "20:00",
          "xref": "x",
          "y": "Wednesday",
          "yref": "y"
         },
         {
          "font": {
           "color": "#000000"
          },
          "showarrow": false,
          "text": "",
          "x": "21:00",
          "xref": "x",
          "y": "Wednesday",
          "yref": "y"
         },
         {
          "font": {
           "color": "#FFFFFF"
          },
          "showarrow": false,
          "text": "",
          "x": "22:00",
          "xref": "x",
          "y": "Wednesday",
          "yref": "y"
         },
         {
          "font": {
           "color": "#000000"
          },
          "showarrow": false,
          "text": "C - 1",
          "x": "23:00",
          "xref": "x",
          "y": "Wednesday",
          "yref": "y"
         },
         {
          "font": {
           "color": "#000000"
          },
          "showarrow": false,
          "text": "",
          "x": "0:00",
          "xref": "x",
          "y": "Thursday",
          "yref": "y"
         },
         {
          "font": {
           "color": "#FFFFFF"
          },
          "showarrow": false,
          "text": "",
          "x": "1:00",
          "xref": "x",
          "y": "Thursday",
          "yref": "y"
         },
         {
          "font": {
           "color": "#000000"
          },
          "showarrow": false,
          "text": "",
          "x": "2:00",
          "xref": "x",
          "y": "Thursday",
          "yref": "y"
         },
         {
          "font": {
           "color": "#000000"
          },
          "showarrow": false,
          "text": "",
          "x": "3:00",
          "xref": "x",
          "y": "Thursday",
          "yref": "y"
         },
         {
          "font": {
           "color": "#000000"
          },
          "showarrow": false,
          "text": "",
          "x": "4:00",
          "xref": "x",
          "y": "Thursday",
          "yref": "y"
         },
         {
          "font": {
           "color": "#000000"
          },
          "showarrow": false,
          "text": "",
          "x": "5:00",
          "xref": "x",
          "y": "Thursday",
          "yref": "y"
         },
         {
          "font": {
           "color": "#000000"
          },
          "showarrow": false,
          "text": "",
          "x": "6:00",
          "xref": "x",
          "y": "Thursday",
          "yref": "y"
         },
         {
          "font": {
           "color": "#000000"
          },
          "showarrow": false,
          "text": "",
          "x": "7:00",
          "xref": "x",
          "y": "Thursday",
          "yref": "y"
         },
         {
          "font": {
           "color": "#000000"
          },
          "showarrow": false,
          "text": "",
          "x": "8:00",
          "xref": "x",
          "y": "Thursday",
          "yref": "y"
         },
         {
          "font": {
           "color": "#000000"
          },
          "showarrow": false,
          "text": "",
          "x": "9:00",
          "xref": "x",
          "y": "Thursday",
          "yref": "y"
         },
         {
          "font": {
           "color": "#000000"
          },
          "showarrow": false,
          "text": "",
          "x": "10:00",
          "xref": "x",
          "y": "Thursday",
          "yref": "y"
         },
         {
          "font": {
           "color": "#000000"
          },
          "showarrow": false,
          "text": "",
          "x": "11:00",
          "xref": "x",
          "y": "Thursday",
          "yref": "y"
         },
         {
          "font": {
           "color": "#000000"
          },
          "showarrow": false,
          "text": "",
          "x": "12:00",
          "xref": "x",
          "y": "Thursday",
          "yref": "y"
         },
         {
          "font": {
           "color": "#000000"
          },
          "showarrow": false,
          "text": "",
          "x": "13:00",
          "xref": "x",
          "y": "Thursday",
          "yref": "y"
         },
         {
          "font": {
           "color": "#000000"
          },
          "showarrow": false,
          "text": "",
          "x": "14:00",
          "xref": "x",
          "y": "Thursday",
          "yref": "y"
         },
         {
          "font": {
           "color": "#000000"
          },
          "showarrow": false,
          "text": "",
          "x": "15:00",
          "xref": "x",
          "y": "Thursday",
          "yref": "y"
         },
         {
          "font": {
           "color": "#000000"
          },
          "showarrow": false,
          "text": "",
          "x": "16:00",
          "xref": "x",
          "y": "Thursday",
          "yref": "y"
         },
         {
          "font": {
           "color": "#000000"
          },
          "showarrow": false,
          "text": "",
          "x": "17:00",
          "xref": "x",
          "y": "Thursday",
          "yref": "y"
         },
         {
          "font": {
           "color": "#000000"
          },
          "showarrow": false,
          "text": "",
          "x": "18:00",
          "xref": "x",
          "y": "Thursday",
          "yref": "y"
         },
         {
          "font": {
           "color": "#000000"
          },
          "showarrow": false,
          "text": "",
          "x": "19:00",
          "xref": "x",
          "y": "Thursday",
          "yref": "y"
         },
         {
          "font": {
           "color": "#000000"
          },
          "showarrow": false,
          "text": "",
          "x": "20:00",
          "xref": "x",
          "y": "Thursday",
          "yref": "y"
         },
         {
          "font": {
           "color": "#000000"
          },
          "showarrow": false,
          "text": "",
          "x": "21:00",
          "xref": "x",
          "y": "Thursday",
          "yref": "y"
         },
         {
          "font": {
           "color": "#000000"
          },
          "showarrow": false,
          "text": "",
          "x": "22:00",
          "xref": "x",
          "y": "Thursday",
          "yref": "y"
         },
         {
          "font": {
           "color": "#000000"
          },
          "showarrow": false,
          "text": "",
          "x": "23:00",
          "xref": "x",
          "y": "Thursday",
          "yref": "y"
         },
         {
          "font": {
           "color": "#FFFFFF"
          },
          "showarrow": false,
          "text": "",
          "x": "0:00",
          "xref": "x",
          "y": "Friday",
          "yref": "y"
         },
         {
          "font": {
           "color": "#000000"
          },
          "showarrow": false,
          "text": "",
          "x": "1:00",
          "xref": "x",
          "y": "Friday",
          "yref": "y"
         },
         {
          "font": {
           "color": "#000000"
          },
          "showarrow": false,
          "text": "",
          "x": "2:00",
          "xref": "x",
          "y": "Friday",
          "yref": "y"
         },
         {
          "font": {
           "color": "#FFFFFF"
          },
          "showarrow": false,
          "text": "",
          "x": "3:00",
          "xref": "x",
          "y": "Friday",
          "yref": "y"
         },
         {
          "font": {
           "color": "#000000"
          },
          "showarrow": false,
          "text": "",
          "x": "4:00",
          "xref": "x",
          "y": "Friday",
          "yref": "y"
         },
         {
          "font": {
           "color": "#000000"
          },
          "showarrow": false,
          "text": "",
          "x": "5:00",
          "xref": "x",
          "y": "Friday",
          "yref": "y"
         },
         {
          "font": {
           "color": "#000000"
          },
          "showarrow": false,
          "text": "",
          "x": "6:00",
          "xref": "x",
          "y": "Friday",
          "yref": "y"
         },
         {
          "font": {
           "color": "#000000"
          },
          "showarrow": false,
          "text": "",
          "x": "7:00",
          "xref": "x",
          "y": "Friday",
          "yref": "y"
         },
         {
          "font": {
           "color": "#000000"
          },
          "showarrow": false,
          "text": "",
          "x": "8:00",
          "xref": "x",
          "y": "Friday",
          "yref": "y"
         },
         {
          "font": {
           "color": "#000000"
          },
          "showarrow": false,
          "text": "",
          "x": "9:00",
          "xref": "x",
          "y": "Friday",
          "yref": "y"
         },
         {
          "font": {
           "color": "#000000"
          },
          "showarrow": false,
          "text": "",
          "x": "10:00",
          "xref": "x",
          "y": "Friday",
          "yref": "y"
         },
         {
          "font": {
           "color": "#000000"
          },
          "showarrow": false,
          "text": "",
          "x": "11:00",
          "xref": "x",
          "y": "Friday",
          "yref": "y"
         },
         {
          "font": {
           "color": "#FFFFFF"
          },
          "showarrow": false,
          "text": "",
          "x": "12:00",
          "xref": "x",
          "y": "Friday",
          "yref": "y"
         },
         {
          "font": {
           "color": "#000000"
          },
          "showarrow": false,
          "text": "",
          "x": "13:00",
          "xref": "x",
          "y": "Friday",
          "yref": "y"
         },
         {
          "font": {
           "color": "#000000"
          },
          "showarrow": false,
          "text": "",
          "x": "14:00",
          "xref": "x",
          "y": "Friday",
          "yref": "y"
         },
         {
          "font": {
           "color": "#000000"
          },
          "showarrow": false,
          "text": "",
          "x": "15:00",
          "xref": "x",
          "y": "Friday",
          "yref": "y"
         },
         {
          "font": {
           "color": "#000000"
          },
          "showarrow": false,
          "text": "",
          "x": "16:00",
          "xref": "x",
          "y": "Friday",
          "yref": "y"
         },
         {
          "font": {
           "color": "#000000"
          },
          "showarrow": false,
          "text": "",
          "x": "17:00",
          "xref": "x",
          "y": "Friday",
          "yref": "y"
         },
         {
          "font": {
           "color": "#000000"
          },
          "showarrow": false,
          "text": "",
          "x": "18:00",
          "xref": "x",
          "y": "Friday",
          "yref": "y"
         },
         {
          "font": {
           "color": "#000000"
          },
          "showarrow": false,
          "text": "",
          "x": "19:00",
          "xref": "x",
          "y": "Friday",
          "yref": "y"
         },
         {
          "font": {
           "color": "#000000"
          },
          "showarrow": false,
          "text": "",
          "x": "20:00",
          "xref": "x",
          "y": "Friday",
          "yref": "y"
         },
         {
          "font": {
           "color": "#000000"
          },
          "showarrow": false,
          "text": "",
          "x": "21:00",
          "xref": "x",
          "y": "Friday",
          "yref": "y"
         },
         {
          "font": {
           "color": "#000000"
          },
          "showarrow": false,
          "text": "",
          "x": "22:00",
          "xref": "x",
          "y": "Friday",
          "yref": "y"
         },
         {
          "font": {
           "color": "#000000"
          },
          "showarrow": false,
          "text": "",
          "x": "23:00",
          "xref": "x",
          "y": "Friday",
          "yref": "y"
         }
        ],
        "autosize": false,
        "font": {
         "color": "RebeccaPurple",
         "family": "IRANSans",
         "size": 12
        },
        "height": 400,
        "margin": {
         "b": 40,
         "l": 50,
         "r": 50,
         "t": 40
        },
        "template": {
         "data": {
          "bar": [
           {
            "error_x": {
             "color": "#2a3f5f"
            },
            "error_y": {
             "color": "#2a3f5f"
            },
            "marker": {
             "line": {
              "color": "#E5ECF6",
              "width": 0.5
             },
             "pattern": {
              "fillmode": "overlay",
              "size": 10,
              "solidity": 0.2
             }
            },
            "type": "bar"
           }
          ],
          "barpolar": [
           {
            "marker": {
             "line": {
              "color": "#E5ECF6",
              "width": 0.5
             },
             "pattern": {
              "fillmode": "overlay",
              "size": 10,
              "solidity": 0.2
             }
            },
            "type": "barpolar"
           }
          ],
          "carpet": [
           {
            "aaxis": {
             "endlinecolor": "#2a3f5f",
             "gridcolor": "white",
             "linecolor": "white",
             "minorgridcolor": "white",
             "startlinecolor": "#2a3f5f"
            },
            "baxis": {
             "endlinecolor": "#2a3f5f",
             "gridcolor": "white",
             "linecolor": "white",
             "minorgridcolor": "white",
             "startlinecolor": "#2a3f5f"
            },
            "type": "carpet"
           }
          ],
          "choropleth": [
           {
            "colorbar": {
             "outlinewidth": 0,
             "ticks": ""
            },
            "type": "choropleth"
           }
          ],
          "contour": [
           {
            "colorbar": {
             "outlinewidth": 0,
             "ticks": ""
            },
            "colorscale": [
             [
              0,
              "#0d0887"
             ],
             [
              0.1111111111111111,
              "#46039f"
             ],
             [
              0.2222222222222222,
              "#7201a8"
             ],
             [
              0.3333333333333333,
              "#9c179e"
             ],
             [
              0.4444444444444444,
              "#bd3786"
             ],
             [
              0.5555555555555556,
              "#d8576b"
             ],
             [
              0.6666666666666666,
              "#ed7953"
             ],
             [
              0.7777777777777778,
              "#fb9f3a"
             ],
             [
              0.8888888888888888,
              "#fdca26"
             ],
             [
              1,
              "#f0f921"
             ]
            ],
            "type": "contour"
           }
          ],
          "contourcarpet": [
           {
            "colorbar": {
             "outlinewidth": 0,
             "ticks": ""
            },
            "type": "contourcarpet"
           }
          ],
          "heatmap": [
           {
            "colorbar": {
             "outlinewidth": 0,
             "ticks": ""
            },
            "colorscale": [
             [
              0,
              "#0d0887"
             ],
             [
              0.1111111111111111,
              "#46039f"
             ],
             [
              0.2222222222222222,
              "#7201a8"
             ],
             [
              0.3333333333333333,
              "#9c179e"
             ],
             [
              0.4444444444444444,
              "#bd3786"
             ],
             [
              0.5555555555555556,
              "#d8576b"
             ],
             [
              0.6666666666666666,
              "#ed7953"
             ],
             [
              0.7777777777777778,
              "#fb9f3a"
             ],
             [
              0.8888888888888888,
              "#fdca26"
             ],
             [
              1,
              "#f0f921"
             ]
            ],
            "type": "heatmap"
           }
          ],
          "heatmapgl": [
           {
            "colorbar": {
             "outlinewidth": 0,
             "ticks": ""
            },
            "colorscale": [
             [
              0,
              "#0d0887"
             ],
             [
              0.1111111111111111,
              "#46039f"
             ],
             [
              0.2222222222222222,
              "#7201a8"
             ],
             [
              0.3333333333333333,
              "#9c179e"
             ],
             [
              0.4444444444444444,
              "#bd3786"
             ],
             [
              0.5555555555555556,
              "#d8576b"
             ],
             [
              0.6666666666666666,
              "#ed7953"
             ],
             [
              0.7777777777777778,
              "#fb9f3a"
             ],
             [
              0.8888888888888888,
              "#fdca26"
             ],
             [
              1,
              "#f0f921"
             ]
            ],
            "type": "heatmapgl"
           }
          ],
          "histogram": [
           {
            "marker": {
             "pattern": {
              "fillmode": "overlay",
              "size": 10,
              "solidity": 0.2
             }
            },
            "type": "histogram"
           }
          ],
          "histogram2d": [
           {
            "colorbar": {
             "outlinewidth": 0,
             "ticks": ""
            },
            "colorscale": [
             [
              0,
              "#0d0887"
             ],
             [
              0.1111111111111111,
              "#46039f"
             ],
             [
              0.2222222222222222,
              "#7201a8"
             ],
             [
              0.3333333333333333,
              "#9c179e"
             ],
             [
              0.4444444444444444,
              "#bd3786"
             ],
             [
              0.5555555555555556,
              "#d8576b"
             ],
             [
              0.6666666666666666,
              "#ed7953"
             ],
             [
              0.7777777777777778,
              "#fb9f3a"
             ],
             [
              0.8888888888888888,
              "#fdca26"
             ],
             [
              1,
              "#f0f921"
             ]
            ],
            "type": "histogram2d"
           }
          ],
          "histogram2dcontour": [
           {
            "colorbar": {
             "outlinewidth": 0,
             "ticks": ""
            },
            "colorscale": [
             [
              0,
              "#0d0887"
             ],
             [
              0.1111111111111111,
              "#46039f"
             ],
             [
              0.2222222222222222,
              "#7201a8"
             ],
             [
              0.3333333333333333,
              "#9c179e"
             ],
             [
              0.4444444444444444,
              "#bd3786"
             ],
             [
              0.5555555555555556,
              "#d8576b"
             ],
             [
              0.6666666666666666,
              "#ed7953"
             ],
             [
              0.7777777777777778,
              "#fb9f3a"
             ],
             [
              0.8888888888888888,
              "#fdca26"
             ],
             [
              1,
              "#f0f921"
             ]
            ],
            "type": "histogram2dcontour"
           }
          ],
          "mesh3d": [
           {
            "colorbar": {
             "outlinewidth": 0,
             "ticks": ""
            },
            "type": "mesh3d"
           }
          ],
          "parcoords": [
           {
            "line": {
             "colorbar": {
              "outlinewidth": 0,
              "ticks": ""
             }
            },
            "type": "parcoords"
           }
          ],
          "pie": [
           {
            "automargin": true,
            "type": "pie"
           }
          ],
          "scatter": [
           {
            "marker": {
             "colorbar": {
              "outlinewidth": 0,
              "ticks": ""
             }
            },
            "type": "scatter"
           }
          ],
          "scatter3d": [
           {
            "line": {
             "colorbar": {
              "outlinewidth": 0,
              "ticks": ""
             }
            },
            "marker": {
             "colorbar": {
              "outlinewidth": 0,
              "ticks": ""
             }
            },
            "type": "scatter3d"
           }
          ],
          "scattercarpet": [
           {
            "marker": {
             "colorbar": {
              "outlinewidth": 0,
              "ticks": ""
             }
            },
            "type": "scattercarpet"
           }
          ],
          "scattergeo": [
           {
            "marker": {
             "colorbar": {
              "outlinewidth": 0,
              "ticks": ""
             }
            },
            "type": "scattergeo"
           }
          ],
          "scattergl": [
           {
            "marker": {
             "colorbar": {
              "outlinewidth": 0,
              "ticks": ""
             }
            },
            "type": "scattergl"
           }
          ],
          "scattermapbox": [
           {
            "marker": {
             "colorbar": {
              "outlinewidth": 0,
              "ticks": ""
             }
            },
            "type": "scattermapbox"
           }
          ],
          "scatterpolar": [
           {
            "marker": {
             "colorbar": {
              "outlinewidth": 0,
              "ticks": ""
             }
            },
            "type": "scatterpolar"
           }
          ],
          "scatterpolargl": [
           {
            "marker": {
             "colorbar": {
              "outlinewidth": 0,
              "ticks": ""
             }
            },
            "type": "scatterpolargl"
           }
          ],
          "scatterternary": [
           {
            "marker": {
             "colorbar": {
              "outlinewidth": 0,
              "ticks": ""
             }
            },
            "type": "scatterternary"
           }
          ],
          "surface": [
           {
            "colorbar": {
             "outlinewidth": 0,
             "ticks": ""
            },
            "colorscale": [
             [
              0,
              "#0d0887"
             ],
             [
              0.1111111111111111,
              "#46039f"
             ],
             [
              0.2222222222222222,
              "#7201a8"
             ],
             [
              0.3333333333333333,
              "#9c179e"
             ],
             [
              0.4444444444444444,
              "#bd3786"
             ],
             [
              0.5555555555555556,
              "#d8576b"
             ],
             [
              0.6666666666666666,
              "#ed7953"
             ],
             [
              0.7777777777777778,
              "#fb9f3a"
             ],
             [
              0.8888888888888888,
              "#fdca26"
             ],
             [
              1,
              "#f0f921"
             ]
            ],
            "type": "surface"
           }
          ],
          "table": [
           {
            "cells": {
             "fill": {
              "color": "#EBF0F8"
             },
             "line": {
              "color": "white"
             }
            },
            "header": {
             "fill": {
              "color": "#C8D4E3"
             },
             "line": {
              "color": "white"
             }
            },
            "type": "table"
           }
          ]
         },
         "layout": {
          "annotationdefaults": {
           "arrowcolor": "#2a3f5f",
           "arrowhead": 0,
           "arrowwidth": 1
          },
          "autotypenumbers": "strict",
          "coloraxis": {
           "colorbar": {
            "outlinewidth": 0,
            "ticks": ""
           }
          },
          "colorscale": {
           "diverging": [
            [
             0,
             "#8e0152"
            ],
            [
             0.1,
             "#c51b7d"
            ],
            [
             0.2,
             "#de77ae"
            ],
            [
             0.3,
             "#f1b6da"
            ],
            [
             0.4,
             "#fde0ef"
            ],
            [
             0.5,
             "#f7f7f7"
            ],
            [
             0.6,
             "#e6f5d0"
            ],
            [
             0.7,
             "#b8e186"
            ],
            [
             0.8,
             "#7fbc41"
            ],
            [
             0.9,
             "#4d9221"
            ],
            [
             1,
             "#276419"
            ]
           ],
           "sequential": [
            [
             0,
             "#0d0887"
            ],
            [
             0.1111111111111111,
             "#46039f"
            ],
            [
             0.2222222222222222,
             "#7201a8"
            ],
            [
             0.3333333333333333,
             "#9c179e"
            ],
            [
             0.4444444444444444,
             "#bd3786"
            ],
            [
             0.5555555555555556,
             "#d8576b"
            ],
            [
             0.6666666666666666,
             "#ed7953"
            ],
            [
             0.7777777777777778,
             "#fb9f3a"
            ],
            [
             0.8888888888888888,
             "#fdca26"
            ],
            [
             1,
             "#f0f921"
            ]
           ],
           "sequentialminus": [
            [
             0,
             "#0d0887"
            ],
            [
             0.1111111111111111,
             "#46039f"
            ],
            [
             0.2222222222222222,
             "#7201a8"
            ],
            [
             0.3333333333333333,
             "#9c179e"
            ],
            [
             0.4444444444444444,
             "#bd3786"
            ],
            [
             0.5555555555555556,
             "#d8576b"
            ],
            [
             0.6666666666666666,
             "#ed7953"
            ],
            [
             0.7777777777777778,
             "#fb9f3a"
            ],
            [
             0.8888888888888888,
             "#fdca26"
            ],
            [
             1,
             "#f0f921"
            ]
           ]
          },
          "colorway": [
           "#636efa",
           "#EF553B",
           "#00cc96",
           "#ab63fa",
           "#FFA15A",
           "#19d3f3",
           "#FF6692",
           "#B6E880",
           "#FF97FF",
           "#FECB52"
          ],
          "font": {
           "color": "#2a3f5f"
          },
          "geo": {
           "bgcolor": "white",
           "lakecolor": "white",
           "landcolor": "#E5ECF6",
           "showlakes": true,
           "showland": true,
           "subunitcolor": "white"
          },
          "hoverlabel": {
           "align": "left"
          },
          "hovermode": "closest",
          "mapbox": {
           "style": "light"
          },
          "paper_bgcolor": "white",
          "plot_bgcolor": "#E5ECF6",
          "polar": {
           "angularaxis": {
            "gridcolor": "white",
            "linecolor": "white",
            "ticks": ""
           },
           "bgcolor": "#E5ECF6",
           "radialaxis": {
            "gridcolor": "white",
            "linecolor": "white",
            "ticks": ""
           }
          },
          "scene": {
           "xaxis": {
            "backgroundcolor": "#E5ECF6",
            "gridcolor": "white",
            "gridwidth": 2,
            "linecolor": "white",
            "showbackground": true,
            "ticks": "",
            "zerolinecolor": "white"
           },
           "yaxis": {
            "backgroundcolor": "#E5ECF6",
            "gridcolor": "white",
            "gridwidth": 2,
            "linecolor": "white",
            "showbackground": true,
            "ticks": "",
            "zerolinecolor": "white"
           },
           "zaxis": {
            "backgroundcolor": "#E5ECF6",
            "gridcolor": "white",
            "gridwidth": 2,
            "linecolor": "white",
            "showbackground": true,
            "ticks": "",
            "zerolinecolor": "white"
           }
          },
          "shapedefaults": {
           "line": {
            "color": "#2a3f5f"
           }
          },
          "ternary": {
           "aaxis": {
            "gridcolor": "white",
            "linecolor": "white",
            "ticks": ""
           },
           "baxis": {
            "gridcolor": "white",
            "linecolor": "white",
            "ticks": ""
           },
           "bgcolor": "#E5ECF6",
           "caxis": {
            "gridcolor": "white",
            "linecolor": "white",
            "ticks": ""
           }
          },
          "title": {
           "x": 0.05
          },
          "xaxis": {
           "automargin": true,
           "gridcolor": "white",
           "linecolor": "white",
           "ticks": "",
           "title": {
            "standoff": 15
           },
           "zerolinecolor": "white",
           "zerolinewidth": 2
          },
          "yaxis": {
           "automargin": true,
           "gridcolor": "white",
           "linecolor": "white",
           "ticks": "",
           "title": {
            "standoff": 15
           },
           "zerolinecolor": "white",
           "zerolinewidth": 2
          }
         }
        },
        "width": 1200,
        "xaxis": {
         "autorange": true,
         "dtick": 1,
         "gridcolor": "rgb(0, 0, 0)",
         "range": [
          -0.5,
          23.5
         ],
         "showgrid": false,
         "side": "bottom",
         "ticks": "",
         "type": "category",
         "zeroline": false
        },
        "yaxis": {
         "autorange": true,
         "dtick": 1,
         "range": [
          -0.5,
          6.5
         ],
         "showgrid": false,
         "ticks": "",
         "ticksuffix": "  ",
         "type": "category",
         "zeroline": false
        }
       }
      },
      "image/png": "[encoded data removed]",
      "text/html": [
       "<div>                            <div id=\"417ce346-afd5-4fda-9d70-6d7938e0cddc\" class=\"plotly-graph-div\" style=\"height:400px; width:1200px;\"></div>            <script type=\"text/javascript\">                require([\"plotly\"], function(Plotly) {                    window.PLOTLYENV=window.PLOTLYENV || {};                                    if (document.getElementById(\"417ce346-afd5-4fda-9d70-6d7938e0cddc\")) {                    Plotly.newPlot(                        \"417ce346-afd5-4fda-9d70-6d7938e0cddc\",                        [{\"colorscale\":[[0.0,\"rgb(248, 255, 143)\"],[1.0,\"rgb(240, 24, 42)\"]],\"reversescale\":false,\"showscale\":false,\"x\":[\"0:00\",\"1:00\",\"2:00\",\"3:00\",\"4:00\",\"5:00\",\"6:00\",\"7:00\",\"8:00\",\"9:00\",\"10:00\",\"11:00\",\"12:00\",\"13:00\",\"14:00\",\"15:00\",\"16:00\",\"17:00\",\"18:00\",\"19:00\",\"20:00\",\"21:00\",\"22:00\",\"23:00\"],\"xgap\":2,\"y\":[\"Saturday\",\"Sunday\",\"Monday\",\"Tuesday\",\"Wednesday\",\"Thursday\",\"Friday\"],\"ygap\":2,\"z\":[[74,0,0,0,0,0,0,0,0,0,100,0,0,0,0,83,0,72,0,62,0,0,59,0],[0,0,0,0,0,0,0,0,0,0,0,0,0,0,0,85,0,0,0,0,61,0,0,0],[0,67,0,0,0,0,0,0,0,0,0,0,0,0,0,0,0,0,0,0,0,0,0,0],[0,0,0,0,0,0,0,0,0,0,0,0,0,0,0,0,0,0,0,0,0,0,0,0],[0,0,0,0,0,0,0,0,0,0,0,0,0,0,0,71,66,59,55,0,0,0,53,0],[0,57,0,0,0,0,0,0,0,0,0,0,0,0,0,0,0,0,0,48,47,0,0,0],[50,0,0,65,0,0,0,0,0,0,0,0,79,0,0,0,0,0,0,0,0,0,0,0]],\"type\":\"heatmap\"}],                        {\"annotations\":[{\"font\":{\"color\":\"#FFFFFF\"},\"showarrow\":false,\"text\":\"\",\"x\":\"0:00\",\"xref\":\"x\",\"y\":\"Saturday\",\"yref\":\"y\"},{\"font\":{\"color\":\"#000000\"},\"showarrow\":false,\"text\":\"\",\"x\":\"1:00\",\"xref\":\"x\",\"y\":\"Saturday\",\"yref\":\"y\"},{\"font\":{\"color\":\"#000000\"},\"showarrow\":false,\"text\":\"A - 7\",\"x\":\"2:00\",\"xref\":\"x\",\"y\":\"Saturday\",\"yref\":\"y\"},{\"font\":{\"color\":\"#000000\"},\"showarrow\":false,\"text\":\"\",\"x\":\"3:00\",\"xref\":\"x\",\"y\":\"Saturday\",\"yref\":\"y\"},{\"font\":{\"color\":\"#000000\"},\"showarrow\":false,\"text\":\"\",\"x\":\"4:00\",\"xref\":\"x\",\"y\":\"Saturday\",\"yref\":\"y\"},{\"font\":{\"color\":\"#000000\"},\"showarrow\":false,\"text\":\"\",\"x\":\"5:00\",\"xref\":\"x\",\"y\":\"Saturday\",\"yref\":\"y\"},{\"font\":{\"color\":\"#000000\"},\"showarrow\":false,\"text\":\"\",\"x\":\"6:00\",\"xref\":\"x\",\"y\":\"Saturday\",\"yref\":\"y\"},{\"font\":{\"color\":\"#000000\"},\"showarrow\":false,\"text\":\"\",\"x\":\"7:00\",\"xref\":\"x\",\"y\":\"Saturday\",\"yref\":\"y\"},{\"font\":{\"color\":\"#000000\"},\"showarrow\":false,\"text\":\"A - 7\",\"x\":\"8:00\",\"xref\":\"x\",\"y\":\"Saturday\",\"yref\":\"y\"},{\"font\":{\"color\":\"#000000\"},\"showarrow\":false,\"text\":\"B - 8\",\"x\":\"9:00\",\"xref\":\"x\",\"y\":\"Saturday\",\"yref\":\"y\"},{\"font\":{\"color\":\"#FFFFFF\"},\"showarrow\":false,\"text\":\"C - 1\",\"x\":\"10:00\",\"xref\":\"x\",\"y\":\"Saturday\",\"yref\":\"y\"},{\"font\":{\"color\":\"#000000\"},\"showarrow\":false,\"text\":\"E - 8\",\"x\":\"11:00\",\"xref\":\"x\",\"y\":\"Saturday\",\"yref\":\"y\"},{\"font\":{\"color\":\"#000000\"},\"showarrow\":false,\"text\":\"\",\"x\":\"12:00\",\"xref\":\"x\",\"y\":\"Saturday\",\"yref\":\"y\"},{\"font\":{\"color\":\"#000000\"},\"showarrow\":false,\"text\":\"\",\"x\":\"13:00\",\"xref\":\"x\",\"y\":\"Saturday\",\"yref\":\"y\"},{\"font\":{\"color\":\"#000000\"},\"showarrow\":false,\"text\":\"\",\"x\":\"14:00\",\"xref\":\"x\",\"y\":\"Saturday\",\"yref\":\"y\"},{\"font\":{\"color\":\"#FFFFFF\"},\"showarrow\":false,\"text\":\"\",\"x\":\"15:00\",\"xref\":\"x\",\"y\":\"Saturday\",\"yref\":\"y\"},{\"font\":{\"color\":\"#000000\"},\"showarrow\":false,\"text\":\"\",\"x\":\"16:00\",\"xref\":\"x\",\"y\":\"Saturday\",\"yref\":\"y\"},{\"font\":{\"color\":\"#FFFFFF\"},\"showarrow\":false,\"text\":\"\",\"x\":\"17:00\",\"xref\":\"x\",\"y\":\"Saturday\",\"yref\":\"y\"},{\"font\":{\"color\":\"#000000\"},\"showarrow\":false,\"text\":\"C - 1\",\"x\":\"18:00\",\"xref\":\"x\",\"y\":\"Saturday\",\"yref\":\"y\"},{\"font\":{\"color\":\"#FFFFFF\"},\"showarrow\":false,\"text\":\"\",\"x\":\"19:00\",\"xref\":\"x\",\"y\":\"Saturday\",\"yref\":\"y\"},{\"font\":{\"color\":\"#000000\"},\"showarrow\":false,\"text\":\"\",\"x\":\"20:00\",\"xref\":\"x\",\"y\":\"Saturday\",\"yref\":\"y\"},{\"font\":{\"color\":\"#000000\"},\"showarrow\":false,\"text\":\"\",\"x\":\"21:00\",\"xref\":\"x\",\"y\":\"Saturday\",\"yref\":\"y\"},{\"font\":{\"color\":\"#FFFFFF\"},\"showarrow\":false,\"text\":\"\",\"x\":\"22:00\",\"xref\":\"x\",\"y\":\"Saturday\",\"yref\":\"y\"},{\"font\":{\"color\":\"#000000\"},\"showarrow\":false,\"text\":\"\",\"x\":\"23:00\",\"xref\":\"x\",\"y\":\"Saturday\",\"yref\":\"y\"},{\"font\":{\"color\":\"#000000\"},\"showarrow\":false,\"text\":\"\",\"x\":\"0:00\",\"xref\":\"x\",\"y\":\"Sunday\",\"yref\":\"y\"},{\"font\":{\"color\":\"#000000\"},\"showarrow\":false,\"text\":\"\",\"x\":\"1:00\",\"xref\":\"x\",\"y\":\"Sunday\",\"yref\":\"y\"},{\"font\":{\"color\":\"#000000\"},\"showarrow\":false,\"text\":\"\",\"x\":\"2:00\",\"xref\":\"x\",\"y\":\"Sunday\",\"yref\":\"y\"},{\"font\":{\"color\":\"#000000\"},\"showarrow\":false,\"text\":\"\",\"x\":\"3:00\",\"xref\":\"x\",\"y\":\"Sunday\",\"yref\":\"y\"},{\"font\":{\"color\":\"#000000\"},\"showarrow\":false,\"text\":\"\",\"x\":\"4:00\",\"xref\":\"x\",\"y\":\"Sunday\",\"yref\":\"y\"},{\"font\":{\"color\":\"#000000\"},\"showarrow\":false,\"text\":\"\",\"x\":\"5:00\",\"xref\":\"x\",\"y\":\"Sunday\",\"yref\":\"y\"},{\"font\":{\"color\":\"#000000\"},\"showarrow\":false,\"text\":\"\",\"x\":\"6:00\",\"xref\":\"x\",\"y\":\"Sunday\",\"yref\":\"y\"},{\"font\":{\"color\":\"#000000\"},\"showarrow\":false,\"text\":\"\",\"x\":\"7:00\",\"xref\":\"x\",\"y\":\"Sunday\",\"yref\":\"y\"},{\"font\":{\"color\":\"#000000\"},\"showarrow\":false,\"text\":\"A - 7\",\"x\":\"8:00\",\"xref\":\"x\",\"y\":\"Sunday\",\"yref\":\"y\"},{\"font\":{\"color\":\"#000000\"},\"showarrow\":false,\"text\":\"C - 1\",\"x\":\"9:00\",\"xref\":\"x\",\"y\":\"Sunday\",\"yref\":\"y\"},{\"font\":{\"color\":\"#000000\"},\"showarrow\":false,\"text\":\"\",\"x\":\"10:00\",\"xref\":\"x\",\"y\":\"Sunday\",\"yref\":\"y\"},{\"font\":{\"color\":\"#000000\"},\"showarrow\":false,\"text\":\"A - 1\",\"x\":\"11:00\",\"xref\":\"x\",\"y\":\"Sunday\",\"yref\":\"y\"},{\"font\":{\"color\":\"#000000\"},\"showarrow\":false,\"text\":\"\",\"x\":\"12:00\",\"xref\":\"x\",\"y\":\"Sunday\",\"yref\":\"y\"},{\"font\":{\"color\":\"#000000\"},\"showarrow\":false,\"text\":\"\",\"x\":\"13:00\",\"xref\":\"x\",\"y\":\"Sunday\",\"yref\":\"y\"},{\"font\":{\"color\":\"#000000\"},\"showarrow\":false,\"text\":\"\",\"x\":\"14:00\",\"xref\":\"x\",\"y\":\"Sunday\",\"yref\":\"y\"},{\"font\":{\"color\":\"#FFFFFF\"},\"showarrow\":false,\"text\":\"\",\"x\":\"15:00\",\"xref\":\"x\",\"y\":\"Sunday\",\"yref\":\"y\"},{\"font\":{\"color\":\"#000000\"},\"showarrow\":false,\"text\":\"\",\"x\":\"16:00\",\"xref\":\"x\",\"y\":\"Sunday\",\"yref\":\"y\"},{\"font\":{\"color\":\"#000000\"},\"showarrow\":false,\"text\":\"\",\"x\":\"17:00\",\"xref\":\"x\",\"y\":\"Sunday\",\"yref\":\"y\"},{\"font\":{\"color\":\"#000000\"},\"showarrow\":false,\"text\":\"\",\"x\":\"18:00\",\"xref\":\"x\",\"y\":\"Sunday\",\"yref\":\"y\"},{\"font\":{\"color\":\"#000000\"},\"showarrow\":false,\"text\":\"\",\"x\":\"19:00\",\"xref\":\"x\",\"y\":\"Sunday\",\"yref\":\"y\"},{\"font\":{\"color\":\"#FFFFFF\"},\"showarrow\":false,\"text\":\"\",\"x\":\"20:00\",\"xref\":\"x\",\"y\":\"Sunday\",\"yref\":\"y\"},{\"font\":{\"color\":\"#000000\"},\"showarrow\":false,\"text\":\"\",\"x\":\"21:00\",\"xref\":\"x\",\"y\":\"Sunday\",\"yref\":\"y\"},{\"font\":{\"color\":\"#000000\"},\"showarrow\":false,\"text\":\"\",\"x\":\"22:00\",\"xref\":\"x\",\"y\":\"Sunday\",\"yref\":\"y\"},{\"font\":{\"color\":\"#000000\"},\"showarrow\":false,\"text\":\"\",\"x\":\"23:00\",\"xref\":\"x\",\"y\":\"Sunday\",\"yref\":\"y\"},{\"font\":{\"color\":\"#000000\"},\"showarrow\":false,\"text\":\"\",\"x\":\"0:00\",\"xref\":\"x\",\"y\":\"Monday\",\"yref\":\"y\"},{\"font\":{\"color\":\"#FFFFFF\"},\"showarrow\":false,\"text\":\"\",\"x\":\"1:00\",\"xref\":\"x\",\"y\":\"Monday\",\"yref\":\"y\"},{\"font\":{\"color\":\"#000000\"},\"showarrow\":false,\"text\":\"\",\"x\":\"2:00\",\"xref\":\"x\",\"y\":\"Monday\",\"yref\":\"y\"},{\"font\":{\"color\":\"#000000\"},\"showarrow\":false,\"text\":\"\",\"x\":\"3:00\",\"xref\":\"x\",\"y\":\"Monday\",\"yref\":\"y\"},{\"font\":{\"color\":\"#000000\"},\"showarrow\":false,\"text\":\"\",\"x\":\"4:00\",\"xref\":\"x\",\"y\":\"Monday\",\"yref\":\"y\"},{\"font\":{\"color\":\"#000000\"},\"showarrow\":false,\"text\":\"\",\"x\":\"5:00\",\"xref\":\"x\",\"y\":\"Monday\",\"yref\":\"y\"},{\"font\":{\"color\":\"#000000\"},\"showarrow\":false,\"text\":\"\",\"x\":\"6:00\",\"xref\":\"x\",\"y\":\"Monday\",\"yref\":\"y\"},{\"font\":{\"color\":\"#000000\"},\"showarrow\":false,\"text\":\"\",\"x\":\"7:00\",\"xref\":\"x\",\"y\":\"Monday\",\"yref\":\"y\"},{\"font\":{\"color\":\"#000000\"},\"showarrow\":false,\"text\":\"A - 7\",\"x\":\"8:00\",\"xref\":\"x\",\"y\":\"Monday\",\"yref\":\"y\"},{\"font\":{\"color\":\"#000000\"},\"showarrow\":false,\"text\":\"B - 1\",\"x\":\"9:00\",\"xref\":\"x\",\"y\":\"Monday\",\"yref\":\"y\"},{\"font\":{\"color\":\"#000000\"},\"showarrow\":false,\"text\":\"C - 8\",\"x\":\"10:00\",\"xref\":\"x\",\"y\":\"Monday\",\"yref\":\"y\"},{\"font\":{\"color\":\"#000000\"},\"showarrow\":false,\"text\":\"\",\"x\":\"11:00\",\"xref\":\"x\",\"y\":\"Monday\",\"yref\":\"y\"},{\"font\":{\"color\":\"#000000\"},\"showarrow\":false,\"text\":\"\",\"x\":\"12:00\",\"xref\":\"x\",\"y\":\"Monday\",\"yref\":\"y\"},{\"font\":{\"color\":\"#000000\"},\"showarrow\":false,\"text\":\"\",\"x\":\"13:00\",\"xref\":\"x\",\"y\":\"Monday\",\"yref\":\"y\"},{\"font\":{\"color\":\"#000000\"},\"showarrow\":false,\"text\":\"\",\"x\":\"14:00\",\"xref\":\"x\",\"y\":\"Monday\",\"yref\":\"y\"},{\"font\":{\"color\":\"#000000\"},\"showarrow\":false,\"text\":\"\",\"x\":\"15:00\",\"xref\":\"x\",\"y\":\"Monday\",\"yref\":\"y\"},{\"font\":{\"color\":\"#000000\"},\"showarrow\":false,\"text\":\"C - 8\",\"x\":\"16:00\",\"xref\":\"x\",\"y\":\"Monday\",\"yref\":\"y\"},{\"font\":{\"color\":\"#000000\"},\"showarrow\":false,\"text\":\"E - 1\",\"x\":\"17:00\",\"xref\":\"x\",\"y\":\"Monday\",\"yref\":\"y\"},{\"font\":{\"color\":\"#000000\"},\"showarrow\":false,\"text\":\"\",\"x\":\"18:00\",\"xref\":\"x\",\"y\":\"Monday\",\"yref\":\"y\"},{\"font\":{\"color\":\"#000000\"},\"showarrow\":false,\"text\":\"\",\"x\":\"19:00\",\"xref\":\"x\",\"y\":\"Monday\",\"yref\":\"y\"},{\"font\":{\"color\":\"#000000\"},\"showarrow\":false,\"text\":\"\",\"x\":\"20:00\",\"xref\":\"x\",\"y\":\"Monday\",\"yref\":\"y\"},{\"font\":{\"color\":\"#000000\"},\"showarrow\":false,\"text\":\"\",\"x\":\"21:00\",\"xref\":\"x\",\"y\":\"Monday\",\"yref\":\"y\"},{\"font\":{\"color\":\"#000000\"},\"showarrow\":false,\"text\":\"\",\"x\":\"22:00\",\"xref\":\"x\",\"y\":\"Monday\",\"yref\":\"y\"},{\"font\":{\"color\":\"#000000\"},\"showarrow\":false,\"text\":\"\",\"x\":\"23:00\",\"xref\":\"x\",\"y\":\"Monday\",\"yref\":\"y\"},{\"font\":{\"color\":\"#000000\"},\"showarrow\":false,\"text\":\"C - 1\",\"x\":\"0:00\",\"xref\":\"x\",\"y\":\"Tuesday\",\"yref\":\"y\"},{\"font\":{\"color\":\"#000000\"},\"showarrow\":false,\"text\":\"\",\"x\":\"1:00\",\"xref\":\"x\",\"y\":\"Tuesday\",\"yref\":\"y\"},{\"font\":{\"color\":\"#000000\"},\"showarrow\":false,\"text\":\"\",\"x\":\"2:00\",\"xref\":\"x\",\"y\":\"Tuesday\",\"yref\":\"y\"},{\"font\":{\"color\":\"#000000\"},\"showarrow\":false,\"text\":\"\",\"x\":\"3:00\",\"xref\":\"x\",\"y\":\"Tuesday\",\"yref\":\"y\"},{\"font\":{\"color\":\"#000000\"},\"showarrow\":false,\"text\":\"\",\"x\":\"4:00\",\"xref\":\"x\",\"y\":\"Tuesday\",\"yref\":\"y\"},{\"font\":{\"color\":\"#000000\"},\"showarrow\":false,\"text\":\"\",\"x\":\"5:00\",\"xref\":\"x\",\"y\":\"Tuesday\",\"yref\":\"y\"},{\"font\":{\"color\":\"#000000\"},\"showarrow\":false,\"text\":\"E - 1\",\"x\":\"6:00\",\"xref\":\"x\",\"y\":\"Tuesday\",\"yref\":\"y\"},{\"font\":{\"color\":\"#000000\"},\"showarrow\":false,\"text\":\"\",\"x\":\"7:00\",\"xref\":\"x\",\"y\":\"Tuesday\",\"yref\":\"y\"},{\"font\":{\"color\":\"#000000\"},\"showarrow\":false,\"text\":\"\",\"x\":\"8:00\",\"xref\":\"x\",\"y\":\"Tuesday\",\"yref\":\"y\"},{\"font\":{\"color\":\"#000000\"},\"showarrow\":false,\"text\":\"C - 8\",\"x\":\"9:00\",\"xref\":\"x\",\"y\":\"Tuesday\",\"yref\":\"y\"},{\"font\":{\"color\":\"#000000\"},\"showarrow\":false,\"text\":\"B - 1\",\"x\":\"10:00\",\"xref\":\"x\",\"y\":\"Tuesday\",\"yref\":\"y\"},{\"font\":{\"color\":\"#000000\"},\"showarrow\":false,\"text\":\"\",\"x\":\"11:00\",\"xref\":\"x\",\"y\":\"Tuesday\",\"yref\":\"y\"},{\"font\":{\"color\":\"#000000\"},\"showarrow\":false,\"text\":\"\",\"x\":\"12:00\",\"xref\":\"x\",\"y\":\"Tuesday\",\"yref\":\"y\"},{\"font\":{\"color\":\"#000000\"},\"showarrow\":false,\"text\":\"\",\"x\":\"13:00\",\"xref\":\"x\",\"y\":\"Tuesday\",\"yref\":\"y\"},{\"font\":{\"color\":\"#000000\"},\"showarrow\":false,\"text\":\"\",\"x\":\"14:00\",\"xref\":\"x\",\"y\":\"Tuesday\",\"yref\":\"y\"},{\"font\":{\"color\":\"#000000\"},\"showarrow\":false,\"text\":\"\",\"x\":\"15:00\",\"xref\":\"x\",\"y\":\"Tuesday\",\"yref\":\"y\"},{\"font\":{\"color\":\"#000000\"},\"showarrow\":false,\"text\":\"\",\"x\":\"16:00\",\"xref\":\"x\",\"y\":\"Tuesday\",\"yref\":\"y\"},{\"font\":{\"color\":\"#000000\"},\"showarrow\":false,\"text\":\"\",\"x\":\"17:00\",\"xref\":\"x\",\"y\":\"Tuesday\",\"yref\":\"y\"},{\"font\":{\"color\":\"#000000\"},\"showarrow\":false,\"text\":\"\",\"x\":\"18:00\",\"xref\":\"x\",\"y\":\"Tuesday\",\"yref\":\"y\"},{\"font\":{\"color\":\"#000000\"},\"showarrow\":false,\"text\":\"\",\"x\":\"19:00\",\"xref\":\"x\",\"y\":\"Tuesday\",\"yref\":\"y\"},{\"font\":{\"color\":\"#000000\"},\"showarrow\":false,\"text\":\"\",\"x\":\"20:00\",\"xref\":\"x\",\"y\":\"Tuesday\",\"yref\":\"y\"},{\"font\":{\"color\":\"#000000\"},\"showarrow\":false,\"text\":\"\",\"x\":\"21:00\",\"xref\":\"x\",\"y\":\"Tuesday\",\"yref\":\"y\"},{\"font\":{\"color\":\"#000000\"},\"showarrow\":false,\"text\":\"\",\"x\":\"22:00\",\"xref\":\"x\",\"y\":\"Tuesday\",\"yref\":\"y\"},{\"font\":{\"color\":\"#000000\"},\"showarrow\":false,\"text\":\"\",\"x\":\"23:00\",\"xref\":\"x\",\"y\":\"Tuesday\",\"yref\":\"y\"},{\"font\":{\"color\":\"#000000\"},\"showarrow\":false,\"text\":\"C - 1\",\"x\":\"0:00\",\"xref\":\"x\",\"y\":\"Wednesday\",\"yref\":\"y\"},{\"font\":{\"color\":\"#000000\"},\"showarrow\":false,\"text\":\"\",\"x\":\"1:00\",\"xref\":\"x\",\"y\":\"Wednesday\",\"yref\":\"y\"},{\"font\":{\"color\":\"#000000\"},\"showarrow\":false,\"text\":\"\",\"x\":\"2:00\",\"xref\":\"x\",\"y\":\"Wednesday\",\"yref\":\"y\"},{\"font\":{\"color\":\"#000000\"},\"showarrow\":false,\"text\":\"\",\"x\":\"3:00\",\"xref\":\"x\",\"y\":\"Wednesday\",\"yref\":\"y\"},{\"font\":{\"color\":\"#000000\"},\"showarrow\":false,\"text\":\"\",\"x\":\"4:00\",\"xref\":\"x\",\"y\":\"Wednesday\",\"yref\":\"y\"},{\"font\":{\"color\":\"#000000\"},\"showarrow\":false,\"text\":\"\",\"x\":\"5:00\",\"xref\":\"x\",\"y\":\"Wednesday\",\"yref\":\"y\"},{\"font\":{\"color\":\"#000000\"},\"showarrow\":false,\"text\":\"\",\"x\":\"6:00\",\"xref\":\"x\",\"y\":\"Wednesday\",\"yref\":\"y\"},{\"font\":{\"color\":\"#000000\"},\"showarrow\":false,\"text\":\"\",\"x\":\"7:00\",\"xref\":\"x\",\"y\":\"Wednesday\",\"yref\":\"y\"},{\"font\":{\"color\":\"#000000\"},\"showarrow\":false,\"text\":\"\",\"x\":\"8:00\",\"xref\":\"x\",\"y\":\"Wednesday\",\"yref\":\"y\"},{\"font\":{\"color\":\"#000000\"},\"showarrow\":false,\"text\":\"\",\"x\":\"9:00\",\"xref\":\"x\",\"y\":\"Wednesday\",\"yref\":\"y\"},{\"font\":{\"color\":\"#000000\"},\"showarrow\":false,\"text\":\"\",\"x\":\"10:00\",\"xref\":\"x\",\"y\":\"Wednesday\",\"yref\":\"y\"},{\"font\":{\"color\":\"#000000\"},\"showarrow\":false,\"text\":\"\",\"x\":\"11:00\",\"xref\":\"x\",\"y\":\"Wednesday\",\"yref\":\"y\"},{\"font\":{\"color\":\"#000000\"},\"showarrow\":false,\"text\":\"\",\"x\":\"12:00\",\"xref\":\"x\",\"y\":\"Wednesday\",\"yref\":\"y\"},{\"font\":{\"color\":\"#000000\"},\"showarrow\":false,\"text\":\"\",\"x\":\"13:00\",\"xref\":\"x\",\"y\":\"Wednesday\",\"yref\":\"y\"},{\"font\":{\"color\":\"#000000\"},\"showarrow\":false,\"text\":\"\",\"x\":\"14:00\",\"xref\":\"x\",\"y\":\"Wednesday\",\"yref\":\"y\"},{\"font\":{\"color\":\"#FFFFFF\"},\"showarrow\":false,\"text\":\"\",\"x\":\"15:00\",\"xref\":\"x\",\"y\":\"Wednesday\",\"yref\":\"y\"},{\"font\":{\"color\":\"#FFFFFF\"},\"showarrow\":false,\"text\":\"\",\"x\":\"16:00\",\"xref\":\"x\",\"y\":\"Wednesday\",\"yref\":\"y\"},{\"font\":{\"color\":\"#FFFFFF\"},\"showarrow\":false,\"text\":\"\",\"x\":\"17:00\",\"xref\":\"x\",\"y\":\"Wednesday\",\"yref\":\"y\"},{\"font\":{\"color\":\"#FFFFFF\"},\"showarrow\":false,\"text\":\"\",\"x\":\"18:00\",\"xref\":\"x\",\"y\":\"Wednesday\",\"yref\":\"y\"},{\"font\":{\"color\":\"#000000\"},\"showarrow\":false,\"text\":\"\",\"x\":\"19:00\",\"xref\":\"x\",\"y\":\"Wednesday\",\"yref\":\"y\"},{\"font\":{\"color\":\"#000000\"},\"showarrow\":false,\"text\":\"\",\"x\":\"20:00\",\"xref\":\"x\",\"y\":\"Wednesday\",\"yref\":\"y\"},{\"font\":{\"color\":\"#000000\"},\"showarrow\":false,\"text\":\"\",\"x\":\"21:00\",\"xref\":\"x\",\"y\":\"Wednesday\",\"yref\":\"y\"},{\"font\":{\"color\":\"#FFFFFF\"},\"showarrow\":false,\"text\":\"\",\"x\":\"22:00\",\"xref\":\"x\",\"y\":\"Wednesday\",\"yref\":\"y\"},{\"font\":{\"color\":\"#000000\"},\"showarrow\":false,\"text\":\"C - 1\",\"x\":\"23:00\",\"xref\":\"x\",\"y\":\"Wednesday\",\"yref\":\"y\"},{\"font\":{\"color\":\"#000000\"},\"showarrow\":false,\"text\":\"\",\"x\":\"0:00\",\"xref\":\"x\",\"y\":\"Thursday\",\"yref\":\"y\"},{\"font\":{\"color\":\"#FFFFFF\"},\"showarrow\":false,\"text\":\"\",\"x\":\"1:00\",\"xref\":\"x\",\"y\":\"Thursday\",\"yref\":\"y\"},{\"font\":{\"color\":\"#000000\"},\"showarrow\":false,\"text\":\"\",\"x\":\"2:00\",\"xref\":\"x\",\"y\":\"Thursday\",\"yref\":\"y\"},{\"font\":{\"color\":\"#000000\"},\"showarrow\":false,\"text\":\"\",\"x\":\"3:00\",\"xref\":\"x\",\"y\":\"Thursday\",\"yref\":\"y\"},{\"font\":{\"color\":\"#000000\"},\"showarrow\":false,\"text\":\"\",\"x\":\"4:00\",\"xref\":\"x\",\"y\":\"Thursday\",\"yref\":\"y\"},{\"font\":{\"color\":\"#000000\"},\"showarrow\":false,\"text\":\"\",\"x\":\"5:00\",\"xref\":\"x\",\"y\":\"Thursday\",\"yref\":\"y\"},{\"font\":{\"color\":\"#000000\"},\"showarrow\":false,\"text\":\"\",\"x\":\"6:00\",\"xref\":\"x\",\"y\":\"Thursday\",\"yref\":\"y\"},{\"font\":{\"color\":\"#000000\"},\"showarrow\":false,\"text\":\"\",\"x\":\"7:00\",\"xref\":\"x\",\"y\":\"Thursday\",\"yref\":\"y\"},{\"font\":{\"color\":\"#000000\"},\"showarrow\":false,\"text\":\"\",\"x\":\"8:00\",\"xref\":\"x\",\"y\":\"Thursday\",\"yref\":\"y\"},{\"font\":{\"color\":\"#000000\"},\"showarrow\":false,\"text\":\"\",\"x\":\"9:00\",\"xref\":\"x\",\"y\":\"Thursday\",\"yref\":\"y\"},{\"font\":{\"color\":\"#000000\"},\"showarrow\":false,\"text\":\"\",\"x\":\"10:00\",\"xref\":\"x\",\"y\":\"Thursday\",\"yref\":\"y\"},{\"font\":{\"color\":\"#000000\"},\"showarrow\":false,\"text\":\"\",\"x\":\"11:00\",\"xref\":\"x\",\"y\":\"Thursday\",\"yref\":\"y\"},{\"font\":{\"color\":\"#000000\"},\"showarrow\":false,\"text\":\"\",\"x\":\"12:00\",\"xref\":\"x\",\"y\":\"Thursday\",\"yref\":\"y\"},{\"font\":{\"color\":\"#000000\"},\"showarrow\":false,\"text\":\"\",\"x\":\"13:00\",\"xref\":\"x\",\"y\":\"Thursday\",\"yref\":\"y\"},{\"font\":{\"color\":\"#000000\"},\"showarrow\":false,\"text\":\"\",\"x\":\"14:00\",\"xref\":\"x\",\"y\":\"Thursday\",\"yref\":\"y\"},{\"font\":{\"color\":\"#000000\"},\"showarrow\":false,\"text\":\"\",\"x\":\"15:00\",\"xref\":\"x\",\"y\":\"Thursday\",\"yref\":\"y\"},{\"font\":{\"color\":\"#000000\"},\"showarrow\":false,\"text\":\"\",\"x\":\"16:00\",\"xref\":\"x\",\"y\":\"Thursday\",\"yref\":\"y\"},{\"font\":{\"color\":\"#000000\"},\"showarrow\":false,\"text\":\"\",\"x\":\"17:00\",\"xref\":\"x\",\"y\":\"Thursday\",\"yref\":\"y\"},{\"font\":{\"color\":\"#000000\"},\"showarrow\":false,\"text\":\"\",\"x\":\"18:00\",\"xref\":\"x\",\"y\":\"Thursday\",\"yref\":\"y\"},{\"font\":{\"color\":\"#000000\"},\"showarrow\":false,\"text\":\"\",\"x\":\"19:00\",\"xref\":\"x\",\"y\":\"Thursday\",\"yref\":\"y\"},{\"font\":{\"color\":\"#000000\"},\"showarrow\":false,\"text\":\"\",\"x\":\"20:00\",\"xref\":\"x\",\"y\":\"Thursday\",\"yref\":\"y\"},{\"font\":{\"color\":\"#000000\"},\"showarrow\":false,\"text\":\"\",\"x\":\"21:00\",\"xref\":\"x\",\"y\":\"Thursday\",\"yref\":\"y\"},{\"font\":{\"color\":\"#000000\"},\"showarrow\":false,\"text\":\"\",\"x\":\"22:00\",\"xref\":\"x\",\"y\":\"Thursday\",\"yref\":\"y\"},{\"font\":{\"color\":\"#000000\"},\"showarrow\":false,\"text\":\"\",\"x\":\"23:00\",\"xref\":\"x\",\"y\":\"Thursday\",\"yref\":\"y\"},{\"font\":{\"color\":\"#FFFFFF\"},\"showarrow\":false,\"text\":\"\",\"x\":\"0:00\",\"xref\":\"x\",\"y\":\"Friday\",\"yref\":\"y\"},{\"font\":{\"color\":\"#000000\"},\"showarrow\":false,\"text\":\"\",\"x\":\"1:00\",\"xref\":\"x\",\"y\":\"Friday\",\"yref\":\"y\"},{\"font\":{\"color\":\"#000000\"},\"showarrow\":false,\"text\":\"\",\"x\":\"2:00\",\"xref\":\"x\",\"y\":\"Friday\",\"yref\":\"y\"},{\"font\":{\"color\":\"#FFFFFF\"},\"showarrow\":false,\"text\":\"\",\"x\":\"3:00\",\"xref\":\"x\",\"y\":\"Friday\",\"yref\":\"y\"},{\"font\":{\"color\":\"#000000\"},\"showarrow\":false,\"text\":\"\",\"x\":\"4:00\",\"xref\":\"x\",\"y\":\"Friday\",\"yref\":\"y\"},{\"font\":{\"color\":\"#000000\"},\"showarrow\":false,\"text\":\"\",\"x\":\"5:00\",\"xref\":\"x\",\"y\":\"Friday\",\"yref\":\"y\"},{\"font\":{\"color\":\"#000000\"},\"showarrow\":false,\"text\":\"\",\"x\":\"6:00\",\"xref\":\"x\",\"y\":\"Friday\",\"yref\":\"y\"},{\"font\":{\"color\":\"#000000\"},\"showarrow\":false,\"text\":\"\",\"x\":\"7:00\",\"xref\":\"x\",\"y\":\"Friday\",\"yref\":\"y\"},{\"font\":{\"color\":\"#000000\"},\"showarrow\":false,\"text\":\"\",\"x\":\"8:00\",\"xref\":\"x\",\"y\":\"Friday\",\"yref\":\"y\"},{\"font\":{\"color\":\"#000000\"},\"showarrow\":false,\"text\":\"\",\"x\":\"9:00\",\"xref\":\"x\",\"y\":\"Friday\",\"yref\":\"y\"},{\"font\":{\"color\":\"#000000\"},\"showarrow\":false,\"text\":\"\",\"x\":\"10:00\",\"xref\":\"x\",\"y\":\"Friday\",\"yref\":\"y\"},{\"font\":{\"color\":\"#000000\"},\"showarrow\":false,\"text\":\"\",\"x\":\"11:00\",\"xref\":\"x\",\"y\":\"Friday\",\"yref\":\"y\"},{\"font\":{\"color\":\"#FFFFFF\"},\"showarrow\":false,\"text\":\"\",\"x\":\"12:00\",\"xref\":\"x\",\"y\":\"Friday\",\"yref\":\"y\"},{\"font\":{\"color\":\"#000000\"},\"showarrow\":false,\"text\":\"\",\"x\":\"13:00\",\"xref\":\"x\",\"y\":\"Friday\",\"yref\":\"y\"},{\"font\":{\"color\":\"#000000\"},\"showarrow\":false,\"text\":\"\",\"x\":\"14:00\",\"xref\":\"x\",\"y\":\"Friday\",\"yref\":\"y\"},{\"font\":{\"color\":\"#000000\"},\"showarrow\":false,\"text\":\"\",\"x\":\"15:00\",\"xref\":\"x\",\"y\":\"Friday\",\"yref\":\"y\"},{\"font\":{\"color\":\"#000000\"},\"showarrow\":false,\"text\":\"\",\"x\":\"16:00\",\"xref\":\"x\",\"y\":\"Friday\",\"yref\":\"y\"},{\"font\":{\"color\":\"#000000\"},\"showarrow\":false,\"text\":\"\",\"x\":\"17:00\",\"xref\":\"x\",\"y\":\"Friday\",\"yref\":\"y\"},{\"font\":{\"color\":\"#000000\"},\"showarrow\":false,\"text\":\"\",\"x\":\"18:00\",\"xref\":\"x\",\"y\":\"Friday\",\"yref\":\"y\"},{\"font\":{\"color\":\"#000000\"},\"showarrow\":false,\"text\":\"\",\"x\":\"19:00\",\"xref\":\"x\",\"y\":\"Friday\",\"yref\":\"y\"},{\"font\":{\"color\":\"#000000\"},\"showarrow\":false,\"text\":\"\",\"x\":\"20:00\",\"xref\":\"x\",\"y\":\"Friday\",\"yref\":\"y\"},{\"font\":{\"color\":\"#000000\"},\"showarrow\":false,\"text\":\"\",\"x\":\"21:00\",\"xref\":\"x\",\"y\":\"Friday\",\"yref\":\"y\"},{\"font\":{\"color\":\"#000000\"},\"showarrow\":false,\"text\":\"\",\"x\":\"22:00\",\"xref\":\"x\",\"y\":\"Friday\",\"yref\":\"y\"},{\"font\":{\"color\":\"#000000\"},\"showarrow\":false,\"text\":\"\",\"x\":\"23:00\",\"xref\":\"x\",\"y\":\"Friday\",\"yref\":\"y\"}],\"xaxis\":{\"dtick\":1,\"gridcolor\":\"rgb(0, 0, 0)\",\"side\":\"bottom\",\"ticks\":\"\",\"showgrid\":false,\"zeroline\":false},\"yaxis\":{\"dtick\":1,\"ticks\":\"\",\"ticksuffix\":\"  \",\"showgrid\":false,\"zeroline\":false},\"template\":{\"data\":{\"bar\":[{\"error_x\":{\"color\":\"#2a3f5f\"},\"error_y\":{\"color\":\"#2a3f5f\"},\"marker\":{\"line\":{\"color\":\"#E5ECF6\",\"width\":0.5},\"pattern\":{\"fillmode\":\"overlay\",\"size\":10,\"solidity\":0.2}},\"type\":\"bar\"}],\"barpolar\":[{\"marker\":{\"line\":{\"color\":\"#E5ECF6\",\"width\":0.5},\"pattern\":{\"fillmode\":\"overlay\",\"size\":10,\"solidity\":0.2}},\"type\":\"barpolar\"}],\"carpet\":[{\"aaxis\":{\"endlinecolor\":\"#2a3f5f\",\"gridcolor\":\"white\",\"linecolor\":\"white\",\"minorgridcolor\":\"white\",\"startlinecolor\":\"#2a3f5f\"},\"baxis\":{\"endlinecolor\":\"#2a3f5f\",\"gridcolor\":\"white\",\"linecolor\":\"white\",\"minorgridcolor\":\"white\",\"startlinecolor\":\"#2a3f5f\"},\"type\":\"carpet\"}],\"choropleth\":[{\"colorbar\":{\"outlinewidth\":0,\"ticks\":\"\"},\"type\":\"choropleth\"}],\"contour\":[{\"colorbar\":{\"outlinewidth\":0,\"ticks\":\"\"},\"colorscale\":[[0.0,\"#0d0887\"],[0.1111111111111111,\"#46039f\"],[0.2222222222222222,\"#7201a8\"],[0.3333333333333333,\"#9c179e\"],[0.4444444444444444,\"#bd3786\"],[0.5555555555555556,\"#d8576b\"],[0.6666666666666666,\"#ed7953\"],[0.7777777777777778,\"#fb9f3a\"],[0.8888888888888888,\"#fdca26\"],[1.0,\"#f0f921\"]],\"type\":\"contour\"}],\"contourcarpet\":[{\"colorbar\":{\"outlinewidth\":0,\"ticks\":\"\"},\"type\":\"contourcarpet\"}],\"heatmap\":[{\"colorbar\":{\"outlinewidth\":0,\"ticks\":\"\"},\"colorscale\":[[0.0,\"#0d0887\"],[0.1111111111111111,\"#46039f\"],[0.2222222222222222,\"#7201a8\"],[0.3333333333333333,\"#9c179e\"],[0.4444444444444444,\"#bd3786\"],[0.5555555555555556,\"#d8576b\"],[0.6666666666666666,\"#ed7953\"],[0.7777777777777778,\"#fb9f3a\"],[0.8888888888888888,\"#fdca26\"],[1.0,\"#f0f921\"]],\"type\":\"heatmap\"}],\"heatmapgl\":[{\"colorbar\":{\"outlinewidth\":0,\"ticks\":\"\"},\"colorscale\":[[0.0,\"#0d0887\"],[0.1111111111111111,\"#46039f\"],[0.2222222222222222,\"#7201a8\"],[0.3333333333333333,\"#9c179e\"],[0.4444444444444444,\"#bd3786\"],[0.5555555555555556,\"#d8576b\"],[0.6666666666666666,\"#ed7953\"],[0.7777777777777778,\"#fb9f3a\"],[0.8888888888888888,\"#fdca26\"],[1.0,\"#f0f921\"]],\"type\":\"heatmapgl\"}],\"histogram\":[{\"marker\":{\"pattern\":{\"fillmode\":\"overlay\",\"size\":10,\"solidity\":0.2}},\"type\":\"histogram\"}],\"histogram2d\":[{\"colorbar\":{\"outlinewidth\":0,\"ticks\":\"\"},\"colorscale\":[[0.0,\"#0d0887\"],[0.1111111111111111,\"#46039f\"],[0.2222222222222222,\"#7201a8\"],[0.3333333333333333,\"#9c179e\"],[0.4444444444444444,\"#bd3786\"],[0.5555555555555556,\"#d8576b\"],[0.6666666666666666,\"#ed7953\"],[0.7777777777777778,\"#fb9f3a\"],[0.8888888888888888,\"#fdca26\"],[1.0,\"#f0f921\"]],\"type\":\"histogram2d\"}],\"histogram2dcontour\":[{\"colorbar\":{\"outlinewidth\":0,\"ticks\":\"\"},\"colorscale\":[[0.0,\"#0d0887\"],[0.1111111111111111,\"#46039f\"],[0.2222222222222222,\"#7201a8\"],[0.3333333333333333,\"#9c179e\"],[0.4444444444444444,\"#bd3786\"],[0.5555555555555556,\"#d8576b\"],[0.6666666666666666,\"#ed7953\"],[0.7777777777777778,\"#fb9f3a\"],[0.8888888888888888,\"#fdca26\"],[1.0,\"#f0f921\"]],\"type\":\"histogram2dcontour\"}],\"mesh3d\":[{\"colorbar\":{\"outlinewidth\":0,\"ticks\":\"\"},\"type\":\"mesh3d\"}],\"parcoords\":[{\"line\":{\"colorbar\":{\"outlinewidth\":0,\"ticks\":\"\"}},\"type\":\"parcoords\"}],\"pie\":[{\"automargin\":true,\"type\":\"pie\"}],\"scatter\":[{\"marker\":{\"colorbar\":{\"outlinewidth\":0,\"ticks\":\"\"}},\"type\":\"scatter\"}],\"scatter3d\":[{\"line\":{\"colorbar\":{\"outlinewidth\":0,\"ticks\":\"\"}},\"marker\":{\"colorbar\":{\"outlinewidth\":0,\"ticks\":\"\"}},\"type\":\"scatter3d\"}],\"scattercarpet\":[{\"marker\":{\"colorbar\":{\"outlinewidth\":0,\"ticks\":\"\"}},\"type\":\"scattercarpet\"}],\"scattergeo\":[{\"marker\":{\"colorbar\":{\"outlinewidth\":0,\"ticks\":\"\"}},\"type\":\"scattergeo\"}],\"scattergl\":[{\"marker\":{\"colorbar\":{\"outlinewidth\":0,\"ticks\":\"\"}},\"type\":\"scattergl\"}],\"scattermapbox\":[{\"marker\":{\"colorbar\":{\"outlinewidth\":0,\"ticks\":\"\"}},\"type\":\"scattermapbox\"}],\"scatterpolar\":[{\"marker\":{\"colorbar\":{\"outlinewidth\":0,\"ticks\":\"\"}},\"type\":\"scatterpolar\"}],\"scatterpolargl\":[{\"marker\":{\"colorbar\":{\"outlinewidth\":0,\"ticks\":\"\"}},\"type\":\"scatterpolargl\"}],\"scatterternary\":[{\"marker\":{\"colorbar\":{\"outlinewidth\":0,\"ticks\":\"\"}},\"type\":\"scatterternary\"}],\"surface\":[{\"colorbar\":{\"outlinewidth\":0,\"ticks\":\"\"},\"colorscale\":[[0.0,\"#0d0887\"],[0.1111111111111111,\"#46039f\"],[0.2222222222222222,\"#7201a8\"],[0.3333333333333333,\"#9c179e\"],[0.4444444444444444,\"#bd3786\"],[0.5555555555555556,\"#d8576b\"],[0.6666666666666666,\"#ed7953\"],[0.7777777777777778,\"#fb9f3a\"],[0.8888888888888888,\"#fdca26\"],[1.0,\"#f0f921\"]],\"type\":\"surface\"}],\"table\":[{\"cells\":{\"fill\":{\"color\":\"#EBF0F8\"},\"line\":{\"color\":\"white\"}},\"header\":{\"fill\":{\"color\":\"#C8D4E3\"},\"line\":{\"color\":\"white\"}},\"type\":\"table\"}]},\"layout\":{\"annotationdefaults\":{\"arrowcolor\":\"#2a3f5f\",\"arrowhead\":0,\"arrowwidth\":1},\"autotypenumbers\":\"strict\",\"coloraxis\":{\"colorbar\":{\"outlinewidth\":0,\"ticks\":\"\"}},\"colorscale\":{\"diverging\":[[0,\"#8e0152\"],[0.1,\"#c51b7d\"],[0.2,\"#de77ae\"],[0.3,\"#f1b6da\"],[0.4,\"#fde0ef\"],[0.5,\"#f7f7f7\"],[0.6,\"#e6f5d0\"],[0.7,\"#b8e186\"],[0.8,\"#7fbc41\"],[0.9,\"#4d9221\"],[1,\"#276419\"]],\"sequential\":[[0.0,\"#0d0887\"],[0.1111111111111111,\"#46039f\"],[0.2222222222222222,\"#7201a8\"],[0.3333333333333333,\"#9c179e\"],[0.4444444444444444,\"#bd3786\"],[0.5555555555555556,\"#d8576b\"],[0.6666666666666666,\"#ed7953\"],[0.7777777777777778,\"#fb9f3a\"],[0.8888888888888888,\"#fdca26\"],[1.0,\"#f0f921\"]],\"sequentialminus\":[[0.0,\"#0d0887\"],[0.1111111111111111,\"#46039f\"],[0.2222222222222222,\"#7201a8\"],[0.3333333333333333,\"#9c179e\"],[0.4444444444444444,\"#bd3786\"],[0.5555555555555556,\"#d8576b\"],[0.6666666666666666,\"#ed7953\"],[0.7777777777777778,\"#fb9f3a\"],[0.8888888888888888,\"#fdca26\"],[1.0,\"#f0f921\"]]},\"colorway\":[\"#636efa\",\"#EF553B\",\"#00cc96\",\"#ab63fa\",\"#FFA15A\",\"#19d3f3\",\"#FF6692\",\"#B6E880\",\"#FF97FF\",\"#FECB52\"],\"font\":{\"color\":\"#2a3f5f\"},\"geo\":{\"bgcolor\":\"white\",\"lakecolor\":\"white\",\"landcolor\":\"#E5ECF6\",\"showlakes\":true,\"showland\":true,\"subunitcolor\":\"white\"},\"hoverlabel\":{\"align\":\"left\"},\"hovermode\":\"closest\",\"mapbox\":{\"style\":\"light\"},\"paper_bgcolor\":\"white\",\"plot_bgcolor\":\"#E5ECF6\",\"polar\":{\"angularaxis\":{\"gridcolor\":\"white\",\"linecolor\":\"white\",\"ticks\":\"\"},\"bgcolor\":\"#E5ECF6\",\"radialaxis\":{\"gridcolor\":\"white\",\"linecolor\":\"white\",\"ticks\":\"\"}},\"scene\":{\"xaxis\":{\"backgroundcolor\":\"#E5ECF6\",\"gridcolor\":\"white\",\"gridwidth\":2,\"linecolor\":\"white\",\"showbackground\":true,\"ticks\":\"\",\"zerolinecolor\":\"white\"},\"yaxis\":{\"backgroundcolor\":\"#E5ECF6\",\"gridcolor\":\"white\",\"gridwidth\":2,\"linecolor\":\"white\",\"showbackground\":true,\"ticks\":\"\",\"zerolinecolor\":\"white\"},\"zaxis\":{\"backgroundcolor\":\"#E5ECF6\",\"gridcolor\":\"white\",\"gridwidth\":2,\"linecolor\":\"white\",\"showbackground\":true,\"ticks\":\"\",\"zerolinecolor\":\"white\"}},\"shapedefaults\":{\"line\":{\"color\":\"#2a3f5f\"}},\"ternary\":{\"aaxis\":{\"gridcolor\":\"white\",\"linecolor\":\"white\",\"ticks\":\"\"},\"baxis\":{\"gridcolor\":\"white\",\"linecolor\":\"white\",\"ticks\":\"\"},\"bgcolor\":\"#E5ECF6\",\"caxis\":{\"gridcolor\":\"white\",\"linecolor\":\"white\",\"ticks\":\"\"}},\"title\":{\"x\":0.05},\"xaxis\":{\"automargin\":true,\"gridcolor\":\"white\",\"linecolor\":\"white\",\"ticks\":\"\",\"title\":{\"standoff\":15},\"zerolinecolor\":\"white\",\"zerolinewidth\":2},\"yaxis\":{\"automargin\":true,\"gridcolor\":\"white\",\"linecolor\":\"white\",\"ticks\":\"\",\"title\":{\"standoff\":15},\"zerolinecolor\":\"white\",\"zerolinewidth\":2}}},\"margin\":{\"l\":50,\"r\":50,\"t\":40,\"b\":40},\"font\":{\"family\":\"IRANSans\",\"size\":12,\"color\":\"RebeccaPurple\"},\"autosize\":false,\"width\":1200,\"height\":400},                        {\"responsive\": true}                    ).then(function(){\n",
       "                            \n",
       "var gd = document.getElementById('417ce346-afd5-4fda-9d70-6d7938e0cddc');\n",
       "var x = new MutationObserver(function (mutations, observer) {{\n",
       "        var display = window.getComputedStyle(gd).display;\n",
       "        if (!display || display === 'none') {{\n",
       "            console.log([gd, 'removed!']);\n",
       "            Plotly.purge(gd);\n",
       "            observer.disconnect();\n",
       "        }}\n",
       "}});\n",
       "\n",
       "// Listen for the removal of the full notebook cells\n",
       "var notebookContainer = gd.closest('#notebook-container');\n",
       "if (notebookContainer) {{\n",
       "    x.observe(notebookContainer, {childList: true});\n",
       "}}\n",
       "\n",
       "// Listen for the clearing of the current output cell\n",
       "var outputEl = gd.closest('.output');\n",
       "if (outputEl) {{\n",
       "    x.observe(outputEl, {childList: true});\n",
       "}}\n",
       "\n",
       "                        })                };                });            </script>        </div>"
      ]
     },
     "metadata": {},
     "output_type": "display_data"
    }
   ],
   "source": [
    "import plotly.figure_factory as ff\n",
    "\n",
    "fig = ff.create_annotated_heatmap(data,\n",
    "                                  x=list(part_one.hour.unique()),\n",
    "                                  y=list(part_one.Weekday.unique()),\n",
    "                                  annotation_text=text,\n",
    "                                  colorscale=[\"rgb(248, 255, 143)\",\"rgb(240, 24, 42)\"],\n",
    "                                  xgap=2,\n",
    "                                  ygap=2\n",
    "                                 )\n",
    "\n",
    "fig.update_layout(autosize=False, width=1200, height=400,\n",
    "                  margin=dict(l=50, r=50, t=40, b=40),\n",
    "                  font=dict(\n",
    "                       family=\"IRANSans\",\n",
    "                       size=12,\n",
    "                       color=\"RebeccaPurple\"\n",
    "                   ))\n",
    "\n",
    "fig.update_xaxes(showgrid=False, zeroline=False)\n",
    "fig.update_yaxes(showgrid=False, zeroline=False)\n",
    "\n",
    "fig['layout']['xaxis']['side'] = 'bottom'\n",
    "\n",
    "fig.show()"
   ]
  },
  {
   "cell_type": "code",
   "execution_count": null,
   "id": "b00bef10-ce70-48d6-b420-f89012ac5586",
   "metadata": {},
   "outputs": [],
   "source": []
  }
 ],
 "metadata": {
  "kernelspec": {
   "display_name": "Python 3 (ipykernel)",
   "language": "python",
   "name": "python3"
  },
  "language_info": {
   "codemirror_mode": {
    "name": "ipython",
    "version": 3
   },
   "file_extension": ".py",
   "mimetype": "text/x-python",
   "name": "python",
   "nbconvert_exporter": "python",
   "pygments_lexer": "ipython3",
   "version": "3.8.13"
  }
 },
 "nbformat": 4,
 "nbformat_minor": 5
}
