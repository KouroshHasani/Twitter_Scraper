{
 "cells": [
  {
   "cell_type": "code",
   "execution_count": 1,
   "id": "fc9a68ed-60fb-452b-b0ac-44f84697c537",
   "metadata": {
    "tags": []
   },
   "outputs": [],
   "source": [
    "from msedge.selenium_tools import Edge, EdgeOptions\n",
    "from selenium.webdriver.common.keys import Keys\n",
    "from time import sleep\n",
    "import sys\n",
    "import re\n",
    "from collections import defaultdict\n",
    "import pandas as pd\n",
    "import datetime as dt\n",
    "from datetime import timedelta\n",
    "from hashlib import sha256\n",
    "import os.path\n",
    "from src import DATA_DIR\n",
    "from hazm import Normalizer, sent_tokenize, word_tokenize\n",
    "import plotly.express as px\n",
    "from collections import Counter\n",
    "\n",
    "import warnings\n",
    "warnings.filterwarnings(\"ignore\")"
   ]
  },
  {
   "cell_type": "code",
   "execution_count": 16,
   "id": "1771c969-1f18-4a73-981f-9813f3f78b84",
   "metadata": {},
   "outputs": [],
   "source": [
    "class Twitter_scraper:\n",
    "    def __init__(self, driver):\n",
    "        self.driver = driver\n",
    "        sleep(1)\n",
    "        self.driver.get('https://twitter.com/explore')\n",
    "        sleep(4)\n",
    "        \n",
    "    \n",
    "    def save_file(self, list_, exprot_file_name):\n",
    "        df = pd.DataFrame(list_, columns=['Tweet_ID', 'Username',\n",
    "                                          'User_ID', 'DateTime',\n",
    "                                          'Text', 'Reply_to',\n",
    "                                          'Hashtag', 'Reply',\n",
    "                                          'Retweet', 'Like',\n",
    "                                         ])\n",
    "\n",
    "        if not os.path.isfile(DATA_DIR / f'data/{exprot_file_name}.csv'):\n",
    "            df.to_csv(DATA_DIR / f'data/{exprot_file_name}.csv', encoding=\"utf-8-sig\", index=False)\n",
    "\n",
    "        else:\n",
    "            df.to_csv(DATA_DIR / f'data/{exprot_file_name}.csv', encoding=\"utf-8-sig\", mode='a', header=False, index=False)\n",
    "            \n",
    "            \n",
    "    \n",
    "    def get_tweet_data(self, exprot_file_name, search_query:dict, max_tweet=None):\n",
    "        \n",
    "        ''' \n",
    "        *** Extract tweets ***\n",
    "        \n",
    "                :param search_query: (dict) Gets search query. The dictionary can have following keys:\n",
    "                    - include: (list) Words that must be in tweet text. Each element is a list. This method will combine different elements with 'AND'\n",
    "                      operator and each element words with 'OR' operator.\n",
    "\n",
    "                    - not_include: (list) Words that shouldn't be in tweet text. Each element is a list. This method will combine different elements\n",
    "                      with 'AND' operator and each element words with 'OR' operator.\n",
    "\n",
    "                    - from: (list) Filters tweets that sent from specific Twitter accounts\n",
    "\n",
    "                    - to: (list) Filters tweets that sent in reply to specific Twitter accounts\n",
    "\n",
    "                    - since: (str, samp = “2015-12-21”) Containing tweets that sent since a specific date\n",
    "\n",
    "                    - until: (str, samp = “2022-12-21”) Containing tweets that sent until a specific date\n",
    "\n",
    "                    - mentioning: (list) Containing tweets that mentioning specific Twitter accounts\n",
    "\n",
    "                    - question: ('True', 'False') If True, gets all tweet, that were recognized by twitter AI as a question\n",
    "\n",
    "                :param max_tweet= (int) Ahen reachs to the number, running will stop\n",
    "\n",
    "        '''\n",
    "        \n",
    "        # Read Unique IDs\n",
    "        unique_tweet_ids = set()\n",
    "        \n",
    "        if os.path.isfile(DATA_DIR / f'data/{exprot_file_name}.csv'):\n",
    "            df = pd.read_csv(DATA_DIR / f'data/{exprot_file_name}.csv', encoding=\"utf-8-sig\")\n",
    "            unique_tweet_ids = set(df.Tweet_ID)\n",
    "        \n",
    "        \n",
    "        # Create Search Query\n",
    "        serach_text = ''\n",
    "        _ = []\n",
    "        \n",
    "        for elem in search_query['include']:\n",
    "            _.append(\"((\" + \") OR (\".join(elem) + \"))\")\n",
    "            \n",
    "        serach_text = \"((\" + \") AND (\".join(_) + \"))\"\n",
    "        \n",
    "        \n",
    "        if 'not_include' in search_query.keys():\n",
    "            _ = []\n",
    "            for elem in search_query['not_include']:\n",
    "                _.append(\"((\" + \") AND (\".join(elem) + \"))\")\n",
    "                \n",
    "            serach_text += \" -((\" + \") OR (\".join(_) + \"))\"\n",
    "        \n",
    "        if 'from' in search_query.keys():\n",
    "            serach_text += ' (from:' + ' OR from:'.join(search_query['from']) + ')'\n",
    "            \n",
    "        if 'to' in search_query.keys():\n",
    "            serach_text += ' (to:' + ' OR to:'.join(search_query['to']) + ')'\n",
    "            \n",
    "        if 'lang' in search_query.keys():\n",
    "            serach_text += ' lang:' + search_query['lang']\n",
    "            \n",
    "        if 'since' in search_query.keys():\n",
    "            serach_text += f\" since:{search_query['since']}\"\n",
    "            \n",
    "        if 'until' in search_query.keys():\n",
    "            serach_text += f\" until:{search_query['until']}\"\n",
    "        \n",
    "        if 'mentioning' in search_query.keys():\n",
    "            serach_text += ' (@' + ' @'.join([search_query['mentioning']]) + ')'\n",
    "        \n",
    "        \n",
    "        # Enter Search Query in Twitter search box\n",
    "        sleep(3)\n",
    "        search = self.driver.find_element('xpath', '//label[@data-testid=\"SearchBox_Search_Input_label\"]')\n",
    "        search.send_keys(Keys.CONTROL + \"a\")\n",
    "        search.send_keys(Keys.DELETE)\n",
    "        search.send_keys(serach_text)\n",
    "        search.send_keys(Keys.RETURN)\n",
    "\n",
    "        # Go to 'Latest' tweets\n",
    "        sleep(10)\n",
    "        self.driver.find_element('link text', 'Latest').click()\n",
    "\n",
    "        # Scraping\n",
    "        last_positon = self.driver.execute_script('return window.pageYOffset;')\n",
    "        scrolling = True\n",
    "        list_ = []\n",
    "        progress = 1\n",
    "        \n",
    "        while scrolling:\n",
    "            sleep(2)\n",
    "            tweets = self.driver.find_elements('xpath', '//article[@data-testid=\"tweet\"]')  \n",
    "\n",
    "            for tweet in tweets[-min(24, len(tweets)-1):]:\n",
    "                try:\n",
    "                    reply_to, hashtag = str(), str()\n",
    "                    text = tweet.find_element('xpath', './/div[@data-testid=\"tweetText\"]').text\n",
    "\n",
    "                    if 'Replying to \\n@' in tweet.text:\n",
    "                        reply_to = tweet.find_element(\n",
    "                            'xpath', './/div[@class=\"css-901oao r-1bwzh9t r-37j5jr r-a023e6 r-16dba41 r-rjixqe r-bcqeeo r-qvutc0\"]'\n",
    "                        ).text.split()\n",
    "                        reply_to = [id_ for id_ in reply_to if id_[0] == '@']\n",
    "\n",
    "                    if '#' in text:\n",
    "                        words = text.split()\n",
    "                        hashtag = [word for word in words if word[0] == '#']\n",
    "\n",
    "                    reply = tweet.find_element('xpath', './/div[@data-testid=\"reply\"]').text\n",
    "                    retweet = tweet.find_element('xpath', './/div[@data-testid=\"retweet\"]').text\n",
    "                    like = tweet.find_element('xpath', './/div[@data-testid=\"like\"]').text\n",
    "\n",
    "                    header = tweet.find_element('xpath', './/div[@data-testid=\"User-Names\"]')\n",
    "                    _ = header.find_element('xpath', './/time').get_attribute('datetime')\n",
    "                    datetime = dt.datetime.strptime(_, '%Y-%m-%dT%H:%M:%S.000Z') + timedelta(hours=4.5)\n",
    "\n",
    "                    info = header.text.split('@')\n",
    "                    username = info[0].strip('\\n')\n",
    "                    user_id = '@' + info[1].split()[0]\n",
    "\n",
    "                    tweet_id = sha256(\"\".join([user_id, str(datetime), text]).encode()).hexdigest()\n",
    "                    \n",
    "                    \n",
    "                    if tweet_id not in unique_tweet_ids:\n",
    "                        sys.stdout.write('\\r')\n",
    "                        sys.stdout.write(f\"Saved: {progress - progress % 100}     Current_State: [ Tweet: {progress}    Date: {str(datetime)[:7]} ] {' '*20}‌\")\n",
    "                        sys.stdout.flush()\n",
    "                        progress += 1\n",
    "                        \n",
    "                        list_.append([tweet_id, username, user_id, datetime, text, reply_to, hashtag, reply, retweet, like])\n",
    "                        unique_tweet_ids.add(tweet_id)\n",
    "                        \n",
    "                        if len(list_) >= 100 or progress > max_tweet:\n",
    "                            self.save_file(list_, exprot_file_name)\n",
    "                            list_ = []\n",
    "                            \n",
    "                        if progress > max_tweet:\n",
    "                            scrolling = False\n",
    "                            break\n",
    "                            \n",
    "                        if progress % 500 == 0:\n",
    "                            search = self.driver.find_element('xpath', '//label[@data-testid=\"SearchBox_Search_Input_label\"]')\n",
    "                            search.send_keys(Keys.CONTROL + \"a\")\n",
    "                            search.send_keys(Keys.DELETE)\n",
    "                            search.send_keys(serach_text + str(datetime)[:10])\n",
    "                            search.send_keys(Keys.RETURN)\n",
    "                            sleep(10)\n",
    "                        \n",
    "                except:\n",
    "                    pass\n",
    "            \n",
    "            # Scrolling\n",
    "            scroll_attemp = 0\n",
    "            \n",
    "            while True:\n",
    "                self.driver.execute_script('window.scrollTo(0, document.body.scrollHeight);')\n",
    "                sleep(4)\n",
    "                current_positon = self.driver.execute_script('return window.pageYOffset;')\n",
    "\n",
    "                if current_positon == last_positon:\n",
    "                    scroll_attemp += 1  \n",
    "                    if scroll_attemp >= 4:\n",
    "                        if len(list_) > 0:\n",
    "                            self.save_file(list_, exprot_file_name)\n",
    "                            list_ = []\n",
    "                            \n",
    "                        scrolling = False\n",
    "                        break\n",
    "                    else:\n",
    "                        sleep(3)\n",
    "                else:\n",
    "                    last_positon = current_positon\n",
    "                    break"
   ]
  },
  {
   "cell_type": "markdown",
   "id": "cdfa1e0e-cfa9-430b-a2fd-cede581c0193",
   "metadata": {},
   "source": [
    "### \n",
    "## Scraping Twitter"
   ]
  },
  {
   "cell_type": "code",
   "execution_count": 3,
   "id": "fe16a086-0457-40d2-8094-b54636c48456",
   "metadata": {},
   "outputs": [],
   "source": [
    "options = EdgeOptions()\n",
    "options.use_chromium = True\n",
    "options.add_argument(\"-inprivate\")\n",
    "options.binary_location = r\"C:\\Program Files (x86)\\Microsoft\\Edge\\Application\\msedge.exe\"\n",
    "\n",
    "driver = Edge('/mnt/f/msedgedriver.exe', options=options)"
   ]
  },
  {
   "cell_type": "code",
   "execution_count": 17,
   "id": "177e320f-b9ca-4b1b-8385-4566fabdf971",
   "metadata": {
    "tags": []
   },
   "outputs": [],
   "source": [
    "tweet = Twitter_scraper(driver)"
   ]
  },
  {
   "cell_type": "markdown",
   "id": "3fa44e35-2338-465e-8c5e-a4585dca52a5",
   "metadata": {},
   "source": [
    "##### 01_simple"
   ]
  },
  {
   "cell_type": "code",
   "execution_count": 18,
   "id": "366307f5-e692-4399-a694-b32f517725a7",
   "metadata": {
    "tags": []
   },
   "outputs": [
    {
     "name": "stdout",
     "output_type": "stream",
     "text": [
      "Saved: 0     Current_State: [ Tweet: 18    Date: 2022-08 ]                     ‌"
     ]
    },
    {
     "ename": "KeyboardInterrupt",
     "evalue": "",
     "output_type": "error",
     "traceback": [
      "\u001b[0;31m---------------------------------------------------------------------------\u001b[0m",
      "\u001b[0;31mKeyboardInterrupt\u001b[0m                         Traceback (most recent call last)",
      "Input \u001b[0;32mIn [18]\u001b[0m, in \u001b[0;36m<cell line: 1>\u001b[0;34m()\u001b[0m\n\u001b[0;32m----> 1\u001b[0m \u001b[43mtweet\u001b[49m\u001b[38;5;241;43m.\u001b[39;49m\u001b[43mget_tweet_data\u001b[49m\u001b[43m(\u001b[49m\n\u001b[1;32m      2\u001b[0m \u001b[43m    \u001b[49m\u001b[43msearch_query\u001b[49m\u001b[38;5;241;43m=\u001b[39;49m\u001b[43m{\u001b[49m\u001b[38;5;124;43m'\u001b[39;49m\u001b[38;5;124;43minclude\u001b[39;49m\u001b[38;5;124;43m'\u001b[39;49m\u001b[43m:\u001b[49m\u001b[43m \u001b[49m\u001b[43m[\u001b[49m\u001b[43m[\u001b[49m\u001b[38;5;124;43m'\u001b[39;49m\u001b[38;5;124;43mبورس\u001b[39;49m\u001b[38;5;124;43m'\u001b[39;49m\u001b[43m,\u001b[49m\u001b[43m \u001b[49m\u001b[38;5;124;43m'\u001b[39;49m\u001b[38;5;124;43mشاخص کل\u001b[39;49m\u001b[38;5;124;43m'\u001b[39;49m\u001b[43m,\u001b[49m\u001b[43m \u001b[49m\u001b[38;5;124;43m'\u001b[39;49m\u001b[38;5;124;43mفرابوس\u001b[39;49m\u001b[38;5;124;43m'\u001b[39;49m\n\u001b[1;32m      3\u001b[0m \u001b[43m                              \u001b[49m\u001b[43m]\u001b[49m\u001b[43m,\u001b[49m\n\u001b[1;32m      4\u001b[0m \u001b[43m                              \u001b[49m\u001b[43m[\u001b[49m\u001b[38;5;124;43m'\u001b[39;49m\u001b[38;5;124;43mشاخص کل\u001b[39;49m\u001b[38;5;124;43m'\u001b[39;49m\u001b[43m,\u001b[49m\u001b[43m \u001b[49m\u001b[38;5;124;43m'\u001b[39;49m\u001b[38;5;124;43mشاخص قیمت\u001b[39;49m\u001b[38;5;124;43m'\u001b[39;49m\n\u001b[1;32m      5\u001b[0m \u001b[43m                              \u001b[49m\u001b[43m]\u001b[49m\u001b[43m,\u001b[49m\n\u001b[1;32m      6\u001b[0m \u001b[43m                             \u001b[49m\u001b[43m]\u001b[49m\u001b[43m,\u001b[49m\n\u001b[1;32m      7\u001b[0m \u001b[43m                  \u001b[49m\n\u001b[1;32m      8\u001b[0m \u001b[43m                  \u001b[49m\u001b[38;5;124;43m'\u001b[39;49m\u001b[38;5;124;43mnot_include\u001b[39;49m\u001b[38;5;124;43m'\u001b[39;49m\u001b[43m:\u001b[49m\u001b[43m \u001b[49m\u001b[43m[\u001b[49m\u001b[43m[\u001b[49m\u001b[38;5;124;43m'\u001b[39;49m\u001b[38;5;124;43mایران\u001b[39;49m\u001b[38;5;124;43m'\u001b[39;49m\u001b[43m,\u001b[49m\n\u001b[1;32m      9\u001b[0m \u001b[43m                                  \u001b[49m\u001b[43m]\u001b[49m\u001b[43m,\u001b[49m\n\u001b[1;32m     10\u001b[0m \u001b[43m                                  \u001b[49m\u001b[43m[\u001b[49m\u001b[38;5;124;43m'\u001b[39;49m\u001b[38;5;124;43mآخوند\u001b[39;49m\u001b[38;5;124;43m'\u001b[39;49m\n\u001b[1;32m     11\u001b[0m \u001b[43m                                  \u001b[49m\u001b[43m]\u001b[49m\u001b[43m,\u001b[49m\n\u001b[1;32m     12\u001b[0m \u001b[43m                                  \u001b[49m\u001b[43m[\u001b[49m\u001b[38;5;124;43m'\u001b[39;49m\u001b[38;5;124;43mجمهوری\u001b[39;49m\u001b[38;5;124;43m'\u001b[39;49m\n\u001b[1;32m     13\u001b[0m \u001b[43m                                  \u001b[49m\u001b[43m]\u001b[49m\n\u001b[1;32m     14\u001b[0m \u001b[43m                                 \u001b[49m\u001b[43m]\u001b[49m\u001b[43m,\u001b[49m\n\u001b[1;32m     15\u001b[0m \u001b[43m                  \u001b[49m\n\u001b[1;32m     16\u001b[0m \u001b[43m                  \u001b[49m\u001b[38;5;124;43m'\u001b[39;49m\u001b[38;5;124;43mlang\u001b[39;49m\u001b[38;5;124;43m'\u001b[39;49m\u001b[43m:\u001b[49m\u001b[43m \u001b[49m\u001b[38;5;124;43m'\u001b[39;49m\u001b[38;5;124;43mfa\u001b[39;49m\u001b[38;5;124;43m'\u001b[39;49m\u001b[43m,\u001b[49m\n\u001b[1;32m     17\u001b[0m \u001b[43m                  \u001b[49m\n\u001b[1;32m     18\u001b[0m \u001b[43m                 \u001b[49m\u001b[43m}\u001b[49m\u001b[43m,\u001b[49m\n\u001b[1;32m     19\u001b[0m \u001b[43m    \u001b[49m\u001b[43mmax_tweet\u001b[49m\u001b[38;5;241;43m=\u001b[39;49m\u001b[38;5;28;43;01mNone\u001b[39;49;00m\u001b[43m,\u001b[49m\n\u001b[1;32m     20\u001b[0m \u001b[43m    \u001b[49m\u001b[43mexprot_file_name\u001b[49m\u001b[38;5;241;43m=\u001b[39;49m\u001b[38;5;124;43m'\u001b[39;49m\u001b[38;5;124;43mAll_In_One\u001b[39;49m\u001b[38;5;124;43m'\u001b[39;49m\u001b[43m)\u001b[49m\n",
      "Input \u001b[0;32mIn [16]\u001b[0m, in \u001b[0;36mTwitter_scraper.get_tweet_data\u001b[0;34m(self, exprot_file_name, search_query, max_tweet)\u001b[0m\n\u001b[1;32m    113\u001b[0m progress \u001b[38;5;241m=\u001b[39m \u001b[38;5;241m1\u001b[39m\n\u001b[1;32m    115\u001b[0m \u001b[38;5;28;01mwhile\u001b[39;00m scrolling:\n\u001b[0;32m--> 116\u001b[0m     \u001b[43msleep\u001b[49m\u001b[43m(\u001b[49m\u001b[38;5;241;43m2\u001b[39;49m\u001b[43m)\u001b[49m\n\u001b[1;32m    117\u001b[0m     tweets \u001b[38;5;241m=\u001b[39m \u001b[38;5;28mself\u001b[39m\u001b[38;5;241m.\u001b[39mdriver\u001b[38;5;241m.\u001b[39mfind_elements(\u001b[38;5;124m'\u001b[39m\u001b[38;5;124mxpath\u001b[39m\u001b[38;5;124m'\u001b[39m, \u001b[38;5;124m'\u001b[39m\u001b[38;5;124m//article[@data-testid=\u001b[39m\u001b[38;5;124m\"\u001b[39m\u001b[38;5;124mtweet\u001b[39m\u001b[38;5;124m\"\u001b[39m\u001b[38;5;124m]\u001b[39m\u001b[38;5;124m'\u001b[39m)  \n\u001b[1;32m    119\u001b[0m     \u001b[38;5;28;01mfor\u001b[39;00m tweet \u001b[38;5;129;01min\u001b[39;00m tweets[\u001b[38;5;241m-\u001b[39m\u001b[38;5;28mmin\u001b[39m(\u001b[38;5;241m24\u001b[39m, \u001b[38;5;28mlen\u001b[39m(tweets)\u001b[38;5;241m-\u001b[39m\u001b[38;5;241m1\u001b[39m):]:\n",
      "\u001b[0;31mKeyboardInterrupt\u001b[0m: "
     ]
    }
   ],
   "source": [
    "tweet.get_tweet_data(\n",
    "    search_query={'include': [['بورس', 'شاخص کل', 'فرابوس'\n",
    "                              ],\n",
    "                              ['شاخص کل', 'شاخص قیمت'\n",
    "                              ],\n",
    "                             ],\n",
    "                  \n",
    "                  'not_include': [['ایران',\n",
    "                                  ],\n",
    "                                  ['آخوند'\n",
    "                                  ],\n",
    "                                  ['جمهوری'\n",
    "                                  ]\n",
    "                                 ],\n",
    "                  \n",
    "                  'lang': 'fa',\n",
    "                  \n",
    "                 },\n",
    "    max_tweet=None,\n",
    "    exprot_file_name='All_In_One')"
   ]
  },
  {
   "cell_type": "code",
   "execution_count": null,
   "id": "5c411e7a-2f5f-4af1-8d8c-8e6cc59c9636",
   "metadata": {},
   "outputs": [],
   "source": []
  },
  {
   "cell_type": "markdown",
   "id": "c99cb640-eb6e-4826-b1d3-578138cc4d1c",
   "metadata": {},
   "source": [
    "##### 02_complete version"
   ]
  },
  {
   "cell_type": "code",
   "execution_count": null,
   "id": "57ad979e-67f5-49d2-8f43-34d9b4cb09c5",
   "metadata": {
    "tags": []
   },
   "outputs": [
    {
     "name": "stdout",
     "output_type": "stream",
     "text": [
      "[] 1"
     ]
    }
   ],
   "source": [
    "tweet.get_tweet_data(\n",
    "                    search_query={'include': ['space', 'earth'],\n",
    "                                  'include_operator': 'AND',\n",
    "                                  'not_include': ['satellite'],\n",
    "                                  'since': '2018-01-01',\n",
    "                                  'until': '2022-01-01',\n",
    "                                  'from': ['tonyandthesun'],\n",
    "                                  'to': ['NASA', 'SpaceX'],\n",
    "                                  'mentioning': ['SpaceX']\n",
    "                                  \n",
    "                    })"
   ]
  },
  {
   "cell_type": "markdown",
   "id": "b5990a73-4a66-4922-90d8-2f9d7e1e0780",
   "metadata": {},
   "source": [
    "### \n",
    "## Most Common Words"
   ]
  },
  {
   "cell_type": "code",
   "execution_count": 269,
   "id": "f1cbd868-ebd0-44a2-b1d8-874e171fcc0b",
   "metadata": {},
   "outputs": [],
   "source": [
    "def remove_stopwords(text: str, stopwords: list):\n",
    "    \"\"\"\n",
    "    :param text: text you want to delete stopwords from dat\n",
    "    :param stopwords: list of stopwords\n",
    "    \"\"\"\n",
    "    tokens = word_tokenize(text)\n",
    "    tokens = filter(lambda word: word not in stopwords, tokens)\n",
    "    return \" \".join(tokens)"
   ]
  },
  {
   "cell_type": "code",
   "execution_count": 270,
   "id": "b496bc9e-e11a-46de-8e25-342b6230cdb9",
   "metadata": {},
   "outputs": [],
   "source": [
    "with open(DATA_DIR / 'Input/persian_stop_words.txt') as fp:\n",
    "    stopwords = fp.read()\n",
    "\n",
    "stopwords = stopwords.split()"
   ]
  },
  {
   "cell_type": "code",
   "execution_count": 271,
   "id": "18c12c9c-1b69-4ebf-ac98-b16d62d2d566",
   "metadata": {
    "tags": []
   },
   "outputs": [],
   "source": [
    "df = pd.read_csv(DATA_DIR / 'data/All_In_One.csv')\n",
    "df = df.loc[df.User_ID != '@DelliranC']\n",
    "list_ = list(df.Text)\n",
    "list_ = [set(str(text).split()) for text in list_]\n",
    "list_ = [i for j in list_ for i in j]\n",
    "text = ' '.join(list_)\n",
    "text = text.replace('اچ پی', 'اچ_پی')\n",
    "text = remove_stopwords(text, stopwords)\n",
    "text = text.split(\" \")"
   ]
  },
  {
   "cell_type": "code",
   "execution_count": 272,
   "id": "dc8d6c87-0b15-4564-afe6-68ac5d5503cc",
   "metadata": {
    "tags": []
   },
   "outputs": [],
   "source": [
    "df = pd.DataFrame(Counter(text).most_common(), columns=['word', 'count'])\n",
    "df.to_csv(DATA_DIR / 'data/most_common_words.csv', encoding=\"utf-8-sig\", index=False)"
   ]
  },
  {
   "cell_type": "code",
   "execution_count": 273,
   "id": "a9aa8390-d73e-4208-a6b5-23857271fba9",
   "metadata": {
    "tags": []
   },
   "outputs": [],
   "source": [
    "df_ = pd.read_csv(DATA_DIR / 'Input/Themes.csv')"
   ]
  },
  {
   "cell_type": "code",
   "execution_count": 274,
   "id": "796545d2-576e-459c-9765-b2d9eda10d9b",
   "metadata": {},
   "outputs": [],
   "source": [
    "dict_ = defaultdict(int)\n",
    "for i in range(len(df_)):\n",
    "    try:\n",
    "        dict_[df_.iloc[i, 0]] += int(df.loc[df.word==df_.iloc[i, 1], 'count'])\n",
    "    except:\n",
    "        pass\n",
    "df__ = pd.DataFrame([[key, value] for key, value in dict_.items()], columns=['Brand', 'Count'])"
   ]
  },
  {
   "cell_type": "code",
   "execution_count": 275,
   "id": "9594eb1a-a7db-4618-9e37-263696e7bee6",
   "metadata": {},
   "outputs": [
    {
     "data": {
      "application/vnd.plotly.v1+json": {
       "config": {
        "plotlyServerURL": "https://plot.ly"
       },
       "data": [
        {
         "domain": {
          "x": [
           0,
           1
          ],
          "y": [
           0,
           1
          ]
         },
         "hovertemplate": "Brand=%{label}<br>Count=%{value}<extra></extra>",
         "labels": [
          "MSI",
          "اپل",
          "اچ پی",
          "ایسوس",
          "دل",
          "لنوو"
         ],
         "legendgroup": "",
         "name": "",
         "showlegend": true,
         "textposition": "outside",
         "type": "pie",
         "values": [
          94,
          44,
          20,
          131,
          16,
          122
         ]
        }
       ],
       "layout": {
        "autosize": false,
        "font": {
         "color": "RebeccaPurple",
         "family": "IRANSans",
         "size": 12
        },
        "height": 450,
        "legend": {
         "tracegroupgap": 0
        },
        "margin": {
         "b": 65,
         "l": 65,
         "r": 50,
         "t": 90
        },
        "template": {
         "data": {
          "bar": [
           {
            "error_x": {
             "color": "#2a3f5f"
            },
            "error_y": {
             "color": "#2a3f5f"
            },
            "marker": {
             "line": {
              "color": "#E5ECF6",
              "width": 0.5
             },
             "pattern": {
              "fillmode": "overlay",
              "size": 10,
              "solidity": 0.2
             }
            },
            "type": "bar"
           }
          ],
          "barpolar": [
           {
            "marker": {
             "line": {
              "color": "#E5ECF6",
              "width": 0.5
             },
             "pattern": {
              "fillmode": "overlay",
              "size": 10,
              "solidity": 0.2
             }
            },
            "type": "barpolar"
           }
          ],
          "carpet": [
           {
            "aaxis": {
             "endlinecolor": "#2a3f5f",
             "gridcolor": "white",
             "linecolor": "white",
             "minorgridcolor": "white",
             "startlinecolor": "#2a3f5f"
            },
            "baxis": {
             "endlinecolor": "#2a3f5f",
             "gridcolor": "white",
             "linecolor": "white",
             "minorgridcolor": "white",
             "startlinecolor": "#2a3f5f"
            },
            "type": "carpet"
           }
          ],
          "choropleth": [
           {
            "colorbar": {
             "outlinewidth": 0,
             "ticks": ""
            },
            "type": "choropleth"
           }
          ],
          "contour": [
           {
            "colorbar": {
             "outlinewidth": 0,
             "ticks": ""
            },
            "colorscale": [
             [
              0,
              "#0d0887"
             ],
             [
              0.1111111111111111,
              "#46039f"
             ],
             [
              0.2222222222222222,
              "#7201a8"
             ],
             [
              0.3333333333333333,
              "#9c179e"
             ],
             [
              0.4444444444444444,
              "#bd3786"
             ],
             [
              0.5555555555555556,
              "#d8576b"
             ],
             [
              0.6666666666666666,
              "#ed7953"
             ],
             [
              0.7777777777777778,
              "#fb9f3a"
             ],
             [
              0.8888888888888888,
              "#fdca26"
             ],
             [
              1,
              "#f0f921"
             ]
            ],
            "type": "contour"
           }
          ],
          "contourcarpet": [
           {
            "colorbar": {
             "outlinewidth": 0,
             "ticks": ""
            },
            "type": "contourcarpet"
           }
          ],
          "heatmap": [
           {
            "colorbar": {
             "outlinewidth": 0,
             "ticks": ""
            },
            "colorscale": [
             [
              0,
              "#0d0887"
             ],
             [
              0.1111111111111111,
              "#46039f"
             ],
             [
              0.2222222222222222,
              "#7201a8"
             ],
             [
              0.3333333333333333,
              "#9c179e"
             ],
             [
              0.4444444444444444,
              "#bd3786"
             ],
             [
              0.5555555555555556,
              "#d8576b"
             ],
             [
              0.6666666666666666,
              "#ed7953"
             ],
             [
              0.7777777777777778,
              "#fb9f3a"
             ],
             [
              0.8888888888888888,
              "#fdca26"
             ],
             [
              1,
              "#f0f921"
             ]
            ],
            "type": "heatmap"
           }
          ],
          "heatmapgl": [
           {
            "colorbar": {
             "outlinewidth": 0,
             "ticks": ""
            },
            "colorscale": [
             [
              0,
              "#0d0887"
             ],
             [
              0.1111111111111111,
              "#46039f"
             ],
             [
              0.2222222222222222,
              "#7201a8"
             ],
             [
              0.3333333333333333,
              "#9c179e"
             ],
             [
              0.4444444444444444,
              "#bd3786"
             ],
             [
              0.5555555555555556,
              "#d8576b"
             ],
             [
              0.6666666666666666,
              "#ed7953"
             ],
             [
              0.7777777777777778,
              "#fb9f3a"
             ],
             [
              0.8888888888888888,
              "#fdca26"
             ],
             [
              1,
              "#f0f921"
             ]
            ],
            "type": "heatmapgl"
           }
          ],
          "histogram": [
           {
            "marker": {
             "pattern": {
              "fillmode": "overlay",
              "size": 10,
              "solidity": 0.2
             }
            },
            "type": "histogram"
           }
          ],
          "histogram2d": [
           {
            "colorbar": {
             "outlinewidth": 0,
             "ticks": ""
            },
            "colorscale": [
             [
              0,
              "#0d0887"
             ],
             [
              0.1111111111111111,
              "#46039f"
             ],
             [
              0.2222222222222222,
              "#7201a8"
             ],
             [
              0.3333333333333333,
              "#9c179e"
             ],
             [
              0.4444444444444444,
              "#bd3786"
             ],
             [
              0.5555555555555556,
              "#d8576b"
             ],
             [
              0.6666666666666666,
              "#ed7953"
             ],
             [
              0.7777777777777778,
              "#fb9f3a"
             ],
             [
              0.8888888888888888,
              "#fdca26"
             ],
             [
              1,
              "#f0f921"
             ]
            ],
            "type": "histogram2d"
           }
          ],
          "histogram2dcontour": [
           {
            "colorbar": {
             "outlinewidth": 0,
             "ticks": ""
            },
            "colorscale": [
             [
              0,
              "#0d0887"
             ],
             [
              0.1111111111111111,
              "#46039f"
             ],
             [
              0.2222222222222222,
              "#7201a8"
             ],
             [
              0.3333333333333333,
              "#9c179e"
             ],
             [
              0.4444444444444444,
              "#bd3786"
             ],
             [
              0.5555555555555556,
              "#d8576b"
             ],
             [
              0.6666666666666666,
              "#ed7953"
             ],
             [
              0.7777777777777778,
              "#fb9f3a"
             ],
             [
              0.8888888888888888,
              "#fdca26"
             ],
             [
              1,
              "#f0f921"
             ]
            ],
            "type": "histogram2dcontour"
           }
          ],
          "mesh3d": [
           {
            "colorbar": {
             "outlinewidth": 0,
             "ticks": ""
            },
            "type": "mesh3d"
           }
          ],
          "parcoords": [
           {
            "line": {
             "colorbar": {
              "outlinewidth": 0,
              "ticks": ""
             }
            },
            "type": "parcoords"
           }
          ],
          "pie": [
           {
            "automargin": true,
            "type": "pie"
           }
          ],
          "scatter": [
           {
            "marker": {
             "colorbar": {
              "outlinewidth": 0,
              "ticks": ""
             }
            },
            "type": "scatter"
           }
          ],
          "scatter3d": [
           {
            "line": {
             "colorbar": {
              "outlinewidth": 0,
              "ticks": ""
             }
            },
            "marker": {
             "colorbar": {
              "outlinewidth": 0,
              "ticks": ""
             }
            },
            "type": "scatter3d"
           }
          ],
          "scattercarpet": [
           {
            "marker": {
             "colorbar": {
              "outlinewidth": 0,
              "ticks": ""
             }
            },
            "type": "scattercarpet"
           }
          ],
          "scattergeo": [
           {
            "marker": {
             "colorbar": {
              "outlinewidth": 0,
              "ticks": ""
             }
            },
            "type": "scattergeo"
           }
          ],
          "scattergl": [
           {
            "marker": {
             "colorbar": {
              "outlinewidth": 0,
              "ticks": ""
             }
            },
            "type": "scattergl"
           }
          ],
          "scattermapbox": [
           {
            "marker": {
             "colorbar": {
              "outlinewidth": 0,
              "ticks": ""
             }
            },
            "type": "scattermapbox"
           }
          ],
          "scatterpolar": [
           {
            "marker": {
             "colorbar": {
              "outlinewidth": 0,
              "ticks": ""
             }
            },
            "type": "scatterpolar"
           }
          ],
          "scatterpolargl": [
           {
            "marker": {
             "colorbar": {
              "outlinewidth": 0,
              "ticks": ""
             }
            },
            "type": "scatterpolargl"
           }
          ],
          "scatterternary": [
           {
            "marker": {
             "colorbar": {
              "outlinewidth": 0,
              "ticks": ""
             }
            },
            "type": "scatterternary"
           }
          ],
          "surface": [
           {
            "colorbar": {
             "outlinewidth": 0,
             "ticks": ""
            },
            "colorscale": [
             [
              0,
              "#0d0887"
             ],
             [
              0.1111111111111111,
              "#46039f"
             ],
             [
              0.2222222222222222,
              "#7201a8"
             ],
             [
              0.3333333333333333,
              "#9c179e"
             ],
             [
              0.4444444444444444,
              "#bd3786"
             ],
             [
              0.5555555555555556,
              "#d8576b"
             ],
             [
              0.6666666666666666,
              "#ed7953"
             ],
             [
              0.7777777777777778,
              "#fb9f3a"
             ],
             [
              0.8888888888888888,
              "#fdca26"
             ],
             [
              1,
              "#f0f921"
             ]
            ],
            "type": "surface"
           }
          ],
          "table": [
           {
            "cells": {
             "fill": {
              "color": "#EBF0F8"
             },
             "line": {
              "color": "white"
             }
            },
            "header": {
             "fill": {
              "color": "#C8D4E3"
             },
             "line": {
              "color": "white"
             }
            },
            "type": "table"
           }
          ]
         },
         "layout": {
          "annotationdefaults": {
           "arrowcolor": "#2a3f5f",
           "arrowhead": 0,
           "arrowwidth": 1
          },
          "autotypenumbers": "strict",
          "coloraxis": {
           "colorbar": {
            "outlinewidth": 0,
            "ticks": ""
           }
          },
          "colorscale": {
           "diverging": [
            [
             0,
             "#8e0152"
            ],
            [
             0.1,
             "#c51b7d"
            ],
            [
             0.2,
             "#de77ae"
            ],
            [
             0.3,
             "#f1b6da"
            ],
            [
             0.4,
             "#fde0ef"
            ],
            [
             0.5,
             "#f7f7f7"
            ],
            [
             0.6,
             "#e6f5d0"
            ],
            [
             0.7,
             "#b8e186"
            ],
            [
             0.8,
             "#7fbc41"
            ],
            [
             0.9,
             "#4d9221"
            ],
            [
             1,
             "#276419"
            ]
           ],
           "sequential": [
            [
             0,
             "#0d0887"
            ],
            [
             0.1111111111111111,
             "#46039f"
            ],
            [
             0.2222222222222222,
             "#7201a8"
            ],
            [
             0.3333333333333333,
             "#9c179e"
            ],
            [
             0.4444444444444444,
             "#bd3786"
            ],
            [
             0.5555555555555556,
             "#d8576b"
            ],
            [
             0.6666666666666666,
             "#ed7953"
            ],
            [
             0.7777777777777778,
             "#fb9f3a"
            ],
            [
             0.8888888888888888,
             "#fdca26"
            ],
            [
             1,
             "#f0f921"
            ]
           ],
           "sequentialminus": [
            [
             0,
             "#0d0887"
            ],
            [
             0.1111111111111111,
             "#46039f"
            ],
            [
             0.2222222222222222,
             "#7201a8"
            ],
            [
             0.3333333333333333,
             "#9c179e"
            ],
            [
             0.4444444444444444,
             "#bd3786"
            ],
            [
             0.5555555555555556,
             "#d8576b"
            ],
            [
             0.6666666666666666,
             "#ed7953"
            ],
            [
             0.7777777777777778,
             "#fb9f3a"
            ],
            [
             0.8888888888888888,
             "#fdca26"
            ],
            [
             1,
             "#f0f921"
            ]
           ]
          },
          "colorway": [
           "#636efa",
           "#EF553B",
           "#00cc96",
           "#ab63fa",
           "#FFA15A",
           "#19d3f3",
           "#FF6692",
           "#B6E880",
           "#FF97FF",
           "#FECB52"
          ],
          "font": {
           "color": "#2a3f5f"
          },
          "geo": {
           "bgcolor": "white",
           "lakecolor": "white",
           "landcolor": "#E5ECF6",
           "showlakes": true,
           "showland": true,
           "subunitcolor": "white"
          },
          "hoverlabel": {
           "align": "left"
          },
          "hovermode": "closest",
          "mapbox": {
           "style": "light"
          },
          "paper_bgcolor": "white",
          "plot_bgcolor": "#E5ECF6",
          "polar": {
           "angularaxis": {
            "gridcolor": "white",
            "linecolor": "white",
            "ticks": ""
           },
           "bgcolor": "#E5ECF6",
           "radialaxis": {
            "gridcolor": "white",
            "linecolor": "white",
            "ticks": ""
           }
          },
          "scene": {
           "xaxis": {
            "backgroundcolor": "#E5ECF6",
            "gridcolor": "white",
            "gridwidth": 2,
            "linecolor": "white",
            "showbackground": true,
            "ticks": "",
            "zerolinecolor": "white"
           },
           "yaxis": {
            "backgroundcolor": "#E5ECF6",
            "gridcolor": "white",
            "gridwidth": 2,
            "linecolor": "white",
            "showbackground": true,
            "ticks": "",
            "zerolinecolor": "white"
           },
           "zaxis": {
            "backgroundcolor": "#E5ECF6",
            "gridcolor": "white",
            "gridwidth": 2,
            "linecolor": "white",
            "showbackground": true,
            "ticks": "",
            "zerolinecolor": "white"
           }
          },
          "shapedefaults": {
           "line": {
            "color": "#2a3f5f"
           }
          },
          "ternary": {
           "aaxis": {
            "gridcolor": "white",
            "linecolor": "white",
            "ticks": ""
           },
           "baxis": {
            "gridcolor": "white",
            "linecolor": "white",
            "ticks": ""
           },
           "bgcolor": "#E5ECF6",
           "caxis": {
            "gridcolor": "white",
            "linecolor": "white",
            "ticks": ""
           }
          },
          "title": {
           "x": 0.05
          },
          "xaxis": {
           "automargin": true,
           "gridcolor": "white",
           "linecolor": "white",
           "ticks": "",
           "title": {
            "standoff": 15
           },
           "zerolinecolor": "white",
           "zerolinewidth": 2
          },
          "yaxis": {
           "automargin": true,
           "gridcolor": "white",
           "linecolor": "white",
           "ticks": "",
           "title": {
            "standoff": 15
           },
           "zerolinecolor": "white",
           "zerolinewidth": 2
          }
         }
        },
        "title": {
         "text": "Market Share",
         "x": 0.5
        },
        "width": 700,
        "xaxis": {
         "title": {
          "text": ""
         }
        },
        "yaxis": {
         "title": {
          "text": ""
         }
        }
       }
      },
      "image/png": "[encoded data removed]",
      "text/html": [
       "<div>                            <div id=\"c661a588-7139-47e3-b7e3-19d647b44384\" class=\"plotly-graph-div\" style=\"height:450px; width:700px;\"></div>            <script type=\"text/javascript\">                require([\"plotly\"], function(Plotly) {                    window.PLOTLYENV=window.PLOTLYENV || {};                                    if (document.getElementById(\"c661a588-7139-47e3-b7e3-19d647b44384\")) {                    Plotly.newPlot(                        \"c661a588-7139-47e3-b7e3-19d647b44384\",                        [{\"domain\":{\"x\":[0.0,1.0],\"y\":[0.0,1.0]},\"hovertemplate\":\"Brand=%{label}<br>Count=%{value}<extra></extra>\",\"labels\":[\"MSI\",\"\\u0627\\u067e\\u0644\",\"\\u0627\\u0686 \\u067e\\u06cc\",\"\\u0627\\u06cc\\u0633\\u0648\\u0633\",\"\\u062f\\u0644\",\"\\u0644\\u0646\\u0648\\u0648\"],\"legendgroup\":\"\",\"name\":\"\",\"showlegend\":true,\"values\":[94,44,20,131,16,122],\"type\":\"pie\",\"textposition\":\"outside\"}],                        {\"template\":{\"data\":{\"bar\":[{\"error_x\":{\"color\":\"#2a3f5f\"},\"error_y\":{\"color\":\"#2a3f5f\"},\"marker\":{\"line\":{\"color\":\"#E5ECF6\",\"width\":0.5},\"pattern\":{\"fillmode\":\"overlay\",\"size\":10,\"solidity\":0.2}},\"type\":\"bar\"}],\"barpolar\":[{\"marker\":{\"line\":{\"color\":\"#E5ECF6\",\"width\":0.5},\"pattern\":{\"fillmode\":\"overlay\",\"size\":10,\"solidity\":0.2}},\"type\":\"barpolar\"}],\"carpet\":[{\"aaxis\":{\"endlinecolor\":\"#2a3f5f\",\"gridcolor\":\"white\",\"linecolor\":\"white\",\"minorgridcolor\":\"white\",\"startlinecolor\":\"#2a3f5f\"},\"baxis\":{\"endlinecolor\":\"#2a3f5f\",\"gridcolor\":\"white\",\"linecolor\":\"white\",\"minorgridcolor\":\"white\",\"startlinecolor\":\"#2a3f5f\"},\"type\":\"carpet\"}],\"choropleth\":[{\"colorbar\":{\"outlinewidth\":0,\"ticks\":\"\"},\"type\":\"choropleth\"}],\"contour\":[{\"colorbar\":{\"outlinewidth\":0,\"ticks\":\"\"},\"colorscale\":[[0.0,\"#0d0887\"],[0.1111111111111111,\"#46039f\"],[0.2222222222222222,\"#7201a8\"],[0.3333333333333333,\"#9c179e\"],[0.4444444444444444,\"#bd3786\"],[0.5555555555555556,\"#d8576b\"],[0.6666666666666666,\"#ed7953\"],[0.7777777777777778,\"#fb9f3a\"],[0.8888888888888888,\"#fdca26\"],[1.0,\"#f0f921\"]],\"type\":\"contour\"}],\"contourcarpet\":[{\"colorbar\":{\"outlinewidth\":0,\"ticks\":\"\"},\"type\":\"contourcarpet\"}],\"heatmap\":[{\"colorbar\":{\"outlinewidth\":0,\"ticks\":\"\"},\"colorscale\":[[0.0,\"#0d0887\"],[0.1111111111111111,\"#46039f\"],[0.2222222222222222,\"#7201a8\"],[0.3333333333333333,\"#9c179e\"],[0.4444444444444444,\"#bd3786\"],[0.5555555555555556,\"#d8576b\"],[0.6666666666666666,\"#ed7953\"],[0.7777777777777778,\"#fb9f3a\"],[0.8888888888888888,\"#fdca26\"],[1.0,\"#f0f921\"]],\"type\":\"heatmap\"}],\"heatmapgl\":[{\"colorbar\":{\"outlinewidth\":0,\"ticks\":\"\"},\"colorscale\":[[0.0,\"#0d0887\"],[0.1111111111111111,\"#46039f\"],[0.2222222222222222,\"#7201a8\"],[0.3333333333333333,\"#9c179e\"],[0.4444444444444444,\"#bd3786\"],[0.5555555555555556,\"#d8576b\"],[0.6666666666666666,\"#ed7953\"],[0.7777777777777778,\"#fb9f3a\"],[0.8888888888888888,\"#fdca26\"],[1.0,\"#f0f921\"]],\"type\":\"heatmapgl\"}],\"histogram\":[{\"marker\":{\"pattern\":{\"fillmode\":\"overlay\",\"size\":10,\"solidity\":0.2}},\"type\":\"histogram\"}],\"histogram2d\":[{\"colorbar\":{\"outlinewidth\":0,\"ticks\":\"\"},\"colorscale\":[[0.0,\"#0d0887\"],[0.1111111111111111,\"#46039f\"],[0.2222222222222222,\"#7201a8\"],[0.3333333333333333,\"#9c179e\"],[0.4444444444444444,\"#bd3786\"],[0.5555555555555556,\"#d8576b\"],[0.6666666666666666,\"#ed7953\"],[0.7777777777777778,\"#fb9f3a\"],[0.8888888888888888,\"#fdca26\"],[1.0,\"#f0f921\"]],\"type\":\"histogram2d\"}],\"histogram2dcontour\":[{\"colorbar\":{\"outlinewidth\":0,\"ticks\":\"\"},\"colorscale\":[[0.0,\"#0d0887\"],[0.1111111111111111,\"#46039f\"],[0.2222222222222222,\"#7201a8\"],[0.3333333333333333,\"#9c179e\"],[0.4444444444444444,\"#bd3786\"],[0.5555555555555556,\"#d8576b\"],[0.6666666666666666,\"#ed7953\"],[0.7777777777777778,\"#fb9f3a\"],[0.8888888888888888,\"#fdca26\"],[1.0,\"#f0f921\"]],\"type\":\"histogram2dcontour\"}],\"mesh3d\":[{\"colorbar\":{\"outlinewidth\":0,\"ticks\":\"\"},\"type\":\"mesh3d\"}],\"parcoords\":[{\"line\":{\"colorbar\":{\"outlinewidth\":0,\"ticks\":\"\"}},\"type\":\"parcoords\"}],\"pie\":[{\"automargin\":true,\"type\":\"pie\"}],\"scatter\":[{\"marker\":{\"colorbar\":{\"outlinewidth\":0,\"ticks\":\"\"}},\"type\":\"scatter\"}],\"scatter3d\":[{\"line\":{\"colorbar\":{\"outlinewidth\":0,\"ticks\":\"\"}},\"marker\":{\"colorbar\":{\"outlinewidth\":0,\"ticks\":\"\"}},\"type\":\"scatter3d\"}],\"scattercarpet\":[{\"marker\":{\"colorbar\":{\"outlinewidth\":0,\"ticks\":\"\"}},\"type\":\"scattercarpet\"}],\"scattergeo\":[{\"marker\":{\"colorbar\":{\"outlinewidth\":0,\"ticks\":\"\"}},\"type\":\"scattergeo\"}],\"scattergl\":[{\"marker\":{\"colorbar\":{\"outlinewidth\":0,\"ticks\":\"\"}},\"type\":\"scattergl\"}],\"scattermapbox\":[{\"marker\":{\"colorbar\":{\"outlinewidth\":0,\"ticks\":\"\"}},\"type\":\"scattermapbox\"}],\"scatterpolar\":[{\"marker\":{\"colorbar\":{\"outlinewidth\":0,\"ticks\":\"\"}},\"type\":\"scatterpolar\"}],\"scatterpolargl\":[{\"marker\":{\"colorbar\":{\"outlinewidth\":0,\"ticks\":\"\"}},\"type\":\"scatterpolargl\"}],\"scatterternary\":[{\"marker\":{\"colorbar\":{\"outlinewidth\":0,\"ticks\":\"\"}},\"type\":\"scatterternary\"}],\"surface\":[{\"colorbar\":{\"outlinewidth\":0,\"ticks\":\"\"},\"colorscale\":[[0.0,\"#0d0887\"],[0.1111111111111111,\"#46039f\"],[0.2222222222222222,\"#7201a8\"],[0.3333333333333333,\"#9c179e\"],[0.4444444444444444,\"#bd3786\"],[0.5555555555555556,\"#d8576b\"],[0.6666666666666666,\"#ed7953\"],[0.7777777777777778,\"#fb9f3a\"],[0.8888888888888888,\"#fdca26\"],[1.0,\"#f0f921\"]],\"type\":\"surface\"}],\"table\":[{\"cells\":{\"fill\":{\"color\":\"#EBF0F8\"},\"line\":{\"color\":\"white\"}},\"header\":{\"fill\":{\"color\":\"#C8D4E3\"},\"line\":{\"color\":\"white\"}},\"type\":\"table\"}]},\"layout\":{\"annotationdefaults\":{\"arrowcolor\":\"#2a3f5f\",\"arrowhead\":0,\"arrowwidth\":1},\"autotypenumbers\":\"strict\",\"coloraxis\":{\"colorbar\":{\"outlinewidth\":0,\"ticks\":\"\"}},\"colorscale\":{\"diverging\":[[0,\"#8e0152\"],[0.1,\"#c51b7d\"],[0.2,\"#de77ae\"],[0.3,\"#f1b6da\"],[0.4,\"#fde0ef\"],[0.5,\"#f7f7f7\"],[0.6,\"#e6f5d0\"],[0.7,\"#b8e186\"],[0.8,\"#7fbc41\"],[0.9,\"#4d9221\"],[1,\"#276419\"]],\"sequential\":[[0.0,\"#0d0887\"],[0.1111111111111111,\"#46039f\"],[0.2222222222222222,\"#7201a8\"],[0.3333333333333333,\"#9c179e\"],[0.4444444444444444,\"#bd3786\"],[0.5555555555555556,\"#d8576b\"],[0.6666666666666666,\"#ed7953\"],[0.7777777777777778,\"#fb9f3a\"],[0.8888888888888888,\"#fdca26\"],[1.0,\"#f0f921\"]],\"sequentialminus\":[[0.0,\"#0d0887\"],[0.1111111111111111,\"#46039f\"],[0.2222222222222222,\"#7201a8\"],[0.3333333333333333,\"#9c179e\"],[0.4444444444444444,\"#bd3786\"],[0.5555555555555556,\"#d8576b\"],[0.6666666666666666,\"#ed7953\"],[0.7777777777777778,\"#fb9f3a\"],[0.8888888888888888,\"#fdca26\"],[1.0,\"#f0f921\"]]},\"colorway\":[\"#636efa\",\"#EF553B\",\"#00cc96\",\"#ab63fa\",\"#FFA15A\",\"#19d3f3\",\"#FF6692\",\"#B6E880\",\"#FF97FF\",\"#FECB52\"],\"font\":{\"color\":\"#2a3f5f\"},\"geo\":{\"bgcolor\":\"white\",\"lakecolor\":\"white\",\"landcolor\":\"#E5ECF6\",\"showlakes\":true,\"showland\":true,\"subunitcolor\":\"white\"},\"hoverlabel\":{\"align\":\"left\"},\"hovermode\":\"closest\",\"mapbox\":{\"style\":\"light\"},\"paper_bgcolor\":\"white\",\"plot_bgcolor\":\"#E5ECF6\",\"polar\":{\"angularaxis\":{\"gridcolor\":\"white\",\"linecolor\":\"white\",\"ticks\":\"\"},\"bgcolor\":\"#E5ECF6\",\"radialaxis\":{\"gridcolor\":\"white\",\"linecolor\":\"white\",\"ticks\":\"\"}},\"scene\":{\"xaxis\":{\"backgroundcolor\":\"#E5ECF6\",\"gridcolor\":\"white\",\"gridwidth\":2,\"linecolor\":\"white\",\"showbackground\":true,\"ticks\":\"\",\"zerolinecolor\":\"white\"},\"yaxis\":{\"backgroundcolor\":\"#E5ECF6\",\"gridcolor\":\"white\",\"gridwidth\":2,\"linecolor\":\"white\",\"showbackground\":true,\"ticks\":\"\",\"zerolinecolor\":\"white\"},\"zaxis\":{\"backgroundcolor\":\"#E5ECF6\",\"gridcolor\":\"white\",\"gridwidth\":2,\"linecolor\":\"white\",\"showbackground\":true,\"ticks\":\"\",\"zerolinecolor\":\"white\"}},\"shapedefaults\":{\"line\":{\"color\":\"#2a3f5f\"}},\"ternary\":{\"aaxis\":{\"gridcolor\":\"white\",\"linecolor\":\"white\",\"ticks\":\"\"},\"baxis\":{\"gridcolor\":\"white\",\"linecolor\":\"white\",\"ticks\":\"\"},\"bgcolor\":\"#E5ECF6\",\"caxis\":{\"gridcolor\":\"white\",\"linecolor\":\"white\",\"ticks\":\"\"}},\"title\":{\"x\":0.05},\"xaxis\":{\"automargin\":true,\"gridcolor\":\"white\",\"linecolor\":\"white\",\"ticks\":\"\",\"title\":{\"standoff\":15},\"zerolinecolor\":\"white\",\"zerolinewidth\":2},\"yaxis\":{\"automargin\":true,\"gridcolor\":\"white\",\"linecolor\":\"white\",\"ticks\":\"\",\"title\":{\"standoff\":15},\"zerolinecolor\":\"white\",\"zerolinewidth\":2}}},\"legend\":{\"tracegroupgap\":0},\"margin\":{\"t\":90,\"l\":65,\"r\":50,\"b\":65},\"font\":{\"family\":\"IRANSans\",\"size\":12,\"color\":\"RebeccaPurple\"},\"autosize\":false,\"xaxis\":{\"title\":{\"text\":\"\"}},\"yaxis\":{\"title\":{\"text\":\"\"}},\"width\":700,\"height\":450,\"title\":{\"text\":\"Market Share\",\"x\":0.5}},                        {\"responsive\": true}                    ).then(function(){\n",
       "                            \n",
       "var gd = document.getElementById('c661a588-7139-47e3-b7e3-19d647b44384');\n",
       "var x = new MutationObserver(function (mutations, observer) {{\n",
       "        var display = window.getComputedStyle(gd).display;\n",
       "        if (!display || display === 'none') {{\n",
       "            console.log([gd, 'removed!']);\n",
       "            Plotly.purge(gd);\n",
       "            observer.disconnect();\n",
       "        }}\n",
       "}});\n",
       "\n",
       "// Listen for the removal of the full notebook cells\n",
       "var notebookContainer = gd.closest('#notebook-container');\n",
       "if (notebookContainer) {{\n",
       "    x.observe(notebookContainer, {childList: true});\n",
       "}}\n",
       "\n",
       "// Listen for the clearing of the current output cell\n",
       "var outputEl = gd.closest('.output');\n",
       "if (outputEl) {{\n",
       "    x.observe(outputEl, {childList: true});\n",
       "}}\n",
       "\n",
       "                        })                };                });            </script>        </div>"
      ]
     },
     "metadata": {},
     "output_type": "display_data"
    }
   ],
   "source": [
    "fig = px.pie(df__, values='Count', names='Brand')\n",
    "fig.update_layout(autosize=False,\n",
    "                  xaxis_title=\"\",\n",
    "                  yaxis_title=\"\",\n",
    "                  width=700, height=450,\n",
    "                  margin=dict(l=65, r=50, b=65, t=90),\n",
    "                  font=dict(\n",
    "                      family=\"IRANSans\",\n",
    "                      size=12,\n",
    "                      color=\"RebeccaPurple\"\n",
    "                  ))\n",
    "fig.update_layout(title_text='Market Share', title_x=0.5)\n",
    "fig.update_traces(textposition='outside')\n",
    "\n",
    "fig.show()"
   ]
  },
  {
   "cell_type": "code",
   "execution_count": 278,
   "id": "add7cbee-959b-42bf-ac5d-474d70aba3e3",
   "metadata": {
    "collapsed": true,
    "jupyter": {
     "outputs_hidden": true
    },
    "tags": []
   },
   "outputs": [
    {
     "name": "stdout",
     "output_type": "stream",
     "text": [
      "من از تاپ x541 ایسوس داشتم خراب شد تعمیر گاه گفت قطعه اش تحریم است و بعد از چند ماه برگرداند حالا کامپیوتر بدون کیس خریدم\n",
      "----------------------------------------------------------------------------------------------------\n",
      "فروش ویژه انواع کامپیوترهای همه کاره (آل این وان)\n",
      "\n",
      "#فرازسیستم #فراز_سیستم\n",
      "#کامپیوترهمه_کاره #آل_این_وان\n",
      "#یونیوو #اچ_پی #گرین #ایسوس #لنوو #ام_اس_آی\n",
      "#farazsystem #faraz_system \n",
      "#allinone #asus #univo #green #Lenovo #MSI #HP\n",
      "----------------------------------------------------------------------------------------------------\n",
      "مشخصات و ویژگی های کامپیوتر همه کاره 19.5 اینچی ایسوس مدل A4321 – A https://digitano.ir/%d9%85%d8%b4%d8%ae%d8%b5%d8%a7%d8%aa-%d9%88-%d9%88%db%8c%da%98%da%af%db%8c-%d9%87%d8%a7%db%8c-%da%a9%d8%a7%d9%85%d9%be%db%8c%d9%88%d8%aa%d8%b1-%d9%87%d9%85%d9%87-%da%a9%d8%a7-486/?utm_source=dlvr.it&utm_medium=twitter…\n",
      "----------------------------------------------------------------------------------------------------\n",
      "ال این وان میتونی msi بگیری ، خیلی خوبه ، ولی به نظرم کاربری آل این وان و لپ تاپ یکیه ، اگر‌کیس بگیری خب بحثش جداست ، ولی زیر پنجاه تومن یه ایسوس خوب میتونی بگیری.\n",
      "----------------------------------------------------------------------------------------------------\n",
      "مشخصات و قیمت خرید کامپیوتر همه کاره 24 اینچی ایسوس مدل Zen Pro Z240IC https://digiza.ir/%d9%85%d8%b4%d8%ae%d8%b5%d8%a7%d8%aa-%d9%88-%d9%82%db%8c%d9%85%d8%aa-%d8%ae%d8%b1%db%8c%d8%af-%da%a9%d8%a7%d9%85%d9%be%db%8c%d9%88%d8%aa%d8%b1-%d9%87%d9%85%d9%87-%da%a9%d8%a7%d8%b1%d9%87-24-%d8%a7-45/?utm_source=dlvr.it&utm_medium=twitter…\n",
      "----------------------------------------------------------------------------------------------------\n",
      "مشخصات و ویژگی های کامپیوتر همه کاره 16اینچی ایسوس مدل AIO V161GAT – A https://digitano.ir/%d9%85%d8%b4%d8%ae%d8%b5%d8%a7%d8%aa-%d9%88-%d9%88%db%8c%da%98%da%af%db%8c-%d9%87%d8%a7%db%8c-%da%a9%d8%a7%d9%85%d9%be%db%8c%d9%88%d8%aa%d8%b1-%d9%87%d9%85%d9%87-%da%a9%d8%a7-233/?utm_source=dlvr.it&utm_medium=twitter…\n",
      "----------------------------------------------------------------------------------------------------\n",
      "کامپیوتر همه کاره ایسوس Asus Vivo Aio V222\n",
      "کامپیوتر ایسوس Asus Vivo Aio V222\n",
      "رم: 4 گیگابایت DDR4\n",
      "هارد دیسک: 1 ترابایت \n",
      "سایز مانیتور: 21.5 اینچ\n",
      "کارت گرافیک: Intel HD Graphics 600\n",
      "https://goo.gl/JW3pcY\n",
      "#all_in_one #کامپیوتر #تکنولوژی #technology #computer\n",
      "----------------------------------------------------------------------------------------------------\n",
      "شرکت #ایسوس #آل_این_وان #جدید Zen AiO 27 با پد #شارژ #بی_سیم را رونمایی کرد. این محصول با صفحه نمایش 27 اینچ مجهز به پردازنده نسل هشتمی i7 #اینتل، رم 16 گیگابایتی و گرافیک GTX 1050 #انویدیا است.\n",
      " http://atramart.com\n",
      "#کامپیوتر #یکپارچه #اسوس #شارژ_بی_سیم #آترا #آترامارت\n",
      "----------------------------------------------------------------------------------------------------\n",
      "خدمات پس از فروش نمایندگی ایسوس در اصفهان\n",
      "\n",
      "ساکنین محترم استان اصفهان می توانید انواع سرویس های مربوط به محصولات این برند را از جمله لپ تاپ،تبلت و آل این وان را از نمایندگی لپ تاپ ایسوس...\n",
      "#نمایندگی_مجاز_ایسوس_در_اصفهان\n",
      "#نمایندگی_رسمی_ایسوس_اصفهان\n",
      "----------------------------------------------------------------------------------------------------\n",
      "که جای خود\n",
      "خیلی اوضاع بد جلو میرفت\n",
      "اصلا با بچه های اونجا مچ نبودم، حس میکردم وصله ی ناجورم\n",
      "دوستم نداشتن\n",
      "از اون طرف یه سیستم all in one ایسوس هم داشتم که خیلی ضعیف بود و تقریبا سر هر هات ریلودی باید یه دقیقه صبر میکردم\n",
      "کلا خوب نبود اوضاع\n",
      "و کسی که باهاش کار می‌کردم توی فرانت\n",
      "----------------------------------------------------------------------------------------------------\n",
      "نمایندگی ایسوس\n",
      "نمایندگی ایسوس ارائه دهندۀ تمامی خدمات مرتبط با فروش و تعمیر محصولات ایسوس اعم از لپ تاپ، مادربرد، سرور، رایانه شخصی، قطعات شبکه، پروژکتور و …. به کاربران گرامی می باشد\n",
      "#تعمیر_آل_این_وان\n",
      "#نمایندگی_ایسوس\n",
      "#نمایندگی_تعمیرات_ایسوس\n",
      "http://yon.ir/P7Hxn\n",
      "----------------------------------------------------------------------------------------------------\n",
      "نمایندگی ایسوس\n",
      "فعالیت مرکزی نمایندگی ایسوس تعمیر و فروش انواع محصولات ایسوس از جمله، موبایل، تبلت، لپ تاپ، آل این وان، پروژکتور، تجهیزات شبکه، مادربرد، کارت گرافیک، مانیتور و لوازم جانبی آن و… است.\n",
      "\n",
      "#تعمیرات_موبایل\n",
      "#تعمیر_موبایل\n",
      "#تعمیر_موبایل_ایسوس\n",
      "\n",
      "http://asus.ir.center\n",
      "----------------------------------------------------------------------------------------------------\n",
      "متخصصین عزیز چقدر این All In One ایسوس رو پیشنهاد می‌کنید؟ واسه استفاده خونگی و معمولی میخوایم که جایگزین PC کنیم. و اگه پیشنهاد دیگه‌ای هم دارید خوشحال میشم بشنوم ترجیحا تو همین بازه قیمتی (کمتر بهتر!) و سخت‌افزار هم همین:\n",
      "https://digikala.com/Product/DKP-406740/%DA%A9%D8%A7%D9%85%D9%BE%D9%8A%D9%88%D8%AA%D8%B1-%D9%87%D9%85%D9%87-%DA%A9%D8%A7%D8%B1%D9%87-24-%D8%A7%D9%8A%D9%86%DA%86%D9%8A-%D8%A7%D9%8A%D8%B3%D9%88%D8%B3-%D9%85%D8%AF%D9%84-Vivo-V241ICGT-A#!/tab-techspecs/…\n",
      "----------------------------------------------------------------------------------------------------\n",
      "http://netwebco.ir\n",
      "کامپیوتر All In One  مدل Vivo V272 ایسوس رونمایی شد - http://netwebco.ir/%da%a9%d8%a7%d9%85%d9%be%db%8c%d9%88%d8%aa%d8%b1-all-in-one-%d9%85%d8%af%d9%84-vivo-v272-%d8%a7%db%8c%d8%b3%d9%88%d8%b3-%d8%b1%d9%88%d9%86%d9%85%d8%a7%db%8c%db%8c-%d8%b4%d8%af/…\n",
      "----------------------------------------------------------------------------------------------------\n",
      "CES 2018: ایسوس دو کامپیوتر All in One تازه معرفی کرد http://gsm.ir/news/show/40648/?&utm_source=khabarkhan&utm_medium=khabarkhan&utm_campaign=Bahman…\n",
      "----------------------------------------------------------------------------------------------------\n",
      "پیشنهاد ویژه امروز 16 دی ماه 96\n",
      "\n",
      "کامپیوتر همه کاره 15.6 اینچی ایسوس مدل A4110 - B\n",
      "\n",
      "مشاهده مشخصات و خرید\n",
      "\n",
      "http://narsense.com/Product/2007\n",
      "----------------------------------------------------------------------------------------------------\n",
      "http://netwebco.ir\n",
      "کامپیوتر بدون کیس ایسوس Zen AiO Pro Z240IC - http://netwebco.ir/%da%a9%d8%a7%d9%85%d9%be%db%8c%d9%88%d8%aa%d8%b1-%d8%a8%d8%af%d9%88%d9%86-%da%a9%db%8c%d8%b3-%d8%a7%db%8c%d8%b3%d9%88%d8%b3-zen-aio-pro-z240ic/…\n",
      "----------------------------------------------------------------------------------------------------\n",
      "کامپیوتر بدون کیس ایسوس Zen AiO Pro Z240IC http://dlvr.it/Pl93DC #کامپیوتر_دسکتاپ\n",
      "----------------------------------------------------------------------------------------------------\n",
      "با جدیدترین کامپیوتر All-in-one به قیمت تقریبی ۱۵۰۰ یورویی ایسوس آشنا شوید - http://ift.tt/2o9aLBg / #toranji #ترنجی\n",
      "----------------------------------------------------------------------------------------------------\n",
      "New post: کامپیوتر همه کاره Zen AiO ایسوس معرفی شد http://irsfe.inکامپیوتر-کاره-zen-aio-ایسوس-معرفی-شد/\n",
      "----------------------------------------------------------------------------------------------------\n",
      "کامپیوتکس 2016: کامپیوترهای بدون #کیس (AiO) #ایسوس در گزارش اختصاصی #سخت_افزار http://dlvr.it/LRhPl8 #سخت_افزار\n",
      "----------------------------------------------------------------------------------------------------\n",
      "کامپیو‌تر بدون کیس Z240 ایسوس؛ تلفیقی بی‌نظیر از زیبایی و کارایی http://dlvr.it/D0wLVd\n",
      "----------------------------------------------------------------------------------------------------\n",
      "[اعلامیه ایسوس] Zen به All-in-One رسید -آکا http://mahdibiya.com/academic/35912/%d8%a7%d8%b9%d9%84%d8%a7%d9%85%db%8c%d9%87-%d8%a7%db%8c%d8%b3%d9%88%d8%b3-zen-%d8%a8%d9%87-all-in-one-%d8%b1%d8%b3%db%8c%d8%af-%d8%a2%da%a9%d8%a7…\n",
      "----------------------------------------------------------------------------------------------------\n",
      "کامپیوتر بدون کیس Asus Zen AiO Pro با پیکربندی قوی http://syncit.ir/news/asus-zen-aio-pro-z240ic-windows10/… via \n",
      "@syncit_ir\n",
      " #asus #windows #ایسوس #ویندوز۱۰ #دسکتاپ #کامپیوتر\n",
      "----------------------------------------------------------------------------------------------------\n",
      "کامپیوتر بدون کیس ایسوس Zen AiO S تلفیقی از کارایی و زیبایی\n",
      "\n",
      "http://ift.tt/1JVm4PH\n",
      "----------------------------------------------------------------------------------------------------\n",
      "کامپیوتر بدون کیس ایسوس Zen AiO S تلفیقی از کارایی و زیبایی http://ift.tt/1JVm4PH\n",
      "----------------------------------------------------------------------------------------------------\n",
      "کامپیوتر بدون کیس ایسوس Zen AiO S معرفی شد http://fb.me/6Q1dzJkzx\n",
      "----------------------------------------------------------------------------------------------------\n",
      "ایسوس کامپیوتر بدون کیس جدید خود را معرفی کرد. http://goo.gl/fb/decp7b\n",
      "----------------------------------------------------------------------------------------------------\n",
      "@rohoo\n",
      " ایسوس چندین مدل آل این وان داره در انواع طراحی ها. اپل که فقط یه مدل داره.\n",
      "----------------------------------------------------------------------------------------------------\n",
      "دوستانی که iMac طلایی میخوان، آل این وان جدید ایسوس رو بخرن :)))\n",
      "http://digiato.com/article/2015/06/01/%D8%A2%D9%84-%D8%A7%DB%8C%D9%86-%D9%88%D8%A7%D9%86-%D8%AC%D8%AF%DB%8C%D8%AF-%D8%A7%DB%8C%D8%B3%D9%88%D8%B3-%D9%87%D9%85%D8%B1%D8%A7%D9%87-%D8%A8%D8%A7-%D8%AF%D9%88%D8%B1%D8%A8%DB%8C%D9%86-%D8%B3%D9%87/…\n",
      "----------------------------------------------------------------------------------------------------\n",
      "آل این وان جدید ایسوس همراه با دوربین سه بعدی رونمایی شد\n",
      "\n",
      "http://dgto.ir/1dG4Fmc\n",
      "----------------------------------------------------------------------------------------------------\n",
      "ایسوس کامپیوتر All In One جدید خود را در کامپیوتکس ۲۰۱۵ معرفی کرد http://fb.me/21yGeKnBX\n",
      "----------------------------------------------------------------------------------------------------\n",
      "به نقل از تاجی نیوز کامپیوتر بدون کیسِ فانتزی ایسوس با دوربین سه بعدی و USB 3.1 معرفی ش... http://bit.ly/1I4xRNJ http://tajisoft.com\n",
      "----------------------------------------------------------------------------------------------------\n",
      "آل این وان جدید ایسوس همراه با دوربین سه بعدی رونمایی شد http://newsit.ir/2015/06/01/asus-zen-aio.html…\n",
      "----------------------------------------------------------------------------------------------------\n",
      "آل این وان جدید ایسوس همراه با دوربین سه بعدی رونمایی شد http://fb.me/7kmjrldeF\n",
      "----------------------------------------------------------------------------------------------------\n",
      "آل این وان جدید ایسوس همراه با دوربین سه بعدی رونمایی شد\n",
      "\n",
      "http://dgto.ir/1dG4Fmc\n",
      "----------------------------------------------------------------------------------------------------\n",
      "کامپیوتر بدون کیسِ فانتزی ایسوس با دوربین سه بعدی و USB 3.1 معرفی شد http://dlvr.it/B3F9ly\n",
      "----------------------------------------------------------------------------------------------------\n",
      "کامپیوتر بدون کیسِ فانتزی ایسوس با دوربین سه بعدی و USB 3.1 معرفی شد http://fb.me/6LDsXT6ye\n",
      "----------------------------------------------------------------------------------------------------\n",
      "آل این وان ایسوس All in One Asus ET2311INTH i7 | آل این وان ایسوس ای تی 2311 ایی ان تی اچ |... http://fb.me/7W0KToJN1\n",
      "----------------------------------------------------------------------------------------------------\n",
      "کامپیوتر همه کاره ایسوس مدل A4310\n",
      "تخفیف: ۴%  ۱۰۰,۰۰۰\n",
      "قیمت گذشته: ۲,۷۴۹,۰۰۰\n",
      "قیمت فعلی: ۲,۶۴۹,۰۰۰\n",
      "\n",
      "http://po.st/0OexLJ\n",
      "----------------------------------------------------------------------------------------------------\n",
      "بررسی کامپیوتر بدون کیس et2321 ایسوس\n",
      "http://dvbsat.net/showthread.php?t=3660&p=10481#post10481…\n",
      "----------------------------------------------------------------------------------------------------\n",
      "کامپیوتر بدون کیس 16 اینچی جدید ایسوس\n",
      "http://shabakeh-mag.com/content/273\n",
      "----------------------------------------------------------------------------------------------------\n",
      "مجله خبری آی تی کامپیوتر بدون کیس ۱۶ اینچی جدید ایسوس: Asus ET1620 22 اسفند 1393 ماهنامه… http://goo.gl/fb/Lk7cw1\n",
      "----------------------------------------------------------------------------------------------------\n",
      "برترلینک کامپیوتر بدون کیس ایسوس در راه بازار:  http://tinyurl.com/mmko662 bartarlink.ir\n",
      "----------------------------------------------------------------------------------------------------\n",
      "کامپیوتر بدون کیس ایسوس در راه بازار\n",
      "\n",
      "http://ift.tt/1teZKyV\n",
      "----------------------------------------------------------------------------------------------------\n",
      "کامپیوتر 16 اینچی و بدون کیس ایسوس http://ift.tt/1zahs9x\n",
      "----------------------------------------------------------------------------------------------------\n",
      "ظریف‌ترین کامپیوتر بدون کیس ایسوس آمد http://bit.ly/1HRMbXE\n",
      "----------------------------------------------------------------------------------------------------\n",
      "فرارو: ظریف‌ترین کامپیوتر بدون کیس ایسوس آمد\n",
      "----------------------------------------------------------------------------------------------------\n",
      "مجله خبری آی تی ایسوس رایانه بدون کیس ET2323 را معرفی نمود: رایانه های رومیزی بدون کیس از… http://goo.gl/fb/6tzBhy\n",
      "----------------------------------------------------------------------------------------------------\n",
      "ایسوس رایانه بدون کیس ET2323 را معرفی نمود http://fb.me/70iFxkClj\n",
      "----------------------------------------------------------------------------------------------------\n",
      "ایسوس رایانه بدون کیس ET2323 را معرفی نمود http://nividar.com/news/549e88b85450cf07545ae1fb…\n",
      "----------------------------------------------------------------------------------------------------\n",
      "باریکترین کامپیوتر بدون کیس ایسوس به نام ET2323 معرفی شد\n",
      "\n",
      "http://sakhtafzarmag.com/%D8%A7%D8%AE%D8%A8%D8%A7%D8%B1-%D9%88-%D9%85%D9%82%D8%A7%D9%84%D8%A7%D8%AA/%D8%AF%D8%B3%DA%A9%D8%AA%D8%A7%D9%BE/2389/%D8%A8%D8%A7%D8%B1%DB%8C%DA%A9%D8%AA%D8%B1%DB%8C%D9%86-%DA%A9%D8%A7%D9%85%D9%BE%DB%8C%D9%88%D8%AA%D8%B1-%D8%A8%D8%AF%D9%88%D9%86-%DA%A9%DB%8C%D8%B3-%D8%A7%DB%8C%D8%B3%D9%88%D8%B3-%D8%A8%D9%87-%D9%86%D8%A7%D9%85-et2323-%D9%85%D8%B9%D8%B1%D9%81%DB%8C-%D8%B4%D8%AF…\n",
      "----------------------------------------------------------------------------------------------------\n",
      "(برسام) ظریف ترین کامپیوتر بدون کیس ایسوس معرفی شد: پایگاه خبری فناوری اطلاعات برسام\n",
      "\n",
      "پایگاه خبری فناوری اطلاع... http://bit.ly/1EtQNXp\n",
      "----------------------------------------------------------------------------------------------------\n",
      "(برسام) ظریف ترین کامپیوتر بدون کیس ایسوس معرفی شد: پایگاه خبری فناوری اطلاعات برسام\n",
      "\n",
      "پایگاه خبری فناوری اطلاع... http://bit.ly/1EtQNXp\n",
      "----------------------------------------------------------------------------------------------------\n",
      "کامپیوتر بدون کیس ایسوس وارد بازار ایران شد \n",
      "\n",
      "ET2020A یک کامپیوتر بدون کیس 19.5 اینچی با نمایشگر لمسی LED با... http://fb.me/1UPrK3njU\n",
      "----------------------------------------------------------------------------------------------------\n",
      "ایسوس عرضه کرد: کامپیوتر بدون کیس ET2020A\n",
      "\n",
      "http://ift.tt/1y3CHXu\n",
      "----------------------------------------------------------------------------------------------------\n",
      "(برسام) کامپیوتر بدون کیس ET2020A ایسوس ؛ همه آن چیزی که باید باشد: پایگاه خبری فناوری اطلاعات برسام\n",
      "\n",
      "پایگاه خ... http://bit.ly/1xFJQxh\n",
      "----------------------------------------------------------------------------------------------------\n",
      "کامپیوتر بدون کیس ET2020A ایسوس وارد بازار ایران می‌شود http://dlvr.it/7bqtcY\n",
      "----------------------------------------------------------------------------------------------------\n",
      "کامپیوتر بدون کیس ET2020A ایسوس وارد بازار ایران می‌شود http://fb.me/3cYtQY28q\n",
      "----------------------------------------------------------------------------------------------------\n",
      "مجله خبری آی تی ایسوس عرضه کرد: رایانه بدون کیس ET2020A: قطعا با رایانه های بدون کیس آشنا… http://goo.gl/fb/hb10rY\n",
      "----------------------------------------------------------------------------------------------------\n",
      "ایسوس عرضه کرد: رایانه بدون کیس ET2020A http://dlvr.it/7bqQDy\n",
      "----------------------------------------------------------------------------------------------------\n",
      "کامپیوتر بدون کیس ET2020A ایسوس وارد بازار ایران می‌شود http://nividar.com/news/547097885450cf07541e5db9…\n",
      "----------------------------------------------------------------------------------------------------\n",
      "کامپیوتر بدون کیس ET2020A ایسوس وارد بازار ایران می‌شود - http://goo.gl/fTDJxM\n",
      "----------------------------------------------------------------------------------------------------\n",
      "ایسوس عرضه کرد: رایانه بدون کیس ET2020A http://nividar.com/news/54708dc15450cf07541e5324…\n",
      "----------------------------------------------------------------------------------------------------\n",
      "ایسوس عرضه کرد: رایانه بدون کیس ET2020A http://fb.me/3x4Rq2MqL\n",
      "----------------------------------------------------------------------------------------------------\n",
      "ایسوس سنتر موس جنیوس,All-in-One Mouse & Camera: ترکیبی از موس و وب کم \n",
      "دوربین 2 مگاپیکسل جهت مکا... http://bit.ly/QVjntO asuscenter.ir\n",
      "----------------------------------------------------------------------------------------------------\n",
      "بررسی کامپیوتر بدون کیس ET2321 ایسوس http://1doost.com/share/54b4y2y2a4.htm…\n",
      "----------------------------------------------------------------------------------------------------\n",
      "All In One جدید ایسوس ،محصولی متفاوت برای کارمندان http://dlvr.it/5NdSYF\n",
      "----------------------------------------------------------------------------------------------------\n",
      "@bob_johnson\n",
      " قدیم یادمه IBM\n",
      "یه سری کیس سر هم میفروخت\n",
      "اگه نه کانفیگ all in one شرکتایی مث ایسوس و msi و یه چک بکن\n",
      "----------------------------------------------------------------------------------------------------\n",
      "و آخری : کامپیوتر همه کاره ایسوس ترنسفورمر \n",
      " http://ow.ly/uF52G  \n",
      " http://ow.ly/i/4Vexd \n",
      "#فیو  #ریتوییت\n",
      "----------------------------------------------------------------------------------------------------\n",
      "و آخری : کامپیوتر همه کاره ایسوس ترنسفورمر \n",
      " http://ow.ly/uEqJT \n",
      " http://ow.ly/i/4Vexd\n",
      "----------------------------------------------------------------------------------------------------\n",
      "دارم با خانواده صحبت میکنم کامپیوتر داغون و قدیمیمون که بدن بره به جاش یه آل این وان ایسوس بخرن\n",
      "----------------------------------------------------------------------------------------------------\n",
      "بررسی کامپیوتر بدون کیس ET2321 ایسوس\n",
      "\n",
      "http://zoomit.ir/articles/hardware/desktop-pc/9467-review-aio-et2321-asus…\n",
      "----------------------------------------------------------------------------------------------------\n",
      "بررسی کامپیوتر بدون کیس ET2321 ایسوس\n",
      "\n",
      "http://ift.tt/1hh7yHu\n",
      "----------------------------------------------------------------------------------------------------\n",
      "بررسی کامپیوتر بدون کیس ET2321 ایسوس http://fb.me/6Oj6tL8mu\n",
      "----------------------------------------------------------------------------------------------------\n",
      "بررسی کامپیوتر بدون کیس ET2321 ایسوس http://goo.gl/fb/FfOsQ\n",
      "----------------------------------------------------------------------------------------------------\n",
      "ایسوس کامپیوتر بدون کیس 27 اینچی جدید ET2702IGTH را معرفی کرد http://fb.me/30cukOzyF\n",
      "----------------------------------------------------------------------------------------------------\n",
      "ایسوس کامپیوتر بدون کیس 27 اینچی جدید ET2702IGTH را معرفی کرد\n",
      "\n",
      "http://zoomit.ir/articles/hardware/desktop-pc/8049-asus-all-in-one-et2702igth…\n",
      "----------------------------------------------------------------------------------------------------\n",
      "ایسوس کامپیوتر بدون کیس 27 اینچی جدید ET2702IGTH را معرفی کرد\n",
      "\n",
      "رایانه‌ کامل ایسوس ET2702IGTH با هدف افزایش کاربرد... http://fb.me/6ypt1zubW\n",
      "----------------------------------------------------------------------------------------------------\n",
      "ایسوس کامپیوتر بدون کیس 27 اینچی جدید ET2702IGTH را معرفی کرد: رایانه‌ کامل ایسوس ET2702IGTH با هدف افزایش کاربرد... http://dlvr.it/4Rj7bl\n",
      "----------------------------------------------------------------------------------------------------\n",
      "ایسوس کامپیوتر بدون کیس 27 اینچی جدید et2702igth را معرفی کرد http://urlx.ir/ase - ادامه...\n",
      "----------------------------------------------------------------------------------------------------\n",
      "ایسوس کامپیوتر بدون کیس 27 اینچی جدید et2702igth را معرفی کرد http://urlx.ir/ase - ادامه...\n",
      "----------------------------------------------------------------------------------------------------\n",
      "(گجت نیوز) کامپیوتر بدون کیس 27 اینچی جدید ايسوس معرفي شد: \n",
      "\n",
      "رایانه کامل ایسوس ET2702IGTH با هدف افزایش ... http://bit.ly/1eVX528\n",
      "----------------------------------------------------------------------------------------------------\n",
      "ایسوس کامپیوتر بدون کیس 27 اینچی جدید ET2702IGTH را معرفی کرد http://tinyurl.com/ohkhyv6\n",
      "----------------------------------------------------------------------------------------------------\n",
      "ایسوس کامپیوتر بدون کیس 27 اینچی جدید ET2702IGTH را معرفی کرد: رایانه‌ کامل ایسوس ET2702IGTH با هدف افزایش کار... http://bit.ly/1cVzVqQ\n",
      "----------------------------------------------------------------------------------------------------\n",
      "ایسوس کامپیوتر بدون کیس 27 اینچی جدید ET2702IGTH را معرفی کرد\n",
      "\n",
      "http://ift.tt/19gxYm3\n",
      "----------------------------------------------------------------------------------------------------\n",
      "ایسوس کامپیوتر بدون کیس 27 اینچی جدید ET2702IGTH را معرفی کرد http://goo.gl/fb/3rcCp\n",
      "----------------------------------------------------------------------------------------------------\n",
      "(زومیت) ایسوس کامپیوتر بدون کیس 27 اینچی جدید ET2702IGTH را معرفی کرد: رایانه‌ کامل ایسوس ET2702IGTH با هدف اف... http://bit.ly/1eVfn3A\n",
      "----------------------------------------------------------------------------------------------------\n",
      "کامپیوتر همه کاره جدید ایسوس: ساده، نازک، شیک\n",
      "http://youtube.com/watch?v=9dXIU0zKuD8… http://fb.me/1ta1KuN07\n",
      "----------------------------------------------------------------------------------------------------\n",
      "ASUS P1801-TAiO: هم کامپیوتر هم تبلت\n",
      "\n",
      "Transformer AiO ایسوس اولین کامپیوتر بدون کیس دنیا است که صفحه نمایش آن... http://fb.me/2gwJYPyB9\n",
      "----------------------------------------------------------------------------------------------------\n",
      "ASUS P1801-TAiO: هم کامپیوتر هم تبلت\n",
      "\n",
      "Transformer AiO ایسوس اولین کامپیوتر بدون کیس دنیا است که صفحه نمایش آن... http://fb.me/1Ppvhak1g\n",
      "----------------------------------------------------------------------------------------------------\n",
      "این تبلیغ کامپیوتر بدون کیس ایسوس هم دست بردار نیست ، بسه دیگه برادر من\n",
      "----------------------------------------------------------------------------------------------------\n",
      "چندی پیش ایسوس به عنوان یکی از شرکت‌های پیشرو در تکنولوژی یک کامپیوتر بدون کیس که به All in One معروف می‌باشد را... http://fb.me/2npCsN776\n",
      "----------------------------------------------------------------------------------------------------\n",
      "اولین کامپیوتر بدون کیس با قابلیت حمل  در دنیا  توسط ASUS  معرفی شد.\n",
      "  ASUS P1801-T AiO \n",
      "چندی پیش ایسوس به... http://fb.me/1QPp2EzEE\n",
      "----------------------------------------------------------------------------------------------------\n",
      "محصولی خلاقانه از ایسوس، All-in-One یا تبلت؟!: ظاهرا ایسوس علاقه خاصی به تولید محصولات چند… http://goo.gl/fb/xt5vi\n",
      "----------------------------------------------------------------------------------------------------\n",
      "عرضه یک محصول هیبریدی از ایسوس\n",
      "All-in-One یا تبلت ؟مسئله این است؟\n",
      "همیشه در فیلم های سینمایی و یا کتاب های تخیلی... http://fb.me/sHaRFlDq\n",
      "----------------------------------------------------------------------------------------------------\n",
      "عرضه یک محصول هیبریدی از ایسوس\n",
      "All-in-One یا تبلت ؟مسئله این است؟\n",
      "همیشه در فیلم های سینمایی و یا کتاب های تخیلی... http://fb.me/25LIEyr6m\n",
      "----------------------------------------------------------------------------------------------------\n",
      "@SKALANTER\n",
      " آل-این-وان ایسوس چند مدل داره بدک نیست یه نگاهی هم به اونا بنداز\n",
      "----------------------------------------------------------------------------------------------------\n",
      "درگیر نوشتن بررسی آل این وان ایسوس هستم\n",
      "----------------------------------------------------------------------------------------------------\n",
      "در مراسم رونمایی ایسوس :جدیدترین ALL-in-One های ایسوس معرفی شدند\n",
      "ایسوس به عنوان یکی بزرگ‌ترین تولید کنندگان... http://fb.me/2jHKE3j9l\n",
      "----------------------------------------------------------------------------------------------------\n",
      "نگاه نزدیک: کامپیوترهای بدون کیس (All in One) ایسوس - زومیت http://fb.me/244bQO25f\n",
      "----------------------------------------------------------------------------------------------------\n",
      "نگاه نزدیک: کامپیوترهای بدون کیس (All in One) ایسوس http://fb.me/1NxBg7i2n\n",
      "----------------------------------------------------------------------------------------------------\n",
      "نگاه نزدیک: کامپیوترهای بدون کیس (All in One) ایسوس: روز به روز بر محبوبیت کامپیوترهای بدون کیس یا All in Oneها ... http://bit.ly/ZwuxXA\n",
      "----------------------------------------------------------------------------------------------------\n",
      "نگاه نزدیک: کامپیوترهای بدون کیس (All in One) ایسوس http://bit.ly/U1c4hQ روز به روز بر محبوبیت کامپیوترهای بدون کیس یا All in Oneها اف...\n",
      "----------------------------------------------------------------------------------------------------\n",
      "نگاه نزدیک: کامپیوترهای بدون کیس (All in One) ایسوس http://goo.gl/fb/SYz8c\n",
      "----------------------------------------------------------------------------------------------------\n",
      "( zoomit ) نگاه نزدیک: کامپیوترهای بدون کیس (All in One) ایسوس: روز به روز بر محبوبیت کامپیوترهای بدون کیس یا Al... http://bit.ly/Svs3Xl\n",
      "----------------------------------------------------------------------------------------------------\n",
      "گزارش نارنجی: کنفرانس معرفی All in One های مجهز به ویندوز ۸ ایسوس http://goo.gl/fb/Pe3KA\n",
      "----------------------------------------------------------------------------------------------------\n",
      "گزارش نارنجی: کنفرانس معرفی All in One های مجهز به ویندوز ۸ ایسوس http://nblo.gs/FZ6os\n",
      "----------------------------------------------------------------------------------------------------\n",
      "\"گزارش نارنجی: کنفرانس معرفی All in One های مجهز به ویندوز ۸ ایسوس\" http://bit.ly/SptuGU #Narenji\n",
      "----------------------------------------------------------------------------------------------------\n",
      "گزارش نارنجی: کنفرانس معرفی All in One های مجهز به ویندوز ۸ ایسوس http://bit.ly/SptuGU کامپیوترهای All in one مدتی است که توسط شرکت‌ها...\n",
      "----------------------------------------------------------------------------------------------------\n",
      "نارنجی: گزارش نارنجی: کنفرانس معرفی All in One های مجهز به ویندوز ۸ ایسوس http://narenji.ir/6280\n",
      "----------------------------------------------------------------------------------------------------\n",
      "گزارش نارنجی: کنفرانس معرفی All in One های مجهز به ویندوز ۸ ایسوس: \n",
      "\n",
      "     ... http://narenji.ir/6280\n",
      "----------------------------------------------------------------------------------------------------\n",
      "(Narenji) گزارش نارنجی: کنفرانس معرفی All in One های مجهز به ویندوز ۸ ایسوس: \n",
      "\n",
      "                ... http://narenji.ir/6280\n",
      "----------------------------------------------------------------------------------------------------\n",
      "(گجت نیوز) Asus از کامپيوتر روميزي ويندوز 8 جديد خود رونمايي کرد: \n",
      "\n",
      "شرکت ایسوس یک کامپیوتر All-in-one جدید... http://bit.ly/SxbKES\n",
      "----------------------------------------------------------------------------------------------------\n",
      "(PCWAR) کامپیوتر ویندوز 8 ایسوس ET2300 معرفی شد: \n",
      "\n",
      "شرکت ایسوس یک کامپیوتر All-in-one جدید معرفی نمود، پی سی با ... http://bit.ly/Xeb4Z3\n",
      "----------------------------------------------------------------------------------------------------\n",
      "ET2012IUTS؛ سیستم‌ چندکاره ایسوس با قابلیت اتصال به دیوار: سیستم‌های چندکاره (All-In-One) http://bit.ly/OLYb0V\n",
      "----------------------------------------------------------------------------------------------------\n",
      "ET2012IUTS – دستگاه All In one زیبا و پرکاربرد:   ایسوس هرماه محصولات جدیدی را در زمینه‌های متفاوت عرضه می‌نماید... http://bit.ly/PA5xoT\n",
      "----------------------------------------------------------------------------------------------------\n",
      "با وجود آل این وان های دِل، تبلت های ایسوس، گوشی های سامسونگ، و اولترابوک های اچ اپی، اپل می تونه بیاد بخوره\n",
      "----------------------------------------------------------------------------------------------------\n",
      "فیلم // کامپیوتر بدون کیس ۱۸.۴ اینچی ایسوس:  http://bit.ly/LuyT9l\n",
      "----------------------------------------------------------------------------------------------------\n",
      "جشنواره فروش محصولات   All-In-One ایسوس\n",
      "\n",
      "امروزه دستگاه های کامپیوتری یک پارچه یا All-In-One مورد توجه بسیاری از... http://fb.me/1p02m5tsz\n",
      "----------------------------------------------------------------------------------------------------\n",
      "کامپیوترهای سری E ایسوس برای میز کار: روز گذشته سه کامپیوتر رومیزی All-in-One جدید از شرکت ایسوس معرفی شد ... http://tinyurl.com/3p93bxk\n",
      "----------------------------------------------------------------------------------------------------\n",
      "کامپیوترهای سری E ایسوس برای میز کار: روز گذشته سه کامپیوتر رومیزی All-in-One جدید از شرکت ایسوس معرفی شد که در ... http://bit.ly/r9LZ62\n",
      "----------------------------------------------------------------------------------------------------\n"
     ]
    }
   ],
   "source": [
    "df = pd.read_csv(DATA_DIR / 'data/All_In_One.csv')\n",
    "df = df.loc[df.User_ID != '@DelliranC']\n",
    "\n",
    "for text in df[df['Text'].str.contains(\"ایسوس\")].Text:\n",
    "    print(text)\n",
    "    print('-'*100)"
   ]
  },
  {
   "cell_type": "code",
   "execution_count": null,
   "id": "85e08501-8b36-4d40-8d3e-bfa16e63ec7a",
   "metadata": {},
   "outputs": [],
   "source": []
  },
  {
   "cell_type": "code",
   "execution_count": null,
   "id": "b299b077-13e5-4c23-b24f-121f72f03070",
   "metadata": {},
   "outputs": [],
   "source": []
  }
 ],
 "metadata": {
  "kernelspec": {
   "display_name": "Python 3 (ipykernel)",
   "language": "python",
   "name": "python3"
  },
  "language_info": {
   "codemirror_mode": {
    "name": "ipython",
    "version": 3
   },
   "file_extension": ".py",
   "mimetype": "text/x-python",
   "name": "python",
   "nbconvert_exporter": "python",
   "pygments_lexer": "ipython3",
   "version": "3.8.13"
  }
 },
 "nbformat": 4,
 "nbformat_minor": 5
}
